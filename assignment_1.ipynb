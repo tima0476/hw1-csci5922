{
  "nbformat": 4,
  "nbformat_minor": 0,
  "metadata": {
    "colab": {
      "name": "assignment_1.ipynb",
      "provenance": [],
      "collapsed_sections": []
    },
    "kernelspec": {
      "display_name": "Python 3",
      "language": "python",
      "name": "python3"
    },
    "language_info": {
      "codemirror_mode": {
        "name": "ipython",
        "version": 3
      },
      "file_extension": ".py",
      "mimetype": "text/x-python",
      "name": "python",
      "nbconvert_exporter": "python",
      "pygments_lexer": "ipython3",
      "version": "3.7.6"
    }
  },
  "cells": [
    {
      "cell_type": "markdown",
      "metadata": {
        "colab_type": "text",
        "id": "yI6QRw_VVhOI"
      },
      "source": [
        "# <center> Neural Networks and Deep Learning (CSCI 5922)</center>\n",
        "# <center> Spring 2020 </center>"
      ]
    },
    {
      "cell_type": "markdown",
      "metadata": {
        "colab_type": "text",
        "id": "oyyZSLCIVhOK"
      },
      "source": [
        "**Name:** Timothy Mason"
      ]
    },
    {
      "cell_type": "markdown",
      "metadata": {
        "colab_type": "text",
        "id": "B7u4l5SIVhOL"
      },
      "source": [
        "## Goal"
      ]
    },
    {
      "cell_type": "markdown",
      "metadata": {
        "colab_type": "text",
        "id": "O7mbNY0lVhOL"
      },
      "source": [
        "The goal of this assignment is to introduce neural networks in terms of ideas you are already familiar with:  linear regression and classification"
      ]
    },
    {
      "cell_type": "markdown",
      "metadata": {
        "colab_type": "text",
        "id": "7kNKcDdGDO4z"
      },
      "source": [
        "## Dataset"
      ]
    },
    {
      "cell_type": "markdown",
      "metadata": {
        "colab_type": "text",
        "id": "w-ZVWvA4VhON"
      },
      "source": [
        "You are given a dataset with 2 input variables ($x_1$, $x_2$) and an output variable ($y$)."
      ]
    },
    {
      "cell_type": "code",
      "metadata": {
        "colab_type": "code",
        "id": "qluUEgHYVhOO",
        "outputId": "1c9a9a6b-e611-46f2-8611-825820e40871",
        "colab": {
          "base_uri": "https://localhost:8080/",
          "height": 34
        }
      },
      "source": [
        "from sklearn.datasets import make_regression\n",
        "from matplotlib import pyplot\n",
        "import numpy as np\n",
        "import os\n",
        "try:\n",
        "    from google.colab import drive\n",
        "    drive.mount('/content/drive', force_remount=True)\n",
        "\n",
        "    # Load data from gDrive\n",
        "    data = np.loadtxt(os.path.join('/content/drive/My Drive/spring2020/hw1-csci5922/data', 'assign1_data.txt'),  delimiter=',')\n",
        "except:\n",
        "    # Load data - relative path from notebook\n",
        "    data = np.loadtxt(os.path.join('data', 'assign1_data.txt'),  delimiter=',')\n",
        "    \n",
        "X = data[:,:2]\n",
        "y = data[:, 2]\n",
        "z = data[:, 3]"
      ],
      "execution_count": 1,
      "outputs": [
        {
          "output_type": "stream",
          "text": [
            "Mounted at /content/drive\n"
          ],
          "name": "stdout"
        }
      ]
    },
    {
      "cell_type": "markdown",
      "metadata": {
        "colab_type": "text",
        "id": "ZiLhj-CvVhOQ"
      },
      "source": [
        "## Part 1"
      ]
    },
    {
      "cell_type": "markdown",
      "metadata": {
        "colab_type": "text",
        "id": "1zNUNcC0VhOR"
      },
      "source": [
        "Write a program to find the exact least squares solution to $y = w_1 x_1 + w_2 x_2 + b$ for the above dataset, using the normal equation."
      ]
    },
    {
      "cell_type": "markdown",
      "metadata": {
        "colab_type": "text",
        "id": "txzccR6-VhOS"
      },
      "source": [
        "Complete the following function below and use it to answer questions (A) and (B). \n",
        "\n",
        "**Note:** Please do not change the interface of the given function."
      ]
    },
    {
      "cell_type": "code",
      "metadata": {
        "colab_type": "code",
        "id": "gFAcJL6VVhOS",
        "colab": {}
      },
      "source": [
        "def least_squares(X, y):\n",
        "    \"\"\"\n",
        "    Finds the Least Squares solution\n",
        "    \n",
        "    Parameters\n",
        "    ----------\n",
        "    X : NumPy array of features (size : no of examples X features)\n",
        "    y : Numpy array of output value 'y' (size : no of examples X 1)\n",
        "    \n",
        "    Returns\n",
        "    -------\n",
        "    w : solution array\n",
        "    \"\"\"\n",
        "\n",
        "    # From the text:  \"Instead of adding the bias parameter b, one can continue to use \n",
        "    # the model with only weights but augment x with an extra entry that is always set \n",
        "    # to 1. The weight corresponding to the extra 1 entry plays the role of the bias \n",
        "    # parameter.\"\n",
        "\n",
        "    X = np.c_[np.ones((X.shape[0],1)), X]   # Augment X's with extra 1's\n",
        "\n",
        "    # Calculate the normal equation.\n",
        "    w = np.linalg.inv(X.T @ X) @ X.T @ y\n",
        "\n",
        "    return w"
      ],
      "execution_count": 0,
      "outputs": []
    },
    {
      "cell_type": "markdown",
      "metadata": {
        "colab_type": "text",
        "id": "ZcO-nAfxVhOV"
      },
      "source": [
        "(A) Report the values of $w_1$, $w_2$, and $b$."
      ]
    },
    {
      "cell_type": "code",
      "metadata": {
        "colab_type": "code",
        "id": "5sXuI05yVhOV",
        "outputId": "1fe611e2-29c8-4c75-f3c8-58d0dd4c61b0",
        "colab": {
          "base_uri": "https://localhost:8080/",
          "height": 68
        }
      },
      "source": [
        "w = least_squares(X, y)\n",
        "print(f\"w_1 = {w[1]}\\nw_2 = {w[2]}\\n  b = {w[0]}\")"
      ],
      "execution_count": 3,
      "outputs": [
        {
          "output_type": "stream",
          "text": [
            "w_1 = -2.0442425951376353\n",
            "w_2 = 3.996860168659322\n",
            "  b = -0.9242908118675891\n"
          ],
          "name": "stdout"
        }
      ]
    },
    {
      "cell_type": "markdown",
      "metadata": {
        "colab_type": "text",
        "id": "S-jYwaEbVhOY"
      },
      "source": [
        "(B) What function or method did you use to find the least-squares solution?"
      ]
    },
    {
      "cell_type": "markdown",
      "metadata": {
        "colab_type": "text",
        "id": "OF8A7mYEVhOY"
      },
      "source": [
        "> The linear regression was calculated using the equation: \n",
        "> \n",
        "> $$\\mathbf{w} = \\left( \\mathbf{X}^\\top \\mathbf{X} \\right)^{-1} \\mathbf{X}^\\top \\mathbf{y}$$\n",
        "> \n",
        "> \n",
        "> The vector $\\mathbf{w}$ provides the weight coefficients for the prediction $\\hat{y}$:\n",
        "> \n",
        "> $$ \\hat{y} = \\mathbf{w}^\\top \\mathbf{x} = w_1 x_1 + w_2 x_2 + \\ldots + w_m x_m$$\n",
        "> \n",
        "> \n",
        "> Note that the requirement was to find the exact least squares solution to $y = w_1 x_1 + w_2 x_2 + b$.  \n",
        ">\n",
        "> To find the $b$ term, an extra column of 1's was inserted as the leftmost column of the $\\mathbf{X}$ matrix,\n",
        "> which adds a new term $x_0 = 1$.  This caused the normal \n",
        "> equation to solve for \n",
        "> \n",
        "> $$\n",
        "\\begin{split}\n",
        "    \\hat{y} = \\mathbf{w}^\\top \\mathbf{x} & =  w_0 x_0 + w_1 x_1 + w_2 x_2 \\\\\n",
        "    \\\\\n",
        "    \\text{Note that we set } x_0 = 1 \\text{, therefore: } \\hat{y} & = w_0 + w_1 x_1 + w_2 x_2 \\\\\n",
        "    \\\\\n",
        "    \\text{Let }w_0=b\\text{, and we have: } \\hat{y} & = w_1 x_1 + w_2 x_2 + b\n",
        "\\end{split}\n",
        "$$\n",
        ">"
      ]
    },
    {
      "cell_type": "markdown",
      "metadata": {
        "colab_type": "text",
        "id": "_qNGRMnLVhOZ"
      },
      "source": [
        "## Part 2"
      ]
    },
    {
      "cell_type": "markdown",
      "metadata": {
        "colab_type": "text",
        "id": "K2C1Pj1xVhOZ"
      },
      "source": [
        "Implement linear regression of y on X via first-order optimization of the least-squares objective. Write a program that determines the coefficients {w1,w2,b}. Implement stochastic gradient descent, batch gradient descent, and mini-batch gradient descent. You will need to experiment with updating rules, step sizes (i.e. learning rates), stopping criteria, etc. Experiment to find settings that lead to solutions with the fewest number of sweeps through the data."
      ]
    },
    {
      "cell_type": "markdown",
      "metadata": {
        "colab_type": "text",
        "id": "Dz9LPxNsVhOa"
      },
      "source": [
        "Complete the following functions below and use them to answer questions (A), (B) and (C). You may find the shuffle function from scikit-learn useful. \n",
        "\n",
        "Use the following hyperparameters:\n",
        "\n",
        "Learning rates = [0.001, 0.05, 0.01, 0.05, 0.1, 0.3]\n",
        "\n",
        "MaxIter = [10, 50, 100, 500, 1000, 5000, 10000, 25000, 50000]\n",
        "\n",
        "**Note:** Please do not change the interface of the given functions."
      ]
    },
    {
      "cell_type": "code",
      "metadata": {
        "colab_type": "code",
        "id": "9rCKocs6VhOb",
        "colab": {}
      },
      "source": [
        "from sklearn.utils import shuffle\n",
        "\n",
        "def online_epoch(X, y, w, rate):\n",
        "    \"\"\"\n",
        "    One epoch of stochastic gradient descent (i.e. one sweep of the dataset).\n",
        "    \n",
        "    Parameters\n",
        "    ----------\n",
        "    X : NumPy array of features (size : no of examples X features)\n",
        "    y : Numpy array of class labels (size : no of examples X 1)\n",
        "    w : array of coefficients from the previous iteration\n",
        "    \n",
        "    Returns\n",
        "    -------\n",
        "    a tuple containing Coefficients of the model (after updating) and the loss\n",
        "    \"\"\"\n",
        "\n",
        "    # make a prediction with our current set of weights\n",
        "    y_hat = np.sum(X * w,axis=1)\n",
        "\n",
        "    # compute the error\n",
        "    err = y_hat - y\n",
        "    loss = np.sum(err**2) / err.shape[0]\n",
        "\n",
        "    # compute the gradient\n",
        "    grad = X.T @ err / X.shape[0]\n",
        "\n",
        "    # update the weights\n",
        "    w = w - rate * grad\n",
        "\n",
        "    # Return the updated weights.\n",
        "    return (w,loss)\n",
        "\n",
        "def batch_update(X, y, w):\n",
        "    \"\"\"\n",
        "    One iteration of full-batch gradient descent.\n",
        "    \n",
        "    Parameters\n",
        "    ----------\n",
        "    X : NumPy array of features (size : no of examples X features)\n",
        "    y : Numpy array of class labels (size : no of examples X 1)\n",
        "    w : array of coefficients from the previous iteration\n",
        "    \n",
        "    Returns\n",
        "    -------\n",
        "    Coefficients of the model (after updating)\n",
        "    \"\"\"\n",
        "    pass\n",
        "\n",
        "def mini_batch_update(X, y, w, batch_size):\n",
        "    \"\"\"\n",
        "    One epoch of mini-batch SGD over the entire dataset (i.e. one sweep of the dataset).\n",
        "    \n",
        "    Parameters\n",
        "    ----------\n",
        "    X : NumPy array of features (size : no of examples X features)\n",
        "    y : Numpy array of class labels (size : no of examples X 1)\n",
        "    w : array of coefficients from the previous iteration\n",
        "    batch_size : size of the batch for gradient update\n",
        "    \n",
        "    Returns\n",
        "    -------\n",
        "    Coefficients of the model (after updating)\n",
        "    \"\"\"\n",
        "    pass\n",
        "\n",
        "def least_squares_grad_desc(X, y, maxIter, alpha, update, *batch_size):\n",
        "    \"\"\"\n",
        "    Implements least squares with gradient descent.\n",
        "    \n",
        "    Parameters\n",
        "    ----------\n",
        "    X : NumPy array of features (size : no of examples X features)\n",
        "    y : Numpy array of class labels (size : no of examples X 1)\n",
        "    maxIter : Maximum number of iterations allowed\n",
        "    alpha : Learning rate\n",
        "    update : update function to utilize (one of online, batch, mini-batch)\n",
        "    batch_size : number of examples in a batch (only useful when update = mini_batch_update)\n",
        "    \n",
        "    Returns\n",
        "    -------\n",
        "    Coefficients of the model (after updating)\n",
        "    \n",
        "    Note : *batch_size is an optional argument and only to be used when doing mini-batch Gradient Descent \n",
        "    \"\"\"\n",
        "    pass"
      ],
      "execution_count": 0,
      "outputs": []
    },
    {
      "cell_type": "markdown",
      "metadata": {
        "colab_type": "text",
        "id": "zYMi7e8ZVhOd"
      },
      "source": [
        "(A) Report the values of $w_1$, $w_2$, and $b$. "
      ]
    },
    {
      "cell_type": "code",
      "metadata": {
        "colab_type": "code",
        "id": "uJ2UpCAbVhOd",
        "colab": {
          "base_uri": "https://localhost:8080/",
          "height": 1000
        },
        "outputId": "552a81e6-6b12-44ba-96c5-d51652a6e58c"
      },
      "source": [
        "rates = [0.001, 0.05, 0.01, 0.05, 0.1, 0.3]\n",
        "MaxIter = [10, 50, 100, 500, 1000, 5000, 10000, 25000, 50000]\n",
        "\n",
        "Xaug = np.c_[np.ones((X.shape[0],1)), X]   # Augment X's with extra 1's for the bias term\n",
        "\n",
        "print(\"Batch gradient descent:\")\n",
        "for r in rates:\n",
        "    w = np.ones((Xaug.shape[1]))  # make a naive initial guess at the weights\n",
        "    for mi in MaxIter:\n",
        "        for i in range(mi):\n",
        "            w,l = online_epoch(Xaug, y, w, r)\n",
        "        print(f\"  Rate {r}, MaxIter {mi}, Loss {l}:  w1 {w[1]}, w2 {w[2]}, b {w[0]}\")\n",
        "    print()\n"
      ],
      "execution_count": 10,
      "outputs": [
        {
          "output_type": "stream",
          "text": [
            "Batch gradient descent:\n",
            "  Rate 0.001, MaxIter 10, Loss 4.609224300723863:  w1 0.989726153123425, w2 0.9932536102070396, b 0.9816572110238178\n",
            "  Rate 0.001, MaxIter 50, Loss 4.1604043624881095:  w1 0.9401869505940315, w2 0.9614389246948667, b 0.8937632083350526\n",
            "  Rate 0.001, MaxIter 100, Loss 3.4335788828240266:  w1 0.8495892479236549, w2 0.9066793670257322, b 0.7356650083965098\n",
            "  Rate 0.001, MaxIter 500, Loss 1.7393405534155428:  w1 0.5228777557497403, w2 0.763907589369601, b 0.20771123597543312\n",
            "  Rate 0.001, MaxIter 1000, Loss 1.1232870834047892:  w1 0.1884220936233453, w2 0.7995119719928463, b -0.19313376536790697\n",
            "  Rate 0.001, MaxIter 5000, Loss 0.5786292324377683:  w1 -0.5190754151081775, w2 1.6543610987014312, b -0.4568372489592186\n",
            "  Rate 0.001, MaxIter 10000, Loss 0.1800957723711253:  w1 -1.2991474784606216, w2 2.781551882035172, b -0.6599172977185872\n",
            "  Rate 0.001, MaxIter 25000, Loss 0.04439073236996946:  w1 -1.9215766635241602, w2 3.7599023076091442, b -0.8620129862723194\n",
            "  Rate 0.001, MaxIter 50000, Loss 0.03941567887185795:  w1 -2.041197085216621, w2 3.9876292511564015, b -0.9210422278697924\n",
            "\n",
            "  Rate 0.05, MaxIter 10, Loss 2.141014761070578:  w1 0.6011639789920291, w2 0.7825688374125912, b 0.3222416957013117\n",
            "  Rate 0.05, MaxIter 50, Loss 0.9276834273678964:  w1 -0.057578693594764425, w2 1.0251793806602767, b -0.33609902695750327\n",
            "  Rate 0.05, MaxIter 100, Loss 0.49186049086977024:  w1 -0.6598716112524927, w2 1.8535052286318379, b -0.4913860032414321\n",
            "  Rate 0.05, MaxIter 500, Loss 0.05519664674710894:  w1 -1.8155035136374509, w2 3.581226618564293, b -0.8214970736661205\n",
            "  Rate 0.05, MaxIter 1000, Loss 0.03942982104473839:  w1 -2.038463133766226, w2 3.9808408440091037, b -0.9188878062568079\n",
            "  Rate 0.05, MaxIter 5000, Loss 0.03940884341395221:  w1 -2.0442425957313097, w2 3.996860166615728, b -0.9242908105466626\n",
            "  Rate 0.05, MaxIter 10000, Loss 0.039408843413952205:  w1 -2.04424259513769, w2 3.996860168659263, b -0.9242908118675357\n",
            "  Rate 0.05, MaxIter 25000, Loss 0.039408843413952205:  w1 -2.04424259513769, w2 3.996860168659263, b -0.9242908118675357\n",
            "  Rate 0.05, MaxIter 50000, Loss 0.039408843413952205:  w1 -2.04424259513769, w2 3.996860168659263, b -0.9242908118675357\n",
            "\n",
            "  Rate 0.01, MaxIter 10, Loss 3.908176229702686:  w1 0.9021532163117246, w2 0.9376598385469909, b 0.8267819117161375\n",
            "  Rate 0.01, MaxIter 50, Loss 1.8528589165796714:  w1 0.5520803728621957, w2 0.7707695976385953, b 0.25035875575987954\n",
            "  Rate 0.01, MaxIter 100, Loss 1.1380487414021707:  w1 0.20163074163489506, w2 0.7909645996599997, b -0.18276197161184257\n",
            "  Rate 0.01, MaxIter 500, Loss 0.5835122776773742:  w1 -0.5127490061373483, w2 1.6454134733499324, b -0.4552870447254102\n",
            "  Rate 0.01, MaxIter 1000, Loss 0.18130856494299025:  w1 -1.2962185833149902, w2 2.7771550292263387, b -0.6590715082500811\n",
            "  Rate 0.01, MaxIter 5000, Loss 0.03959165135381804:  w1 -2.024493934487461, w2 3.950156854067576, b -0.9099145381698196\n",
            "  Rate 0.01, MaxIter 10000, Loss 0.03940884385521048:  w1 -2.0442368526083023, w2 3.9967849279899967, b -0.9242552770738008\n",
            "  Rate 0.01, MaxIter 25000, Loss 0.03940884341395222:  w1 -2.0442425951420358, w2 3.996860168647842, b -0.9242908118596663\n",
            "  Rate 0.01, MaxIter 50000, Loss 0.039408843413952205:  w1 -2.0442425951379044, w2 3.9968601686590386, b -0.9242908118673288\n",
            "\n",
            "  Rate 0.05, MaxIter 10, Loss 2.141014761070578:  w1 0.6011639789920291, w2 0.7825688374125912, b 0.3222416957013117\n",
            "  Rate 0.05, MaxIter 50, Loss 0.9276834273678964:  w1 -0.057578693594764425, w2 1.0251793806602767, b -0.33609902695750327\n",
            "  Rate 0.05, MaxIter 100, Loss 0.49186049086977024:  w1 -0.6598716112524927, w2 1.8535052286318379, b -0.4913860032414321\n",
            "  Rate 0.05, MaxIter 500, Loss 0.05519664674710894:  w1 -1.8155035136374509, w2 3.581226618564293, b -0.8214970736661205\n",
            "  Rate 0.05, MaxIter 1000, Loss 0.03942982104473839:  w1 -2.038463133766226, w2 3.9808408440091037, b -0.9188878062568079\n",
            "  Rate 0.05, MaxIter 5000, Loss 0.03940884341395221:  w1 -2.0442425957313097, w2 3.996860166615728, b -0.9242908105466626\n",
            "  Rate 0.05, MaxIter 10000, Loss 0.039408843413952205:  w1 -2.04424259513769, w2 3.996860168659263, b -0.9242908118675357\n",
            "  Rate 0.05, MaxIter 25000, Loss 0.039408843413952205:  w1 -2.04424259513769, w2 3.996860168659263, b -0.9242908118675357\n",
            "  Rate 0.05, MaxIter 50000, Loss 0.039408843413952205:  w1 -2.04424259513769, w2 3.996860168659263, b -0.9242908118675357\n",
            "\n",
            "  Rate 0.1, MaxIter 10, Loss 1.4072345665524986:  w1 0.3629172089494216, w2 0.7308377045272298, b -0.022408715933727598\n",
            "  Rate 0.1, MaxIter 50, Loss 0.6350255157111984:  w1 -0.44779848869699507, w2 1.5537295954764672, b -0.4394586650421698\n",
            "  Rate 0.1, MaxIter 100, Loss 0.19407105629325647:  w1 -1.266187071545363, w2 2.7321549035090453, b -0.6504414545589499\n",
            "  Rate 0.1, MaxIter 500, Loss 0.03960393372822627:  w1 -2.023928923311699, w2 3.9489100916470243, b -0.9095487040081498\n",
            "  Rate 0.1, MaxIter 1000, Loss 0.03940884386730028:  w1 -2.0442368967271016, w2 3.9967843467521895, b -0.9242549605739869\n",
            "  Rate 0.1, MaxIter 5000, Loss 0.03940884341395223:  w1 -2.0442425951376633, w2 3.9968601686592913, b -0.9242908118675617\n",
            "  Rate 0.1, MaxIter 10000, Loss 0.03940884341395223:  w1 -2.0442425951376633, w2 3.9968601686592913, b -0.9242908118675617\n",
            "  Rate 0.1, MaxIter 25000, Loss 0.03940884341395223:  w1 -2.0442425951376633, w2 3.9968601686592913, b -0.9242908118675617\n",
            "  Rate 0.1, MaxIter 50000, Loss 0.03940884341395223:  w1 -2.0442425951376633, w2 3.9968601686592913, b -0.9242908118675617\n",
            "\n",
            "  Rate 0.3, MaxIter 10, Loss 0.9549398866873912:  w1 -0.06586565482434605, w2 1.0253153698936834, b -0.3461730428062547\n",
            "  Rate 0.3, MaxIter 50, Loss 0.1588376167156136:  w1 -1.3768893376561917, w2 2.89674783672995, b -0.6815993025215376\n",
            "  Rate 0.3, MaxIter 100, Loss 0.041502531213194825:  w1 -1.9698039805635248, w2 3.844898189620893, b -0.8823454671362244\n",
            "  Rate 0.3, MaxIter 500, Loss 0.03940884342080573:  w1 -2.044242820957222, w2 3.9968510779010304, b -0.924286082013441\n",
            "  Rate 0.3, MaxIter 1000, Loss 0.03940884341395221:  w1 -2.0442425951376633, w2 3.9968601686592624, b -0.924290811867546\n",
            "  Rate 0.3, MaxIter 5000, Loss 0.039408843413952226:  w1 -2.0442425951376455, w2 3.99686016865931, b -0.9242908118675788\n",
            "  Rate 0.3, MaxIter 10000, Loss 0.039408843413952226:  w1 -2.0442425951376455, w2 3.99686016865931, b -0.9242908118675788\n",
            "  Rate 0.3, MaxIter 25000, Loss 0.039408843413952226:  w1 -2.0442425951376455, w2 3.99686016865931, b -0.9242908118675788\n",
            "  Rate 0.3, MaxIter 50000, Loss 0.039408843413952226:  w1 -2.0442425951376455, w2 3.99686016865931, b -0.9242908118675788\n",
            "\n"
          ],
          "name": "stdout"
        }
      ]
    },
    {
      "cell_type": "code",
      "metadata": {
        "colab_type": "code",
        "id": "WWht3FM2VhOf",
        "colab": {}
      },
      "source": [
        ""
      ],
      "execution_count": 0,
      "outputs": []
    },
    {
      "cell_type": "code",
      "metadata": {
        "colab_type": "code",
        "id": "Vf1YmHkPVhOh",
        "colab": {}
      },
      "source": [
        ""
      ],
      "execution_count": 0,
      "outputs": []
    },
    {
      "cell_type": "markdown",
      "metadata": {
        "colab_type": "text",
        "id": "mMNxMJJdVhOj"
      },
      "source": [
        "(B) What settings worked well for you:  online vs. batch vs. minibatch? What step size? How did you decide to terminate?"
      ]
    },
    {
      "cell_type": "code",
      "metadata": {
        "colab_type": "code",
        "id": "PyFSefo3VhOk",
        "colab": {}
      },
      "source": [
        ""
      ],
      "execution_count": 0,
      "outputs": []
    },
    {
      "cell_type": "markdown",
      "metadata": {
        "colab_type": "text",
        "id": "bXxAjKTtVhOm"
      },
      "source": [
        "(C) Make a graph of error on the entire data set as a function of epoch. An epoch is a complete sweep through all the data (which is one iteration for full-batch gradient descent)."
      ]
    },
    {
      "cell_type": "code",
      "metadata": {
        "colab_type": "code",
        "id": "j3rvqIrYVhOn",
        "colab": {}
      },
      "source": [
        ""
      ],
      "execution_count": 0,
      "outputs": []
    },
    {
      "cell_type": "markdown",
      "metadata": {
        "colab_type": "text",
        "id": "u2WH5OVEVhOp"
      },
      "source": [
        "## Part 3"
      ]
    },
    {
      "cell_type": "markdown",
      "metadata": {
        "colab_type": "text",
        "id": "POTbQx4cVhOp"
      },
      "source": [
        "The data set from a regression problem can be converted into a classification problem simply by using the sign of (+ or -) as representing one of two classes. In the data set used in Part 1 and 2, you'll see the variable z that represents this binary (0 or 1) class.\n",
        "\n",
        "Use the perceptron learning rule to solve for the coefficients {$w_1$, $w_2$, $b$} of this classification problem.   \n",
        "\n",
        "Two warnings: First, your solution to Part 3 should require only a few lines of code changed from the code you wrote for Part 2. Second, the Perceptron algorithm will not converge if there is no exact solution to the training data. It will jitter among coefficients that all yield roughly equally good solutions."
      ]
    },
    {
      "cell_type": "markdown",
      "metadata": {
        "colab_type": "text",
        "id": "Qs7gbsbjVhOq"
      },
      "source": [
        "Complete the following functions below and use them to answer questions (A) and (B). \n",
        "\n",
        "**Note:** Please do not change the interface of the given functions."
      ]
    },
    {
      "cell_type": "code",
      "metadata": {
        "colab_type": "code",
        "id": "anej2h2pVhOr",
        "colab": {}
      },
      "source": [
        "def perceptron_update(X, y, w):\n",
        "    \"\"\"\n",
        "    One epoch of Perceptron updates (full sweep of the dataset).\n",
        "    \n",
        "    Parameters\n",
        "    ----------\n",
        "    X : NumPy array of features (size : no of examples X features)\n",
        "    y : Numpy array of class labels (size : no of examples X 1)\n",
        "    w : array of coefficients from the previous iteration\n",
        "    \n",
        "    Returns\n",
        "    -------\n",
        "    w : Coefficients of the classifier (after updating)\n",
        "    incorrect : Incorrectly classified examples\n",
        "    \"\"\"\n",
        "    pass\n",
        "\n",
        "def perceptron(X, y, maxIter, alpha):\n",
        "    \"\"\"\n",
        "    Implements the Perceptron algorithm.\n",
        "    \n",
        "    Parameters\n",
        "    ----------\n",
        "    X : NumPy array of features (size : no of examples X features)\n",
        "    y : Numpy array of class labels (size : no of examples X 1)\n",
        "    maxIter : The maximum number of iterations allowed \n",
        "    alpha : Learning Rate\n",
        "    \n",
        "    Returns\n",
        "    -------\n",
        "    w : Coefficients of the classifier\n",
        "    incorrect : Incorrectly classified examples on termination\n",
        "    \"\"\"\n",
        "    pass"
      ],
      "execution_count": 0,
      "outputs": []
    },
    {
      "cell_type": "markdown",
      "metadata": {
        "colab_type": "text",
        "id": "CiM8viPnVhOt"
      },
      "source": [
        "(A) Report the values of coefficients $w_1$, $w_2$, and $b$."
      ]
    },
    {
      "cell_type": "code",
      "metadata": {
        "colab_type": "code",
        "id": "Jl1YoCt-VhOt",
        "colab": {}
      },
      "source": [
        ""
      ],
      "execution_count": 0,
      "outputs": []
    },
    {
      "cell_type": "markdown",
      "metadata": {
        "colab_type": "text",
        "id": "v9MObKUYVhOv"
      },
      "source": [
        "(B) Make a graph of the accuracy (% correct classification) on the training set as a function of epoch."
      ]
    },
    {
      "cell_type": "code",
      "metadata": {
        "colab_type": "code",
        "id": "x8yAplB5VhOw",
        "colab": {}
      },
      "source": [
        ""
      ],
      "execution_count": 0,
      "outputs": []
    },
    {
      "cell_type": "markdown",
      "metadata": {
        "colab_type": "text",
        "id": "AfXBONZZVhOy"
      },
      "source": [
        "## Part 4"
      ]
    },
    {
      "cell_type": "markdown",
      "metadata": {
        "colab_type": "text",
        "id": "zO2ij9gIVhOy"
      },
      "source": [
        "In machine learning, we really want to train a model based on some data and then expect the model to do well on \"out of sample\" data. Try this with the code you wrote for Part 3:  Train the model on the first {5, 10, 25, 50, 75} examples in the data set and test the model on the final 25 examples."
      ]
    },
    {
      "cell_type": "markdown",
      "metadata": {
        "colab_type": "text",
        "id": "F66-PYWKVhOz"
      },
      "source": [
        "Complete the following function below and use it to answer (A). \n",
        "\n",
        "**Note:** Please do not change the interface of the given function."
      ]
    },
    {
      "cell_type": "code",
      "metadata": {
        "colab_type": "code",
        "id": "3wseIfmUVhOz",
        "colab": {}
      },
      "source": [
        "def classify(X, y, w):\n",
        "    \"\"\"\n",
        "    Use this function to classify examples in the test set\n",
        "    \n",
        "    Parameters\n",
        "    ----------\n",
        "    X : Test set features\n",
        "    y : Test set labels\n",
        "    w : Perceptron coefficients\n",
        "    \n",
        "    Returns\n",
        "    -------\n",
        "    correct : number of correctly classified examples\n",
        "    \"\"\"\n",
        "    pass"
      ],
      "execution_count": 0,
      "outputs": []
    },
    {
      "cell_type": "markdown",
      "metadata": {
        "colab_type": "text",
        "id": "I3D_lEO8VhO3"
      },
      "source": [
        "How does performance on the test set vary with the amount of training data? Make a bar graph showing performance for each of the different training set sizes."
      ]
    },
    {
      "cell_type": "code",
      "metadata": {
        "colab_type": "code",
        "id": "0GrkjpYDVhO4",
        "colab": {}
      },
      "source": [
        ""
      ],
      "execution_count": 0,
      "outputs": []
    }
  ]
}