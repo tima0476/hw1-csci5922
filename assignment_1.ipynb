{
  "nbformat": 4,
  "nbformat_minor": 0,
  "metadata": {
    "colab": {
      "name": "Copy of assignment_1.ipynb",
      "provenance": [],
      "collapsed_sections": []
    },
    "kernelspec": {
      "name": "python3",
      "display_name": "Python 3"
    },
    "language_info": {
      "codemirror_mode": {
        "name": "ipython",
        "version": 3
      },
      "file_extension": ".py",
      "mimetype": "text/x-python",
      "name": "python",
      "nbconvert_exporter": "python",
      "pygments_lexer": "ipython3",
      "version": "3.7.6"
    },
    "accelerator": "TPU"
  },
  "cells": [
    {
      "cell_type": "markdown",
      "metadata": {
        "colab_type": "text",
        "id": "yI6QRw_VVhOI"
      },
      "source": [
        "# <center> Neural Networks and Deep Learning (CSCI 5922)</center>\n",
        "# <center> Spring 2020 </center>"
      ]
    },
    {
      "cell_type": "markdown",
      "metadata": {
        "colab_type": "text",
        "id": "oyyZSLCIVhOK"
      },
      "source": [
        "**Name:** Timothy Mason"
      ]
    },
    {
      "cell_type": "markdown",
      "metadata": {
        "colab_type": "text",
        "id": "B7u4l5SIVhOL"
      },
      "source": [
        "## Goal"
      ]
    },
    {
      "cell_type": "markdown",
      "metadata": {
        "colab_type": "text",
        "id": "O7mbNY0lVhOL"
      },
      "source": [
        "The goal of this assignment is to introduce neural networks in terms of ideas you are already familiar with:  linear regression and classification"
      ]
    },
    {
      "cell_type": "markdown",
      "metadata": {
        "colab_type": "text",
        "id": "7kNKcDdGDO4z"
      },
      "source": [
        "## Dataset"
      ]
    },
    {
      "cell_type": "markdown",
      "metadata": {
        "colab_type": "text",
        "id": "w-ZVWvA4VhON"
      },
      "source": [
        "You are given a dataset with 2 input variables ($x_1$, $x_2$) and an output variable ($y$)."
      ]
    },
    {
      "cell_type": "code",
      "metadata": {
        "colab_type": "code",
        "id": "qluUEgHYVhOO",
        "outputId": "593ea360-66bb-4681-9e38-771fd8846358",
        "colab": {
          "base_uri": "https://localhost:8080/",
          "height": 34
        }
      },
      "source": [
        "from sklearn.datasets import make_regression\n",
        "from matplotlib import pyplot\n",
        "import numpy as np\n",
        "import os\n",
        "\n",
        "try:\n",
        "    from google.colab import drive\n",
        "    drive.mount('/content/drive', force_remount=True)\n",
        "\n",
        "    # Load data from gDrive\n",
        "    data = np.loadtxt(os.path.join('/content/drive/My Drive/spring2020/hw1-csci5922/data', 'assign1_data.txt'),  delimiter=',')\n",
        "except:\n",
        "    # Load data - relative path from notebook\n",
        "    data = np.loadtxt(os.path.join('data', 'assign1_data.txt'),  delimiter=',')\n",
        "    \n",
        "X = data[:,:2]\n",
        "y = data[:, 2]\n",
        "z = data[:, 3]"
      ],
      "execution_count": 1,
      "outputs": [
        {
          "output_type": "stream",
          "text": [
            "Mounted at /content/drive\n"
          ],
          "name": "stdout"
        }
      ]
    },
    {
      "cell_type": "markdown",
      "metadata": {
        "colab_type": "text",
        "id": "ZiLhj-CvVhOQ"
      },
      "source": [
        "## Part 1"
      ]
    },
    {
      "cell_type": "markdown",
      "metadata": {
        "colab_type": "text",
        "id": "1zNUNcC0VhOR"
      },
      "source": [
        "Write a program to find the exact least squares solution to $y = w_1 x_1 + w_2 x_2 + b$ for the above dataset, using the normal equation."
      ]
    },
    {
      "cell_type": "markdown",
      "metadata": {
        "colab_type": "text",
        "id": "txzccR6-VhOS"
      },
      "source": [
        "Complete the following function below and use it to answer questions (A) and (B). \n",
        "\n",
        "**Note:** Please do not change the interface of the given function."
      ]
    },
    {
      "cell_type": "code",
      "metadata": {
        "colab_type": "code",
        "id": "gFAcJL6VVhOS",
        "colab": {}
      },
      "source": [
        "def least_squares(X, y):\n",
        "    \"\"\"\n",
        "    Finds the Least Squares solution\n",
        "    \n",
        "    Parameters\n",
        "    ----------\n",
        "    X : NumPy array of features (size : no of examples X features)\n",
        "    y : Numpy array of output value 'y' (size : no of examples X 1)\n",
        "    \n",
        "    Returns\n",
        "    -------\n",
        "    w : solution array\n",
        "    \"\"\"\n",
        "\n",
        "    # From the text:  \"Instead of adding the bias parameter b, one can continue to use \n",
        "    # the model with only weights but augment x with an extra entry that is always set \n",
        "    # to 1. The weight corresponding to the extra 1 entry plays the role of the bias \n",
        "    # parameter.\"\n",
        "\n",
        "    X = np.c_[np.ones((X.shape[0],1)), X]   # Augment X's with extra 1's\n",
        "\n",
        "    # Calculate the normal equation.\n",
        "    w = np.linalg.inv(X.T @ X) @ X.T @ y\n",
        "\n",
        "    return w"
      ],
      "execution_count": 0,
      "outputs": []
    },
    {
      "cell_type": "markdown",
      "metadata": {
        "colab_type": "text",
        "id": "ZcO-nAfxVhOV"
      },
      "source": [
        "(A) Report the values of $w_1$, $w_2$, and $b$."
      ]
    },
    {
      "cell_type": "code",
      "metadata": {
        "colab_type": "code",
        "id": "5sXuI05yVhOV",
        "outputId": "d055e332-d286-4a25-d44f-0a2ee2ad4357",
        "colab": {
          "base_uri": "https://localhost:8080/",
          "height": 68
        }
      },
      "source": [
        "w = least_squares(X, y)\n",
        "print(f\"w_1 = {w[1]}\\nw_2 = {w[2]}\\n  b = {w[0]}\")"
      ],
      "execution_count": 3,
      "outputs": [
        {
          "output_type": "stream",
          "text": [
            "w_1 = -2.0442425951376353\n",
            "w_2 = 3.996860168659322\n",
            "  b = -0.9242908118675891\n"
          ],
          "name": "stdout"
        }
      ]
    },
    {
      "cell_type": "markdown",
      "metadata": {
        "colab_type": "text",
        "id": "S-jYwaEbVhOY"
      },
      "source": [
        "(B) What function or method did you use to find the least-squares solution?"
      ]
    },
    {
      "cell_type": "markdown",
      "metadata": {
        "colab_type": "text",
        "id": "OF8A7mYEVhOY"
      },
      "source": [
        "> The linear regression was calculated using the equation: \n",
        "> \n",
        "> $$\\mathbf{w} = \\left( \\mathbf{X}^\\top \\mathbf{X} \\right)^{-1} \\mathbf{X}^\\top \\mathbf{y}$$\n",
        "> \n",
        "> \n",
        "> The vector $\\mathbf{w}$ provides the weight coefficients for the prediction $\\hat{y}$:\n",
        "> \n",
        "> $$ \\hat{y} = \\mathbf{w}^\\top \\mathbf{x} = w_1 x_1 + w_2 x_2 + \\ldots + w_m x_m$$\n",
        "> \n",
        "> \n",
        "> Note that the requirement was to find the exact least squares solution to $y = w_1 x_1 + w_2 x_2 + b$.  \n",
        ">\n",
        "> To find the $b$ term, an extra column of 1's was inserted as the leftmost column of the $\\mathbf{X}$ matrix,\n",
        "> which adds a new term $x_0 = 1$.  This caused the normal \n",
        "> equation to solve for \n",
        "> \n",
        "> $$\n",
        "\\begin{split}\n",
        "    \\hat{y} = \\mathbf{w}^\\top \\mathbf{x} & =  w_0 x_0 + w_1 x_1 + w_2 x_2 \\\\\n",
        "    \\\\\n",
        "    \\text{Note that we set } x_0 = 1 \\text{, therefore: } \\hat{y} & = w_0 + w_1 x_1 + w_2 x_2 \\\\\n",
        "    \\\\\n",
        "    \\text{Let }w_0=b\\text{, and we have: } \\hat{y} & = w_1 x_1 + w_2 x_2 + b\n",
        "\\end{split}\n",
        "$$\n",
        ">"
      ]
    },
    {
      "cell_type": "markdown",
      "metadata": {
        "colab_type": "text",
        "id": "_qNGRMnLVhOZ"
      },
      "source": [
        "## Part 2"
      ]
    },
    {
      "cell_type": "markdown",
      "metadata": {
        "colab_type": "text",
        "id": "K2C1Pj1xVhOZ"
      },
      "source": [
        "Implement linear regression of y on X via first-order optimization of the least-squares objective. Write a program that determines the coefficients {w1,w2,b}. Implement stochastic gradient descent, batch gradient descent, and mini-batch gradient descent. You will need to experiment with updating rules, step sizes (i.e. learning rates), stopping criteria, etc. Experiment to find settings that lead to solutions with the fewest number of sweeps through the data."
      ]
    },
    {
      "cell_type": "markdown",
      "metadata": {
        "colab_type": "text",
        "id": "Dz9LPxNsVhOa"
      },
      "source": [
        "Complete the following functions below and use them to answer questions (A), (B) and (C). You may find the shuffle function from scikit-learn useful. \n",
        "\n",
        "Use the following hyperparameters:\n",
        "\n",
        "Learning rates = [0.001, 0.05, 0.01, 0.05, 0.1, 0.3]\n",
        "\n",
        "MaxIter = [10, 50, 100, 500, 1000, 5000, 10000, 25000, 50000]\n",
        "\n",
        "**Note:** Please do not change the interface of the given functions."
      ]
    },
    {
      "cell_type": "code",
      "metadata": {
        "colab_type": "code",
        "id": "9rCKocs6VhOb",
        "colab": {}
      },
      "source": [
        "from sklearn.utils import shuffle\n",
        "Error_Thresh = 0.045    # terminate a gradient descent when we get the loss below this threshold\n",
        "\n",
        "def online_epoch(X, y, w, alpha):\n",
        "    \"\"\"\n",
        "    One epoch of stochastic gradient descent (i.e. one sweep of the dataset).\n",
        "    \n",
        "    Parameters\n",
        "    ----------\n",
        "    X : NumPy array of features (size : no of examples X features)\n",
        "    y : Numpy array of class labels (size : no of examples X 1)\n",
        "    w : array of coefficients from the previous iteration\n",
        "    alpha : learning rate\n",
        "    \n",
        "    Returns\n",
        "    -------\n",
        "    a tuple containing Coefficients of the model (after updating) and the loss\n",
        "    \"\"\"\n",
        "    # Iterate through the training set, updating the model after each example is evaluated\n",
        "    N = X.shape[0]\n",
        "    for i in range(N):\n",
        "        x = X[i]\n",
        "        # make a prediction with our current set of weights (current example)\n",
        "        y_hat = x @ w\n",
        "\n",
        "        # compute the error (current example)\n",
        "        err = y[i] - y_hat\n",
        "\n",
        "        # compute the gradient (current example)\n",
        "        grad = -(x.T * err)\n",
        "\n",
        "        # update the model after learning from each example\n",
        "        w -= alpha*grad\n",
        "\n",
        "    # Return the updated weights and the full-training set loss.\n",
        "    return (w,np.average((y - X @ w) ** 2))\n",
        "\n",
        "\n",
        "def batch_update(X, y, w, alpha):\n",
        "    \"\"\"\n",
        "    One iteration of full-batch gradient descent.\n",
        "    \n",
        "    Parameters\n",
        "    ----------\n",
        "    X : NumPy array of features (size : no of examples X features)\n",
        "    y : Numpy array of class labels (size : no of examples X 1)\n",
        "    w : array of coefficients from the previous iteration\n",
        "    alpha : Learning rate\n",
        "    \n",
        "    Returns\n",
        "    -------\n",
        "    a tuple containing Coefficients of the model (after updating) and the loss\n",
        "    \"\"\"\n",
        "    # make a prediction with our current set of weights (full training set)\n",
        "    y_hat = X @ w\n",
        "\n",
        "    # compute the error (full training set)\n",
        "    err = y - y_hat\n",
        "\n",
        "    # compute the gradient (full training set)\n",
        "    N = X.shape[0]\n",
        "    grad = (X.T @ err) * -2.0 / N\n",
        "\n",
        "    # Now we've evaluated the entire training set, update the model\n",
        "    w -= alpha*grad\n",
        "\n",
        "    # Return the updated weights and the loss.\n",
        "    return (w,np.average(err**2))\n",
        "\n",
        "def mini_batch_update(X, y, w, alpha, batch_size):\n",
        "    \"\"\"\n",
        "    One epoch of mini-batch SGD over the entire dataset (i.e. one sweep of the dataset).\n",
        "    \n",
        "    Parameters\n",
        "    ----------\n",
        "    X : NumPy array of features (size : no of examples X features)\n",
        "    y : Numpy array of class labels (size : no of examples X 1)\n",
        "    w : array of coefficients from the previous iteration\n",
        "    alpha : learining rate\n",
        "    batch_size : size of the batch for gradient update\n",
        "    \n",
        "    Returns\n",
        "    -------\n",
        "    a tuple containing Coefficients of the model (after updating) and the loss\n",
        "    \"\"\"\n",
        "    # Pull out a random subset of the training data.\n",
        "\n",
        "    mini_comb = shuffle(np.c_[X,y], n_samples = batch_size)     # shuffle combined X and y\n",
        "    X_sub = mini_comb[:,:3]\n",
        "    y_sub = mini_comb[:,3]\n",
        "\n",
        "    # make a prediction with our current set of weights (mini-batch training set)\n",
        "    y_hat = X_sub @ w\n",
        "\n",
        "    # compute the error (mini-batch training set)\n",
        "    err = y_sub - y_hat\n",
        "\n",
        "    # compute the gradient (full training set)\n",
        "    grad = (X_sub.T @ err) * -2.0 / batch_size\n",
        "\n",
        "    # Now we've evaluated the mini-batch, update the model\n",
        "    w -= alpha*grad\n",
        "\n",
        "    # Return the updated weights and the full-training set loss.\n",
        "    return (w,np.average((y - X @ w) ** 2))\n",
        "\n",
        "\n",
        "def least_squares_grad_desc(X, y, w, maxIter, alpha, update, *batch_size):\n",
        "    \"\"\"\n",
        "    Implements least squares with gradient descent.\n",
        "    \n",
        "    Parameters\n",
        "    ----------\n",
        "    X : NumPy array of features (size : no of examples X features)\n",
        "    y : Numpy array of class labels (size : no of examples X 1)\n",
        "    w : array of coefficients from the previous iteration\n",
        "    maxIter : Maximum number of iterations allowed\n",
        "    alpha : Learning rate\n",
        "    update : update function to utilize (one of online, batch, mini-batch)\n",
        "    batch_size : number of examples in a batch (only useful when update = mini_batch_update)\n",
        "    \n",
        "    Returns\n",
        "    -------\n",
        "    a tuple containing Coefficients of the model (after updating), the loss, and the iterations taken\n",
        "    \n",
        "    Note : *batch_size is an optional argument and only to be used when doing mini-batch Gradient Descent \n",
        "    \"\"\"\n",
        "    for i in range(maxIter):\n",
        "        if batch_size:\n",
        "            w,l = update(X, y, w, alpha, batch_size[0])\n",
        "        else:\n",
        "            w,l = update(X, y, w, alpha)\n",
        "        \n",
        "        # If result is \"good enough\", then terminate early\n",
        "        if l < Error_Thresh:\n",
        "            break\n",
        "\n",
        "    return (w,l,i+1)\n"
      ],
      "execution_count": 0,
      "outputs": []
    },
    {
      "cell_type": "markdown",
      "metadata": {
        "colab_type": "text",
        "id": "zYMi7e8ZVhOd"
      },
      "source": [
        "(A) Report the values of $w_1$, $w_2$, and $b$. "
      ]
    },
    {
      "cell_type": "code",
      "metadata": {
        "colab_type": "code",
        "id": "uJ2UpCAbVhOd",
        "colab": {}
      },
      "source": [
        "rates = [0.001, 0.05, 0.01, 0.05, 0.1, 0.3]\n",
        "MaxIter = [10, 50, 100, 500, 1000, 5000, 10000, 25000, 50000]\n",
        "\n",
        "Xaug = np.c_[np.ones((X.shape[0],1)), X]   # Augment X's with extra 1's for the bias term"
      ],
      "execution_count": 0,
      "outputs": []
    },
    {
      "cell_type": "markdown",
      "metadata": {
        "id": "HAYPBzpxZAU-",
        "colab_type": "text"
      },
      "source": [
        "### Stochastic Gradient Descent"
      ]
    },
    {
      "cell_type": "code",
      "metadata": {
        "colab_type": "code",
        "id": "WWht3FM2VhOf",
        "colab": {
          "base_uri": "https://localhost:8080/",
          "height": 1000
        },
        "outputId": "e8f1a1fa-03de-4732-844d-1d20e73e6f4d"
      },
      "source": [
        "for alpha in rates:\n",
        "    for mi in MaxIter:\n",
        "        w = np.random.uniform(0, 1, (Xaug.shape[1]))  # make a random initial guess at the weights\n",
        "        w,l,i = least_squares_grad_desc(Xaug, y, w, mi, alpha, online_epoch)\n",
        "        print(f\"  Rate={alpha}, MaxIter:{mi:7,d}, Actual Iterations: {i:7,d}; Loss={l:9.6f}:  w1={w[1]:9.6f}, w2={w[2]:9.6f}, b={w[0]:8.5f}\")\n",
        "    print()\n"
      ],
      "execution_count": 6,
      "outputs": [
        {
          "output_type": "stream",
          "text": [
            "  Rate=0.001, MaxIter:     10, Actual Iterations:      10; Loss= 1.379375:  w1=-0.123440, w2= 0.155419, b= 0.28008\n",
            "  Rate=0.001, MaxIter:     50, Actual Iterations:      50; Loss= 0.708414:  w1=-0.262090, w2= 1.438017, b=-0.46697\n",
            "  Rate=0.001, MaxIter:    100, Actual Iterations:     100; Loss= 0.405213:  w1=-1.067869, w2= 1.937342, b=-0.33950\n",
            "  Rate=0.001, MaxIter:    500, Actual Iterations:     396; Loss= 0.044971:  w1=-1.937299, w2= 3.738604, b=-0.84320\n",
            "  Rate=0.001, MaxIter:  1,000, Actual Iterations:     401; Loss= 0.044986:  w1=-1.931623, w2= 3.739940, b=-0.84657\n",
            "  Rate=0.001, MaxIter:  5,000, Actual Iterations:     404; Loss= 0.044967:  w1=-1.896549, w2= 3.755186, b=-0.87093\n",
            "  Rate=0.001, MaxIter: 10,000, Actual Iterations:     404; Loss= 0.044929:  w1=-1.938655, w2= 3.739306, b=-0.84292\n",
            "  Rate=0.001, MaxIter: 25,000, Actual Iterations:     425; Loss= 0.044970:  w1=-1.931691, w2= 3.740355, b=-0.84675\n",
            "  Rate=0.001, MaxIter: 50,000, Actual Iterations:     414; Loss= 0.044996:  w1=-1.944426, w2= 3.735988, b=-0.83850\n",
            "\n",
            "  Rate=0.05, MaxIter:     10, Actual Iterations:       8; Loss= 0.044454:  w1=-1.919631, w2= 3.805979, b=-0.85024\n",
            "  Rate=0.05, MaxIter:     50, Actual Iterations:       9; Loss= 0.043219:  w1=-1.943252, w2= 3.837806, b=-0.85632\n",
            "  Rate=0.05, MaxIter:    100, Actual Iterations:       9; Loss= 0.042944:  w1=-1.931640, w2= 3.858227, b=-0.87137\n",
            "  Rate=0.05, MaxIter:    500, Actual Iterations:       9; Loss= 0.043857:  w1=-1.923637, w2= 3.825169, b=-0.85817\n",
            "  Rate=0.05, MaxIter:  1,000, Actual Iterations:       9; Loss= 0.043443:  w1=-1.928614, w2= 3.838291, b=-0.86266\n",
            "  Rate=0.05, MaxIter:  5,000, Actual Iterations:       9; Loss= 0.043357:  w1=-1.929824, w2= 3.841007, b=-0.86351\n",
            "  Rate=0.05, MaxIter: 10,000, Actual Iterations:       9; Loss= 0.043180:  w1=-1.956153, w2= 3.832243, b=-0.84816\n",
            "  Rate=0.05, MaxIter: 25,000, Actual Iterations:       9; Loss= 0.043377:  w1=-1.930544, w2= 3.839644, b=-0.86253\n",
            "  Rate=0.05, MaxIter: 50,000, Actual Iterations:       9; Loss= 0.042960:  w1=-1.929318, w2= 3.859386, b=-0.87291\n",
            "\n",
            "  Rate=0.01, MaxIter:     10, Actual Iterations:      10; Loss= 0.433988:  w1=-1.054928, w2= 1.851787, b=-0.29202\n",
            "  Rate=0.01, MaxIter:     50, Actual Iterations:      42; Loss= 0.044849:  w1=-1.906729, w2= 3.756031, b=-0.86017\n",
            "  Rate=0.01, MaxIter:    100, Actual Iterations:      42; Loss= 0.044390:  w1=-1.929546, w2= 3.759543, b=-0.85136\n",
            "  Rate=0.01, MaxIter:    500, Actual Iterations:      41; Loss= 0.044382:  w1=-1.915082, w2= 3.765688, b=-0.86118\n",
            "  Rate=0.01, MaxIter:  1,000, Actual Iterations:      42; Loss= 0.044822:  w1=-1.928672, w2= 3.747892, b=-0.84587\n",
            "  Rate=0.01, MaxIter:  5,000, Actual Iterations:      41; Loss= 0.044551:  w1=-1.929498, w2= 3.755045, b=-0.84910\n",
            "  Rate=0.01, MaxIter: 10,000, Actual Iterations:      40; Loss= 0.044900:  w1=-1.906151, w2= 3.754840, b=-0.85984\n",
            "  Rate=0.01, MaxIter: 25,000, Actual Iterations:      42; Loss= 0.044374:  w1=-1.936143, w2= 3.757710, b=-0.84737\n",
            "  Rate=0.01, MaxIter: 50,000, Actual Iterations:      41; Loss= 0.044942:  w1=-1.922768, w2= 3.746750, b=-0.84803\n",
            "\n",
            "  Rate=0.05, MaxIter:     10, Actual Iterations:       9; Loss= 0.043258:  w1=-1.924361, w2= 3.849583, b=-0.87008\n",
            "  Rate=0.05, MaxIter:     50, Actual Iterations:       9; Loss= 0.043448:  w1=-1.948498, w2= 3.825811, b=-0.84814\n",
            "  Rate=0.05, MaxIter:    100, Actual Iterations:       9; Loss= 0.043050:  w1=-1.950366, w2= 3.840613, b=-0.85476\n",
            "  Rate=0.05, MaxIter:    500, Actual Iterations:       9; Loss= 0.042919:  w1=-1.932659, w2= 3.858547, b=-0.87110\n",
            "  Rate=0.05, MaxIter:  1,000, Actual Iterations:       8; Loss= 0.044579:  w1=-1.905538, w2= 3.811147, b=-0.85869\n",
            "  Rate=0.05, MaxIter:  5,000, Actual Iterations:       9; Loss= 0.042977:  w1=-1.948665, w2= 3.844677, b=-0.85750\n",
            "  Rate=0.05, MaxIter: 10,000, Actual Iterations:       9; Loss= 0.042866:  w1=-1.929055, w2= 3.864260, b=-0.87546\n",
            "  Rate=0.05, MaxIter: 25,000, Actual Iterations:       8; Loss= 0.044836:  w1=-1.931675, w2= 3.786790, b=-0.83563\n",
            "  Rate=0.05, MaxIter: 50,000, Actual Iterations:       9; Loss= 0.043047:  w1=-1.962440, w2= 3.834475, b=-0.84666\n",
            "\n",
            "  Rate=0.1, MaxIter:     10, Actual Iterations:       5; Loss= 0.042475:  w1=-1.955499, w2= 3.919626, b=-0.88086\n",
            "  Rate=0.1, MaxIter:     50, Actual Iterations:       5; Loss= 0.042637:  w1=-1.949300, w2= 3.915987, b=-0.88141\n",
            "  Rate=0.1, MaxIter:    100, Actual Iterations:       5; Loss= 0.042257:  w1=-1.957886, w2= 3.936451, b=-0.88826\n",
            "  Rate=0.1, MaxIter:    500, Actual Iterations:       5; Loss= 0.042180:  w1=-1.972714, w2= 3.919673, b=-0.87435\n",
            "  Rate=0.1, MaxIter:  1,000, Actual Iterations:       5; Loss= 0.042248:  w1=-1.959729, w2= 3.933741, b=-0.88622\n",
            "  Rate=0.1, MaxIter:  5,000, Actual Iterations:       5; Loss= 0.042238:  w1=-1.962826, w2= 3.929166, b=-0.88279\n",
            "  Rate=0.1, MaxIter: 10,000, Actual Iterations:       5; Loss= 0.042563:  w1=-1.947706, w2= 3.925235, b=-0.88658\n",
            "  Rate=0.1, MaxIter: 25,000, Actual Iterations:       5; Loss= 0.042328:  w1=-1.961535, w2= 3.922931, b=-0.88020\n",
            "  Rate=0.1, MaxIter: 50,000, Actual Iterations:       4; Loss= 0.044947:  w1=-1.921480, w2= 3.825011, b=-0.84702\n",
            "\n",
            "  Rate=0.3, MaxIter:     10, Actual Iterations:       2; Loss= 0.043026:  w1=-1.991577, w2= 4.058632, b=-0.92221\n",
            "  Rate=0.3, MaxIter:     50, Actual Iterations:       2; Loss= 0.043249:  w1=-1.986352, w2= 4.064195, b=-0.92623\n",
            "  Rate=0.3, MaxIter:    100, Actual Iterations:       2; Loss= 0.043115:  w1=-1.991589, w2= 4.063366, b=-0.92414\n",
            "  Rate=0.3, MaxIter:    500, Actual Iterations:       2; Loss= 0.043105:  w1=-1.987145, w2= 4.057515, b=-0.92323\n",
            "  Rate=0.3, MaxIter:  1,000, Actual Iterations:       2; Loss= 0.043125:  w1=-1.987959, w2= 4.059620, b=-0.92382\n",
            "  Rate=0.3, MaxIter:  5,000, Actual Iterations:       2; Loss= 0.043090:  w1=-1.987911, w2= 4.057639, b=-0.92303\n",
            "  Rate=0.3, MaxIter: 10,000, Actual Iterations:       2; Loss= 0.043147:  w1=-1.984869, w2= 4.057002, b=-0.92379\n",
            "  Rate=0.3, MaxIter: 25,000, Actual Iterations:       2; Loss= 0.043040:  w1=-1.987888, w2= 4.054897, b=-0.92191\n",
            "  Rate=0.3, MaxIter: 50,000, Actual Iterations:       2; Loss= 0.042830:  w1=-1.996079, w2= 4.053061, b=-0.91842\n",
            "\n"
          ],
          "name": "stdout"
        }
      ]
    },
    {
      "cell_type": "markdown",
      "metadata": {
        "id": "m29tujWfY97n",
        "colab_type": "text"
      },
      "source": [
        "### Batch Gradient Descent"
      ]
    },
    {
      "cell_type": "code",
      "metadata": {
        "colab_type": "code",
        "id": "Vf1YmHkPVhOh",
        "colab": {
          "base_uri": "https://localhost:8080/",
          "height": 1000
        },
        "outputId": "1b975098-9ce9-41c2-9b49-e374f8922a68"
      },
      "source": [
        "for alpha in rates:\n",
        "    for mi in MaxIter:\n",
        "        w = np.random.uniform(0, 1, (Xaug.shape[1]))  # make a random initial guess at the weights\n",
        "        w,l,i = least_squares_grad_desc(Xaug, y, w, mi, alpha, batch_update)\n",
        "        print(f\"  Rate={alpha}, MaxIter:{mi:7,d}, Actual Iterations: {i:7,d}; Loss={l:9.6f}:  w1={w[1]:9.6f}, w2={w[2]:9.6f}, b={w[0]:8.5f}\")\n",
        "    print()"
      ],
      "execution_count": 7,
      "outputs": [
        {
          "output_type": "stream",
          "text": [
            "  Rate=0.001, MaxIter:     10, Actual Iterations:      10; Loss= 1.850211:  w1= 0.694616, w2= 0.818107, b= 0.15296\n",
            "  Rate=0.001, MaxIter:     50, Actual Iterations:      50; Loss= 1.361323:  w1= 0.122408, w2= 0.602830, b= 0.18343\n",
            "  Rate=0.001, MaxIter:    100, Actual Iterations:     100; Loss= 1.480566:  w1= 0.162349, w2= 0.673181, b= 0.26816\n",
            "  Rate=0.001, MaxIter:    500, Actual Iterations:     500; Loss= 1.207075:  w1=-0.201004, w2= 0.397451, b= 0.13480\n",
            "  Rate=0.001, MaxIter:  1,000, Actual Iterations:   1,000; Loss= 1.231565:  w1= 0.094895, w2= 0.457588, b=-0.08971\n",
            "  Rate=0.001, MaxIter:  5,000, Actual Iterations:   5,000; Loss= 0.348226:  w1=-0.799955, w2= 2.280268, b=-0.64192\n",
            "  Rate=0.001, MaxIter: 10,000, Actual Iterations:  10,000; Loss= 0.148675:  w1=-1.437727, w2= 2.901201, b=-0.65499\n",
            "  Rate=0.001, MaxIter: 25,000, Actual Iterations:  20,541; Loss= 0.045000:  w1=-1.951963, w2= 3.733969, b=-0.83441\n",
            "  Rate=0.001, MaxIter: 50,000, Actual Iterations:  21,602; Loss= 0.045000:  w1=-1.938059, w2= 3.737529, b=-0.84281\n",
            "\n",
            "  Rate=0.05, MaxIter:     10, Actual Iterations:      10; Loss= 1.133951:  w1=-0.126178, w2= 0.692007, b= 0.03699\n",
            "  Rate=0.05, MaxIter:     50, Actual Iterations:      50; Loss= 0.655693:  w1=-0.732051, w2= 1.361348, b=-0.20654\n",
            "  Rate=0.05, MaxIter:    100, Actual Iterations:     100; Loss= 0.439484:  w1=-0.789111, w2= 1.964786, b=-0.48665\n",
            "  Rate=0.05, MaxIter:    500, Actual Iterations:     409; Loss= 0.044988:  w1=-1.927109, w2= 3.743221, b=-0.85090\n",
            "  Rate=0.05, MaxIter:  1,000, Actual Iterations:     426; Loss= 0.044976:  w1=-1.942349, w2= 3.738794, b=-0.84142\n",
            "  Rate=0.05, MaxIter:  5,000, Actual Iterations:     423; Loss= 0.044928:  w1=-1.965502, w2= 3.734925, b=-0.82847\n",
            "  Rate=0.05, MaxIter: 10,000, Actual Iterations:     411; Loss= 0.044959:  w1=-1.921137, w2= 3.746193, b=-0.85525\n",
            "  Rate=0.05, MaxIter: 25,000, Actual Iterations:     424; Loss= 0.044941:  w1=-1.933469, w2= 3.742337, b=-0.84744\n",
            "  Rate=0.05, MaxIter: 50,000, Actual Iterations:     400; Loss= 0.044973:  w1=-1.930347, w2= 3.742528, b=-0.84902\n",
            "\n",
            "  Rate=0.01, MaxIter:     10, Actual Iterations:      10; Loss= 1.482897:  w1= 0.478826, w2= 0.636996, b= 0.02608\n",
            "  Rate=0.01, MaxIter:     50, Actual Iterations:      50; Loss= 1.259875:  w1=-0.180744, w2= 0.305304, b= 0.15751\n",
            "  Rate=0.01, MaxIter:    100, Actual Iterations:     100; Loss= 1.364828:  w1= 0.220467, w2= 0.277190, b=-0.05154\n",
            "  Rate=0.01, MaxIter:    500, Actual Iterations:     500; Loss= 0.323593:  w1=-1.080614, w2= 2.225965, b=-0.48111\n",
            "  Rate=0.01, MaxIter:  1,000, Actual Iterations:   1,000; Loss= 0.130136:  w1=-1.539122, w2= 2.979801, b=-0.64684\n",
            "  Rate=0.01, MaxIter:  5,000, Actual Iterations:   2,009; Loss= 0.044997:  w1=-1.935499, w2= 3.738691, b=-0.84462\n",
            "  Rate=0.01, MaxIter: 10,000, Actual Iterations:   2,129; Loss= 0.044996:  w1=-1.951694, w2= 3.734475, b=-0.83479\n",
            "  Rate=0.01, MaxIter: 25,000, Actual Iterations:   2,056; Loss= 0.044990:  w1=-1.905204, w2= 3.750522, b=-0.86501\n",
            "  Rate=0.01, MaxIter: 50,000, Actual Iterations:   2,143; Loss= 0.044998:  w1=-1.949936, w2= 3.734806, b=-0.83579\n",
            "\n",
            "  Rate=0.05, MaxIter:     10, Actual Iterations:      10; Loss= 1.212325:  w1=-0.015169, w2= 0.464199, b=-0.06149\n",
            "  Rate=0.05, MaxIter:     50, Actual Iterations:      50; Loss= 0.617933:  w1=-0.701944, w2= 1.472668, b=-0.27720\n",
            "  Rate=0.05, MaxIter:    100, Actual Iterations:     100; Loss= 0.354938:  w1=-0.838073, w2= 2.245251, b=-0.60603\n",
            "  Rate=0.05, MaxIter:    500, Actual Iterations:     404; Loss= 0.044939:  w1=-1.915785, w2= 3.748881, b=-0.85916\n",
            "  Rate=0.05, MaxIter:  1,000, Actual Iterations:     410; Loss= 0.044945:  w1=-1.937254, w2= 3.741052, b=-0.84499\n",
            "  Rate=0.05, MaxIter:  5,000, Actual Iterations:     424; Loss= 0.044987:  w1=-1.927242, w2= 3.743208, b=-0.85084\n",
            "  Rate=0.05, MaxIter: 10,000, Actual Iterations:     423; Loss= 0.044946:  w1=-1.953247, w2= 3.736854, b=-0.83526\n",
            "  Rate=0.05, MaxIter: 25,000, Actual Iterations:     424; Loss= 0.044953:  w1=-1.918734, w2= 3.747291, b=-0.85695\n",
            "  Rate=0.05, MaxIter: 50,000, Actual Iterations:     396; Loss= 0.044954:  w1=-1.915581, w2= 3.748553, b=-0.85909\n",
            "\n",
            "  Rate=0.1, MaxIter:     10, Actual Iterations:      10; Loss= 1.242759:  w1= 0.055090, w2= 0.471878, b=-0.09945\n",
            "  Rate=0.1, MaxIter:     50, Actual Iterations:      50; Loss= 0.376459:  w1=-0.805956, w2= 2.198876, b=-0.59769\n",
            "  Rate=0.1, MaxIter:    100, Actual Iterations:     100; Loss= 0.144329:  w1=-1.583572, w2= 2.890040, b=-0.58010\n",
            "  Rate=0.1, MaxIter:    500, Actual Iterations:     207; Loss= 0.044946:  w1=-1.954511, w2= 3.738425, b=-0.83546\n",
            "  Rate=0.1, MaxIter:  1,000, Actual Iterations:     209; Loss= 0.044943:  w1=-1.924328, w2= 3.747383, b=-0.85434\n",
            "  Rate=0.1, MaxIter:  5,000, Actual Iterations:     202; Loss= 0.044909:  w1=-1.953930, w2= 3.739480, b=-0.83627\n",
            "  Rate=0.1, MaxIter: 10,000, Actual Iterations:     207; Loss= 0.044954:  w1=-1.922652, w2= 3.747739, b=-0.85532\n",
            "  Rate=0.1, MaxIter: 25,000, Actual Iterations:     206; Loss= 0.044944:  w1=-1.939833, w2= 3.742235, b=-0.84436\n",
            "  Rate=0.1, MaxIter: 50,000, Actual Iterations:     210; Loss= 0.044878:  w1=-1.964460, w2= 3.738160, b=-0.83060\n",
            "\n",
            "  Rate=0.3, MaxIter:     10, Actual Iterations:      10; Loss= 0.665960:  w1=-0.490455, w2= 1.559767, b=-0.42243\n",
            "  Rate=0.3, MaxIter:     50, Actual Iterations:      50; Loss= 0.068758:  w1=-1.779523, w2= 3.436326, b=-0.76489\n",
            "  Rate=0.3, MaxIter:    100, Actual Iterations:      70; Loss= 0.044733:  w1=-1.946042, w2= 3.753374, b=-0.84708\n",
            "  Rate=0.3, MaxIter:    500, Actual Iterations:      71; Loss= 0.044756:  w1=-1.934567, w2= 3.756412, b=-0.85407\n",
            "  Rate=0.3, MaxIter:  1,000, Actual Iterations:      67; Loss= 0.044647:  w1=-1.951702, w2= 3.753991, b=-0.84471\n",
            "  Rate=0.3, MaxIter:  5,000, Actual Iterations:      70; Loss= 0.044901:  w1=-1.959229, w2= 3.745859, b=-0.83700\n",
            "  Rate=0.3, MaxIter: 10,000, Actual Iterations:      71; Loss= 0.044823:  w1=-1.968286, w2= 3.746016, b=-0.83278\n",
            "  Rate=0.3, MaxIter: 25,000, Actual Iterations:      68; Loss= 0.044932:  w1=-1.949094, w2= 3.747508, b=-0.84265\n",
            "  Rate=0.3, MaxIter: 50,000, Actual Iterations:      67; Loss= 0.044723:  w1=-1.939447, w2= 3.755639, b=-0.85136\n",
            "\n"
          ],
          "name": "stdout"
        }
      ]
    },
    {
      "cell_type": "markdown",
      "metadata": {
        "id": "_KLLhZspY1Me",
        "colab_type": "text"
      },
      "source": [
        "### Mini-Batch Gradient Descent"
      ]
    },
    {
      "cell_type": "code",
      "metadata": {
        "id": "Oto8snnoYvZV",
        "colab_type": "code",
        "colab": {
          "base_uri": "https://localhost:8080/",
          "height": 1000
        },
        "outputId": "038efaf6-6af2-47bc-bf1a-85b595cc9be2"
      },
      "source": [
        "for alpha in rates:\n",
        "    for mi in MaxIter:\n",
        "        w = np.random.uniform(0, 1, (Xaug.shape[1]))  # make a random initial guess at the weights\n",
        "        w,l,i = least_squares_grad_desc(Xaug, y, w, mi, alpha, mini_batch_update, 32)   # arbitrarily chose 32 based on informal literature survey\n",
        "        print(f\"  Rate={alpha}, MaxIter:{mi:7,d}, Actual Iterations: {i:7,d}; Loss={l:9.6f}:  w1={w[1]:9.6f}, w2={w[2]:9.6f}, b={w[0]:8.5f}\")\n",
        "    print()"
      ],
      "execution_count": 8,
      "outputs": [
        {
          "output_type": "stream",
          "text": [
            "  Rate=0.001, MaxIter:     10, Actual Iterations:      10; Loss= 2.867041:  w1= 0.835235, w2= 0.518393, b= 0.65394\n",
            "  Rate=0.001, MaxIter:     50, Actual Iterations:      50; Loss= 2.462986:  w1= 0.878566, w2= 0.221705, b= 0.50799\n",
            "  Rate=0.001, MaxIter:    100, Actual Iterations:     100; Loss= 2.062564:  w1= 0.367700, w2= 0.859050, b= 0.47689\n",
            "  Rate=0.001, MaxIter:    500, Actual Iterations:     500; Loss= 0.984478:  w1=-0.044582, w2= 0.942251, b=-0.19072\n",
            "  Rate=0.001, MaxIter:  1,000, Actual Iterations:   1,000; Loss= 1.032741:  w1=-0.150648, w2= 0.734045, b=-0.12435\n",
            "  Rate=0.001, MaxIter:  5,000, Actual Iterations:   5,000; Loss= 0.438396:  w1=-0.831530, w2= 1.928818, b=-0.44633\n",
            "  Rate=0.001, MaxIter: 10,000, Actual Iterations:  10,000; Loss= 0.135953:  w1=-1.521153, w2= 2.946295, b=-0.64101\n",
            "  Rate=0.001, MaxIter: 25,000, Actual Iterations:  21,145; Loss= 0.045000:  w1=-1.971824, w2= 3.730345, b=-0.82332\n",
            "  Rate=0.001, MaxIter: 50,000, Actual Iterations:  20,563; Loss= 0.045000:  w1=-1.927990, w2= 3.740599, b=-0.84936\n",
            "\n",
            "  Rate=0.05, MaxIter:     10, Actual Iterations:      10; Loss= 1.147681:  w1=-0.168735, w2= 0.623896, b= 0.12396\n",
            "  Rate=0.05, MaxIter:     50, Actual Iterations:      50; Loss= 0.703157:  w1=-0.205304, w2= 1.493002, b=-0.50510\n",
            "  Rate=0.05, MaxIter:    100, Actual Iterations:     100; Loss= 0.394828:  w1=-0.940975, w2= 2.022959, b=-0.45611\n",
            "  Rate=0.05, MaxIter:    500, Actual Iterations:     396; Loss= 0.044949:  w1=-1.960993, w2= 3.732698, b=-0.83293\n",
            "  Rate=0.05, MaxIter:  1,000, Actual Iterations:     408; Loss= 0.044931:  w1=-1.957188, w2= 3.739203, b=-0.82544\n",
            "  Rate=0.05, MaxIter:  5,000, Actual Iterations:     396; Loss= 0.044895:  w1=-1.917726, w2= 3.747145, b=-0.86457\n",
            "  Rate=0.05, MaxIter: 10,000, Actual Iterations:     405; Loss= 0.044965:  w1=-1.901619, w2= 3.755605, b=-0.88332\n",
            "  Rate=0.05, MaxIter: 25,000, Actual Iterations:     428; Loss= 0.044945:  w1=-1.958250, w2= 3.735600, b=-0.82811\n",
            "  Rate=0.05, MaxIter: 50,000, Actual Iterations:     416; Loss= 0.044837:  w1=-1.924887, w2= 3.745695, b=-0.85595\n",
            "\n",
            "  Rate=0.01, MaxIter:     10, Actual Iterations:      10; Loss= 1.281617:  w1= 0.112752, w2= 0.410506, b= 0.00471\n",
            "  Rate=0.01, MaxIter:     50, Actual Iterations:      50; Loss= 1.101121:  w1= 0.062325, w2= 0.715529, b=-0.17835\n",
            "  Rate=0.01, MaxIter:    100, Actual Iterations:     100; Loss= 0.945773:  w1=-0.371453, w2= 0.812280, b=-0.08170\n",
            "  Rate=0.01, MaxIter:    500, Actual Iterations:     500; Loss= 0.346739:  w1=-1.085971, w2= 2.139510, b=-0.41352\n",
            "  Rate=0.01, MaxIter:  1,000, Actual Iterations:   1,000; Loss= 0.130060:  w1=-1.512284, w2= 2.990428, b=-0.66159\n",
            "  Rate=0.01, MaxIter:  5,000, Actual Iterations:   2,101; Loss= 0.044990:  w1=-1.935033, w2= 3.739980, b=-0.84162\n",
            "  Rate=0.01, MaxIter: 10,000, Actual Iterations:   2,055; Loss= 0.044994:  w1=-1.937285, w2= 3.737460, b=-0.84514\n",
            "  Rate=0.01, MaxIter: 25,000, Actual Iterations:   2,053; Loss= 0.044986:  w1=-1.915289, w2= 3.745945, b=-0.85720\n",
            "  Rate=0.01, MaxIter: 50,000, Actual Iterations:   2,028; Loss= 0.044991:  w1=-1.926581, w2= 3.741037, b=-0.85695\n",
            "\n",
            "  Rate=0.05, MaxIter:     10, Actual Iterations:      10; Loss= 1.289281:  w1= 0.100364, w2= 0.624823, b= 0.11786\n",
            "  Rate=0.05, MaxIter:     50, Actual Iterations:      50; Loss= 0.795442:  w1=-0.781753, w2= 0.982899, b=-0.02688\n",
            "  Rate=0.05, MaxIter:    100, Actual Iterations:     100; Loss= 0.334676:  w1=-1.118395, w2= 2.172232, b=-0.41178\n",
            "  Rate=0.05, MaxIter:    500, Actual Iterations:     412; Loss= 0.044966:  w1=-1.920219, w2= 3.744028, b=-0.85652\n",
            "  Rate=0.05, MaxIter:  1,000, Actual Iterations:     425; Loss= 0.044943:  w1=-1.945369, w2= 3.738670, b=-0.83539\n",
            "  Rate=0.05, MaxIter:  5,000, Actual Iterations:     416; Loss= 0.044961:  w1=-1.925372, w2= 3.742222, b=-0.85351\n",
            "  Rate=0.05, MaxIter: 10,000, Actual Iterations:     429; Loss= 0.044988:  w1=-1.942734, w2= 3.736036, b=-0.84220\n",
            "  Rate=0.05, MaxIter: 25,000, Actual Iterations:     424; Loss= 0.044940:  w1=-1.938317, w2= 3.739309, b=-0.84238\n",
            "  Rate=0.05, MaxIter: 50,000, Actual Iterations:     404; Loss= 0.044951:  w1=-1.930351, w2= 3.741800, b=-0.84643\n",
            "\n",
            "  Rate=0.1, MaxIter:     10, Actual Iterations:      10; Loss= 1.010335:  w1= 0.023293, w2= 0.862759, b=-0.34356\n",
            "  Rate=0.1, MaxIter:     50, Actual Iterations:      50; Loss= 0.373632:  w1=-0.795104, w2= 2.187297, b=-0.57236\n",
            "  Rate=0.1, MaxIter:    100, Actual Iterations:     100; Loss= 0.135013:  w1=-1.616802, w2= 2.921288, b=-0.57919\n",
            "  Rate=0.1, MaxIter:    500, Actual Iterations:     208; Loss= 0.044694:  w1=-1.939130, w2= 3.744783, b=-0.84841\n",
            "  Rate=0.1, MaxIter:  1,000, Actual Iterations:     218; Loss= 0.044460:  w1=-1.951356, w2= 3.748500, b=-0.84094\n",
            "  Rate=0.1, MaxIter:  5,000, Actual Iterations:     203; Loss= 0.044891:  w1=-1.930927, w2= 3.742297, b=-0.84984\n",
            "  Rate=0.1, MaxIter: 10,000, Actual Iterations:     202; Loss= 0.044882:  w1=-1.927040, w2= 3.743860, b=-0.85849\n",
            "  Rate=0.1, MaxIter: 25,000, Actual Iterations:     209; Loss= 0.044919:  w1=-1.950596, w2= 3.736224, b=-0.83646\n",
            "  Rate=0.1, MaxIter: 50,000, Actual Iterations:     212; Loss= 0.044939:  w1=-1.920610, w2= 3.744663, b=-0.85634\n",
            "\n",
            "  Rate=0.3, MaxIter:     10, Actual Iterations:      10; Loss= 0.595564:  w1=-0.646031, w2= 1.593240, b=-0.25536\n",
            "  Rate=0.3, MaxIter:     50, Actual Iterations:      50; Loss= 0.061845:  w1=-1.794282, w2= 3.491909, b=-0.77936\n",
            "  Rate=0.3, MaxIter:    100, Actual Iterations:      66; Loss= 0.044562:  w1=-1.932259, w2= 3.761412, b=-0.88120\n",
            "  Rate=0.3, MaxIter:    500, Actual Iterations:      67; Loss= 0.043973:  w1=-1.970640, w2= 3.762402, b=-0.83068\n",
            "  Rate=0.3, MaxIter:  1,000, Actual Iterations:      68; Loss= 0.044299:  w1=-1.962339, w2= 3.754994, b=-0.83077\n",
            "  Rate=0.3, MaxIter:  5,000, Actual Iterations:      70; Loss= 0.044689:  w1=-1.926420, w2= 3.750344, b=-0.86553\n",
            "  Rate=0.3, MaxIter: 10,000, Actual Iterations:      69; Loss= 0.044797:  w1=-1.934754, w2= 3.761607, b=-0.88624\n",
            "  Rate=0.3, MaxIter: 25,000, Actual Iterations:      69; Loss= 0.044466:  w1=-1.898163, w2= 3.768979, b=-0.88259\n",
            "  Rate=0.3, MaxIter: 50,000, Actual Iterations:      71; Loss= 0.044494:  w1=-1.943748, w2= 3.749329, b=-0.84586\n",
            "\n"
          ],
          "name": "stdout"
        }
      ]
    },
    {
      "cell_type": "markdown",
      "metadata": {
        "colab_type": "text",
        "id": "mMNxMJJdVhOj"
      },
      "source": [
        "(B) What settings worked well for you:  online vs. batch vs. minibatch? What step size? How did you decide to terminate?"
      ]
    },
    {
      "cell_type": "markdown",
      "metadata": {
        "id": "NyLG_KMJxmud",
        "colab_type": "text"
      },
      "source": [
        "> In terms of minimizing the number of epochs, **Stochastic Gradient Descent (SGD)** worked best.  Also, the largest step size of **0.3** was consistently the best irregardless of the algorithm.  \n",
        "\n",
        "> When SGD was run with a step size of 0.3, it was consistently able to converge on an answer in just **two** epochs.\n",
        "\n",
        "> To find an optimal value for the termination threshold, I first ran through all of the Rates / MaxIter combinations with no threshold.  Examining the data from those trial runs, I was able to see that the gradient descent always hit a lower plateau at approximately MSE = 0.043 to 0.044.  Based on that observation, I set an early termination threshold of 0.045."
      ]
    },
    {
      "cell_type": "markdown",
      "metadata": {
        "colab_type": "text",
        "id": "bXxAjKTtVhOm"
      },
      "source": [
        "(C) Make a graph of error on the entire data set as a function of epoch. An epoch is a complete sweep through all the data (which is one iteration for full-batch gradient descent)."
      ]
    },
    {
      "cell_type": "code",
      "metadata": {
        "colab_type": "code",
        "id": "j3rvqIrYVhOn",
        "colab": {}
      },
      "source": [
        "# Gather the data\n",
        "sgd_epoch = []\n",
        "sgd_error = []\n",
        "gd_epoch = []\n",
        "gd_error = []\n",
        "mb_epoch = []\n",
        "mb_error = []\n",
        "\n",
        "for mi in range(1,100):\n",
        "\n",
        "    # Stochastic Gradient Descent\n",
        "    w = np.random.uniform(0, 1, (Xaug.shape[1]))  # make a random initial guess at the weights\n",
        "    w,l,i = least_squares_grad_desc(Xaug, y, w, mi, 0.3, online_epoch)\n",
        "    sgd_epoch.append(i)\n",
        "    sgd_error.append(l)\n",
        "\n",
        "    # Gradient Descent\n",
        "    w = np.random.uniform(0, 1, (Xaug.shape[1]))  # make a random initial guess at the weights\n",
        "    w,l,i = least_squares_grad_desc(Xaug, y, w, mi, 0.3, batch_update)\n",
        "    gd_epoch.append(i)\n",
        "    gd_error.append(l)\n",
        "\n",
        "    # Mini-batch Gradient Descent\n",
        "    w = np.random.uniform(0, 1, (Xaug.shape[1]))  # make a random initial guess at the weights\n",
        "    w,l,i = least_squares_grad_desc(Xaug, y, w, mi, 0.3, mini_batch_update, 32)\n",
        "    mb_epoch.append(i)\n",
        "    mb_error.append(l)\n"
      ],
      "execution_count": 0,
      "outputs": []
    },
    {
      "cell_type": "code",
      "metadata": {
        "id": "XUWOdVeXAKIY",
        "colab_type": "code",
        "colab": {
          "base_uri": "https://localhost:8080/",
          "height": 370
        },
        "outputId": "f4d5b135-38d2-4f08-9cff-382826a7563e"
      },
      "source": [
        "import matplotlib.pyplot as plt\n",
        "\n",
        "# Plot the data\n",
        "fig = plt.figure(figsize=(15, 5))\n",
        "ax1 = fig.add_subplot(111)\n",
        "ax1.semilogy(sgd_epoch, sgd_error, c='r', label='stochastic gradient descent')\n",
        "ax1.semilogy(gd_epoch,  gd_error,  c='g', label='batch gradient descent')\n",
        "ax1.semilogy(mb_epoch,  mb_error,  c='b', label='mini-batch gradient descent')\n",
        "plt.legend(loc='upper right');\n",
        "plt.suptitle(r\"$\\alpha = 0.3$\")\n",
        "plt.xlabel(\"Epoch\")\n",
        "plt.ylabel(\"Error\")\n",
        "plt.grid(b=True, which='major', color='#666666', linestyle='-')\n",
        "plt.grid(b=True, which='minor', color='#333333', linestyle='--')\n",
        "plt.show()"
      ],
      "execution_count": 15,
      "outputs": [
        {
          "output_type": "display_data",
          "data": {
            "image/png": "[encoded data removed]",
            "text/plain": [
              "<Figure size 1080x360 with 1 Axes>"
            ]
          },
          "metadata": {
            "tags": []
          }
        }
      ]
    },
    {
      "cell_type": "markdown",
      "metadata": {
        "colab_type": "text",
        "id": "u2WH5OVEVhOp"
      },
      "source": [
        "## Part 3"
      ]
    },
    {
      "cell_type": "markdown",
      "metadata": {
        "colab_type": "text",
        "id": "POTbQx4cVhOp"
      },
      "source": [
        "The data set from a regression problem can be converted into a classification problem simply by using the sign of (+ or -) as representing one of two classes. In the data set used in Part 1 and 2, you'll see the variable z that represents this binary (0 or 1) class.\n",
        "\n",
        "Use the perceptron learning rule to solve for the coefficients {$w_1$, $w_2$, $b$} of this classification problem.   \n",
        "\n",
        "Two warnings: First, your solution to Part 3 should require only a few lines of code changed from the code you wrote for Part 2. Second, the Perceptron algorithm will not converge if there is no exact solution to the training data. It will jitter among coefficients that all yield roughly equally good solutions."
      ]
    },
    {
      "cell_type": "markdown",
      "metadata": {
        "colab_type": "text",
        "id": "Qs7gbsbjVhOq"
      },
      "source": [
        "Complete the following functions below and use them to answer questions (A) and (B). \n",
        "\n",
        "**Note:** Please do not change the interface of the given functions."
      ]
    },
    {
      "cell_type": "code",
      "metadata": {
        "colab_type": "code",
        "id": "anej2h2pVhOr",
        "colab": {}
      },
      "source": [
        "def perceptron_update(X, y, w):\n",
        "    \"\"\"\n",
        "    One epoch of Perceptron updates (full sweep of the dataset).\n",
        "    \n",
        "    Parameters\n",
        "    ----------\n",
        "    X : NumPy array of features (size : no of examples X features)\n",
        "    y : Numpy array of class labels (size : no of examples X 1)\n",
        "    w : array of coefficients from the previous iteration\n",
        "    \n",
        "    Returns\n",
        "    -------\n",
        "    w : Coefficients of the classifier (after updating)\n",
        "    incorrect : Incorrectly classified examples\n",
        "    \"\"\"\n",
        "    pass\n",
        "\n",
        "def perceptron(X, y, maxIter, alpha):\n",
        "    \"\"\"\n",
        "    Implements the Perceptron algorithm.\n",
        "    \n",
        "    Parameters\n",
        "    ----------\n",
        "    X : NumPy array of features (size : no of examples X features)\n",
        "    y : Numpy array of class labels (size : no of examples X 1)\n",
        "    maxIter : The maximum number of iterations allowed \n",
        "    alpha : Learning Rate\n",
        "    \n",
        "    Returns\n",
        "    -------\n",
        "    w : Coefficients of the classifier\n",
        "    incorrect : Incorrectly classified examples on termination\n",
        "    \"\"\"\n",
        "    pass"
      ],
      "execution_count": 0,
      "outputs": []
    },
    {
      "cell_type": "markdown",
      "metadata": {
        "colab_type": "text",
        "id": "CiM8viPnVhOt"
      },
      "source": [
        "(A) Report the values of coefficients $w_1$, $w_2$, and $b$."
      ]
    },
    {
      "cell_type": "code",
      "metadata": {
        "colab_type": "code",
        "id": "Jl1YoCt-VhOt",
        "colab": {}
      },
      "source": [
        ""
      ],
      "execution_count": 0,
      "outputs": []
    },
    {
      "cell_type": "markdown",
      "metadata": {
        "colab_type": "text",
        "id": "v9MObKUYVhOv"
      },
      "source": [
        "(B) Make a graph of the accuracy (% correct classification) on the training set as a function of epoch."
      ]
    },
    {
      "cell_type": "code",
      "metadata": {
        "colab_type": "code",
        "id": "x8yAplB5VhOw",
        "colab": {}
      },
      "source": [
        ""
      ],
      "execution_count": 0,
      "outputs": []
    },
    {
      "cell_type": "markdown",
      "metadata": {
        "colab_type": "text",
        "id": "AfXBONZZVhOy"
      },
      "source": [
        "## Part 4"
      ]
    },
    {
      "cell_type": "markdown",
      "metadata": {
        "colab_type": "text",
        "id": "zO2ij9gIVhOy"
      },
      "source": [
        "In machine learning, we really want to train a model based on some data and then expect the model to do well on \"out of sample\" data. Try this with the code you wrote for Part 3:  Train the model on the first {5, 10, 25, 50, 75} examples in the data set and test the model on the final 25 examples."
      ]
    },
    {
      "cell_type": "markdown",
      "metadata": {
        "colab_type": "text",
        "id": "F66-PYWKVhOz"
      },
      "source": [
        "Complete the following function below and use it to answer (A). \n",
        "\n",
        "**Note:** Please do not change the interface of the given function."
      ]
    },
    {
      "cell_type": "code",
      "metadata": {
        "colab_type": "code",
        "id": "3wseIfmUVhOz",
        "colab": {}
      },
      "source": [
        "def classify(X, y, w):\n",
        "    \"\"\"\n",
        "    Use this function to classify examples in the test set\n",
        "    \n",
        "    Parameters\n",
        "    ----------\n",
        "    X : Test set features\n",
        "    y : Test set labels\n",
        "    w : Perceptron coefficients\n",
        "    \n",
        "    Returns\n",
        "    -------\n",
        "    correct : number of correctly classified examples\n",
        "    \"\"\"\n",
        "    pass"
      ],
      "execution_count": 0,
      "outputs": []
    },
    {
      "cell_type": "markdown",
      "metadata": {
        "colab_type": "text",
        "id": "I3D_lEO8VhO3"
      },
      "source": [
        "How does performance on the test set vary with the amount of training data? Make a bar graph showing performance for each of the different training set sizes."
      ]
    },
    {
      "cell_type": "code",
      "metadata": {
        "colab_type": "code",
        "id": "0GrkjpYDVhO4",
        "colab": {}
      },
      "source": [
        ""
      ],
      "execution_count": 0,
      "outputs": []
    }
  ]
}