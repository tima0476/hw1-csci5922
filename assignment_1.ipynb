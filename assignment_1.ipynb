{
  "nbformat": 4,
  "nbformat_minor": 0,
  "metadata": {
    "colab": {
      "name": "Copy of assignment_1.ipynb",
      "provenance": [],
      "collapsed_sections": [],
      "include_colab_link": true
    },
    "kernelspec": {
      "name": "python3",
      "display_name": "Python 3"
    },
    "language_info": {
      "codemirror_mode": {
        "name": "ipython",
        "version": 3
      },
      "file_extension": ".py",
      "mimetype": "text/x-python",
      "name": "python",
      "nbconvert_exporter": "python",
      "pygments_lexer": "ipython3",
      "version": "3.7.6"
    },
    "accelerator": "TPU"
  },
  "cells": [
    {
      "cell_type": "markdown",
      "metadata": {
        "id": "view-in-github",
        "colab_type": "text"
      },
      "source": [
        "<a href=\"https://colab.research.google.com/github/tima0476/hw1-csci5922/blob/master/assignment_1.ipynb\" target=\"_parent\"><img src=\"https://colab.research.google.com/assets/colab-badge.svg\" alt=\"Open In Colab\"/></a>"
      ]
    },
    {
      "cell_type": "markdown",
      "metadata": {
        "colab_type": "text",
        "id": "yI6QRw_VVhOI"
      },
      "source": [
        "# <center> Neural Networks and Deep Learning (CSCI 5922)</center>\n",
        "# <center> Spring 2020 </center>"
      ]
    },
    {
      "cell_type": "markdown",
      "metadata": {
        "colab_type": "text",
        "id": "oyyZSLCIVhOK"
      },
      "source": [
        "**Name:** Timothy Mason"
      ]
    },
    {
      "cell_type": "markdown",
      "metadata": {
        "colab_type": "text",
        "id": "B7u4l5SIVhOL"
      },
      "source": [
        "## Goal"
      ]
    },
    {
      "cell_type": "markdown",
      "metadata": {
        "colab_type": "text",
        "id": "O7mbNY0lVhOL"
      },
      "source": [
        "The goal of this assignment is to introduce neural networks in terms of ideas you are already familiar with:  linear regression and classification"
      ]
    },
    {
      "cell_type": "markdown",
      "metadata": {
        "colab_type": "text",
        "id": "7kNKcDdGDO4z"
      },
      "source": [
        "## Dataset"
      ]
    },
    {
      "cell_type": "markdown",
      "metadata": {
        "colab_type": "text",
        "id": "w-ZVWvA4VhON"
      },
      "source": [
        "You are given a dataset with 2 input variables ($x_1$, $x_2$) and an output variable ($y$)."
      ]
    },
    {
      "cell_type": "code",
      "metadata": {
        "colab_type": "code",
        "id": "qluUEgHYVhOO",
        "outputId": "c8c0fd28-78bf-4581-e236-6c57125ce445",
        "colab": {
          "base_uri": "https://localhost:8080/",
          "height": 34
        }
      },
      "source": [
        "from sklearn.datasets import make_regression\n",
        "from matplotlib import pyplot\n",
        "import numpy as np\n",
        "import os\n",
        "\n",
        "try:\n",
        "    from google.colab import drive\n",
        "    drive.mount('/content/drive', force_remount=True)\n",
        "\n",
        "    # Load data from gDrive\n",
        "    data = np.loadtxt(os.path.join('/content/drive/My Drive/spring2020/hw1-csci5922/data', 'assign1_data.txt'),  delimiter=',')\n",
        "except:\n",
        "    # Load data - relative path from notebook\n",
        "    data = np.loadtxt(os.path.join('data', 'assign1_data.txt'),  delimiter=',')\n",
        "    \n",
        "X = data[:,:2]\n",
        "y = data[:, 2]\n",
        "z = data[:, 3]"
      ],
      "execution_count": 21,
      "outputs": [
        {
          "output_type": "stream",
          "text": [
            "Mounted at /content/drive\n"
          ],
          "name": "stdout"
        }
      ]
    },
    {
      "cell_type": "markdown",
      "metadata": {
        "colab_type": "text",
        "id": "ZiLhj-CvVhOQ"
      },
      "source": [
        "## Part 1"
      ]
    },
    {
      "cell_type": "markdown",
      "metadata": {
        "colab_type": "text",
        "id": "1zNUNcC0VhOR"
      },
      "source": [
        "Write a program to find the exact least squares solution to $y = w_1 x_1 + w_2 x_2 + b$ for the above dataset, using the normal equation."
      ]
    },
    {
      "cell_type": "markdown",
      "metadata": {
        "colab_type": "text",
        "id": "txzccR6-VhOS"
      },
      "source": [
        "Complete the following function below and use it to answer questions (A) and (B). \n",
        "\n",
        "**Note:** Please do not change the interface of the given function."
      ]
    },
    {
      "cell_type": "code",
      "metadata": {
        "colab_type": "code",
        "id": "gFAcJL6VVhOS",
        "colab": {}
      },
      "source": [
        "def least_squares(X, y):\n",
        "    \"\"\"\n",
        "    Finds the Least Squares solution\n",
        "    \n",
        "    Parameters\n",
        "    ----------\n",
        "    X : NumPy array of features (size : no of examples X features)\n",
        "    y : Numpy array of output value 'y' (size : no of examples X 1)\n",
        "    \n",
        "    Returns\n",
        "    -------\n",
        "    w : solution array\n",
        "    \"\"\"\n",
        "\n",
        "    # From the text:  \"Instead of adding the bias parameter b, one can continue to use \n",
        "    # the model with only weights but augment x with an extra entry that is always set \n",
        "    # to 1. The weight corresponding to the extra 1 entry plays the role of the bias \n",
        "    # parameter.\"\n",
        "\n",
        "    X = np.c_[np.ones((X.shape[0],1)), X]   # Augment X's with extra 1's\n",
        "\n",
        "    # Calculate the normal equation.\n",
        "    w = np.linalg.inv(X.T @ X) @ X.T @ y\n",
        "\n",
        "    return w"
      ],
      "execution_count": 0,
      "outputs": []
    },
    {
      "cell_type": "markdown",
      "metadata": {
        "colab_type": "text",
        "id": "ZcO-nAfxVhOV"
      },
      "source": [
        "(A) Report the values of $w_1$, $w_2$, and $b$."
      ]
    },
    {
      "cell_type": "code",
      "metadata": {
        "colab_type": "code",
        "id": "5sXuI05yVhOV",
        "outputId": "da2632a3-3333-4617-87c9-116c01f2d5e3",
        "colab": {
          "base_uri": "https://localhost:8080/",
          "height": 68
        }
      },
      "source": [
        "w = least_squares(X, y)\n",
        "print(f\"w_1 = {w[1]}\\nw_2 = {w[2]}\\n  b = {w[0]}\")"
      ],
      "execution_count": 23,
      "outputs": [
        {
          "output_type": "stream",
          "text": [
            "w_1 = -2.0442425951376353\n",
            "w_2 = 3.996860168659322\n",
            "  b = -0.9242908118675891\n"
          ],
          "name": "stdout"
        }
      ]
    },
    {
      "cell_type": "markdown",
      "metadata": {
        "colab_type": "text",
        "id": "S-jYwaEbVhOY"
      },
      "source": [
        "(B) What function or method did you use to find the least-squares solution?"
      ]
    },
    {
      "cell_type": "markdown",
      "metadata": {
        "colab_type": "text",
        "id": "OF8A7mYEVhOY"
      },
      "source": [
        "> The linear regression was calculated using the equation: \n",
        "> \n",
        "> $$\\mathbf{w} = \\left( \\mathbf{X}^\\top \\mathbf{X} \\right)^{-1} \\mathbf{X}^\\top \\mathbf{y}$$\n",
        "> \n",
        "> \n",
        "> The vector $\\mathbf{w}$ provides the weight coefficients for the prediction $\\hat{y}$:\n",
        "> \n",
        "> $$ \\hat{y} = \\mathbf{w}^\\top \\mathbf{x} = w_1 x_1 + w_2 x_2 + \\ldots + w_m x_m$$\n",
        "> \n",
        "> \n",
        "> Note that the requirement was to find the exact least squares solution to $y = w_1 x_1 + w_2 x_2 + b$.  \n",
        ">\n",
        "> To find the $b$ term, an extra column of 1's was inserted as the leftmost column of the $\\mathbf{X}$ matrix,\n",
        "> which adds a new term $x_0 = 1$.  This caused the normal \n",
        "> equation to solve for \n",
        "> \n",
        "> $$\n",
        "\\begin{split}\n",
        "    \\hat{y} = \\mathbf{w}^\\top \\mathbf{x} & =  w_0 x_0 + w_1 x_1 + w_2 x_2 \\\\\n",
        "    \\\\\n",
        "    \\text{Note that we set } x_0 = 1 \\text{, therefore: } \\hat{y} & = w_0 + w_1 x_1 + w_2 x_2 \\\\\n",
        "    \\\\\n",
        "    \\text{Let }w_0=b\\text{, and we have: } \\hat{y} & = w_1 x_1 + w_2 x_2 + b\n",
        "\\end{split}\n",
        "$$\n",
        ">"
      ]
    },
    {
      "cell_type": "markdown",
      "metadata": {
        "colab_type": "text",
        "id": "_qNGRMnLVhOZ"
      },
      "source": [
        "## Part 2"
      ]
    },
    {
      "cell_type": "markdown",
      "metadata": {
        "colab_type": "text",
        "id": "K2C1Pj1xVhOZ"
      },
      "source": [
        "Implement linear regression of y on X via first-order optimization of the least-squares objective. Write a program that determines the coefficients {w1,w2,b}. Implement stochastic gradient descent, batch gradient descent, and mini-batch gradient descent. You will need to experiment with updating rules, step sizes (i.e. learning rates), stopping criteria, etc. Experiment to find settings that lead to solutions with the fewest number of sweeps through the data."
      ]
    },
    {
      "cell_type": "markdown",
      "metadata": {
        "colab_type": "text",
        "id": "Dz9LPxNsVhOa"
      },
      "source": [
        "Complete the following functions below and use them to answer questions (A), (B) and (C). You may find the shuffle function from scikit-learn useful. \n",
        "\n",
        "Use the following hyperparameters:\n",
        "\n",
        "Learning rates = [0.001, 0.05, 0.01, 0.05, 0.1, 0.3]\n",
        "\n",
        "MaxIter = [10, 50, 100, 500, 1000, 5000, 10000, 25000, 50000]\n",
        "\n",
        "**Note:** Please do not change the interface of the given functions."
      ]
    },
    {
      "cell_type": "code",
      "metadata": {
        "colab_type": "code",
        "id": "9rCKocs6VhOb",
        "colab": {}
      },
      "source": [
        "from sklearn.utils import shuffle\n",
        "Error_Thresh = 0.045    # terminate a gradient descent when we get the loss below this threshold\n",
        "\n",
        "def online_epoch(X, y, w, alpha):\n",
        "    \"\"\"\n",
        "    One epoch of stochastic gradient descent (i.e. one sweep of the dataset).\n",
        "    \n",
        "    Parameters\n",
        "    ----------\n",
        "    X : NumPy array of features (size : no of examples X features)\n",
        "    y : Numpy array of class labels (size : no of examples X 1)\n",
        "    w : array of coefficients from the previous iteration\n",
        "    alpha : learning rate\n",
        "    \n",
        "    Returns\n",
        "    -------\n",
        "    a tuple containing Coefficients of the model (after updating) and the loss\n",
        "    \"\"\"\n",
        "    # Iterate through the training set, updating the model after each example is evaluated\n",
        "    N = X.shape[0]\n",
        "    for i in range(N):\n",
        "        x = X[i]\n",
        "        # make a prediction with our current set of weights (current example)\n",
        "        y_hat = x @ w\n",
        "\n",
        "        # compute the error (current example)\n",
        "        err = y[i] - y_hat\n",
        "\n",
        "        # compute the gradient (current example)\n",
        "        grad = -(x.T * err)\n",
        "\n",
        "        # update the model after learning from each example\n",
        "        w -= alpha*grad\n",
        "\n",
        "    # Return the updated weights and the full-training set loss.\n",
        "    return (w,np.average((y - X @ w) ** 2))\n",
        "\n",
        "\n",
        "def batch_update(X, y, w, alpha):\n",
        "    \"\"\"\n",
        "    One iteration of full-batch gradient descent.\n",
        "    \n",
        "    Parameters\n",
        "    ----------\n",
        "    X : NumPy array of features (size : no of examples X features)\n",
        "    y : Numpy array of class labels (size : no of examples X 1)\n",
        "    w : array of coefficients from the previous iteration\n",
        "    alpha : Learning rate\n",
        "    \n",
        "    Returns\n",
        "    -------\n",
        "    a tuple containing Coefficients of the model (after updating) and the loss\n",
        "    \"\"\"\n",
        "    # make a prediction with our current set of weights (full training set)\n",
        "    y_hat = X @ w\n",
        "\n",
        "    # compute the error (full training set)\n",
        "    err = y - y_hat\n",
        "\n",
        "    # compute the gradient (full training set)\n",
        "    N = X.shape[0]\n",
        "    grad = (X.T @ err) * -2.0 / N\n",
        "\n",
        "    # Now we've evaluated the entire training set, update the model\n",
        "    w -= alpha*grad\n",
        "\n",
        "    # Return the updated weights and the loss.\n",
        "    return (w,np.average(err**2))\n",
        "\n",
        "def mini_batch_update(X, y, w, alpha, batch_size):\n",
        "    \"\"\"\n",
        "    One epoch of mini-batch SGD over the entire dataset (i.e. one sweep of the dataset).\n",
        "    \n",
        "    Parameters\n",
        "    ----------\n",
        "    X : NumPy array of features (size : no of examples X features)\n",
        "    y : Numpy array of class labels (size : no of examples X 1)\n",
        "    w : array of coefficients from the previous iteration\n",
        "    alpha : learining rate\n",
        "    batch_size : size of the batch for gradient update\n",
        "    \n",
        "    Returns\n",
        "    -------\n",
        "    a tuple containing Coefficients of the model (after updating) and the loss\n",
        "    \"\"\"\n",
        "    # Pull out a random subset of the training data.\n",
        "\n",
        "    mini_comb = shuffle(np.c_[X,y], n_samples = batch_size)     # shuffle combined X and y\n",
        "    X_sub = mini_comb[:,:3]\n",
        "    y_sub = mini_comb[:,3]\n",
        "\n",
        "    # make a prediction with our current set of weights (mini-batch training set)\n",
        "    y_hat = X_sub @ w\n",
        "\n",
        "    # compute the error (mini-batch training set)\n",
        "    err = y_sub - y_hat\n",
        "\n",
        "    # compute the gradient (full training set)\n",
        "    grad = (X_sub.T @ err) * -2.0 / batch_size\n",
        "\n",
        "    # Now we've evaluated the mini-batch, update the model\n",
        "    w -= alpha*grad\n",
        "\n",
        "    # Return the updated weights and the full-training set loss.\n",
        "    return (w,np.average((y - X @ w) ** 2))\n",
        "\n",
        "\n",
        "def least_squares_grad_desc(X, y, w, maxIter, alpha, update, *batch_size):\n",
        "    \"\"\"\n",
        "    Implements least squares with gradient descent.\n",
        "    \n",
        "    Parameters\n",
        "    ----------\n",
        "    X : NumPy array of features (size : no of examples X features)\n",
        "    y : Numpy array of class labels (size : no of examples X 1)\n",
        "    w : array of coefficients from the previous iteration\n",
        "    maxIter : Maximum number of iterations allowed\n",
        "    alpha : Learning rate\n",
        "    update : update function to utilize (one of online, batch, mini-batch)\n",
        "    batch_size : number of examples in a batch (only useful when update = mini_batch_update)\n",
        "    \n",
        "    Returns\n",
        "    -------\n",
        "    a tuple containing Coefficients of the model (after updating), the loss, and the iterations taken\n",
        "    \n",
        "    Note : *batch_size is an optional argument and only to be used when doing mini-batch Gradient Descent \n",
        "    \"\"\"\n",
        "    for i in range(maxIter):\n",
        "        if batch_size:\n",
        "            w,l = update(X, y, w, alpha, batch_size[0])\n",
        "        else:\n",
        "            w,l = update(X, y, w, alpha)\n",
        "        \n",
        "        # If result is \"good enough\", then terminate early\n",
        "        if l < Error_Thresh:\n",
        "            break\n",
        "\n",
        "    return (w,l,i+1)\n"
      ],
      "execution_count": 0,
      "outputs": []
    },
    {
      "cell_type": "markdown",
      "metadata": {
        "colab_type": "text",
        "id": "zYMi7e8ZVhOd"
      },
      "source": [
        "(A) Report the values of $w_1$, $w_2$, and $b$. "
      ]
    },
    {
      "cell_type": "code",
      "metadata": {
        "colab_type": "code",
        "id": "uJ2UpCAbVhOd",
        "colab": {}
      },
      "source": [
        "rates = [0.001, 0.05, 0.01, 0.05, 0.1, 0.3]\n",
        "MaxIter = [10, 50, 100, 500, 1000, 5000, 10000, 25000, 50000]\n",
        "\n",
        "Xaug = np.c_[np.ones((X.shape[0],1)), X]   # Augment X's with extra 1's for the bias term"
      ],
      "execution_count": 0,
      "outputs": []
    },
    {
      "cell_type": "markdown",
      "metadata": {
        "id": "HAYPBzpxZAU-",
        "colab_type": "text"
      },
      "source": [
        "### Stochastic Gradient Descent"
      ]
    },
    {
      "cell_type": "code",
      "metadata": {
        "colab_type": "code",
        "id": "WWht3FM2VhOf",
        "colab": {
          "base_uri": "https://localhost:8080/",
          "height": 1000
        },
        "outputId": "7066ab62-e282-403a-c671-6d4c7792e902"
      },
      "source": [
        "for alpha in rates:\n",
        "    for mi in MaxIter:\n",
        "        w = np.random.uniform(0, 1, (Xaug.shape[1]))  # make a random initial guess at the weights\n",
        "        w,l,i = least_squares_grad_desc(Xaug, y, w, mi, alpha, online_epoch)\n",
        "        print(f\"  Rate={alpha}, MaxIter:{mi:7,d}, Actual Iterations: {i:7,d}; Loss={l:9.6f}:  w1={w[1]:9.6f}, w2={w[2]:9.6f}, b={w[0]:8.5f}\")\n",
        "    print()\n"
      ],
      "execution_count": 29,
      "outputs": [
        {
          "output_type": "stream",
          "text": [
            "  Rate=0.001, MaxIter:     10, Actual Iterations:      10; Loss= 1.077074:  w1=-0.309116, w2= 0.723021, b= 0.15276\n",
            "  Rate=0.001, MaxIter:     50, Actual Iterations:      50; Loss= 0.951501:  w1=-0.224735, w2= 0.863012, b=-0.19197\n",
            "  Rate=0.001, MaxIter:    100, Actual Iterations:     100; Loss= 0.497162:  w1=-0.822195, w2= 1.745382, b=-0.35830\n",
            "  Rate=0.001, MaxIter:    500, Actual Iterations:     426; Loss= 0.044985:  w1=-1.926859, w2= 3.741565, b=-0.84965\n",
            "  Rate=0.001, MaxIter:  1,000, Actual Iterations:     407; Loss= 0.044927:  w1=-1.927360, w2= 3.742938, b=-0.85011\n",
            "  Rate=0.001, MaxIter:  5,000, Actual Iterations:     414; Loss= 0.044990:  w1=-1.946118, w2= 3.735714, b=-0.83756\n",
            "  Rate=0.001, MaxIter: 10,000, Actual Iterations:     423; Loss= 0.044961:  w1=-1.950798, w2= 3.735339, b=-0.83515\n",
            "  Rate=0.001, MaxIter: 25,000, Actual Iterations:     394; Loss= 0.044969:  w1=-1.934310, w2= 3.739547, b=-0.84510\n",
            "  Rate=0.001, MaxIter: 50,000, Actual Iterations:     411; Loss= 0.044951:  w1=-1.932528, w2= 3.740582, b=-0.84647\n",
            "\n",
            "  Rate=0.05, MaxIter:     10, Actual Iterations:       9; Loss= 0.043278:  w1=-1.937827, w2= 3.838830, b=-0.85909\n",
            "  Rate=0.05, MaxIter:     50, Actual Iterations:       9; Loss= 0.043237:  w1=-1.920357, w2= 3.853976, b=-0.87394\n",
            "  Rate=0.05, MaxIter:    100, Actual Iterations:       9; Loss= 0.043690:  w1=-1.926376, w2= 3.829819, b=-0.85935\n",
            "  Rate=0.05, MaxIter:    500, Actual Iterations:       9; Loss= 0.043276:  w1=-1.964539, w2= 3.824762, b=-0.84093\n",
            "  Rate=0.05, MaxIter:  1,000, Actual Iterations:       9; Loss= 0.043141:  w1=-1.964065, w2= 3.830089, b=-0.84379\n",
            "  Rate=0.05, MaxIter:  5,000, Actual Iterations:       9; Loss= 0.043232:  w1=-1.947961, w2= 3.834542, b=-0.85273\n",
            "  Rate=0.05, MaxIter: 10,000, Actual Iterations:       9; Loss= 0.043421:  w1=-1.951105, w2= 3.825480, b=-0.84688\n",
            "  Rate=0.05, MaxIter: 25,000, Actual Iterations:       9; Loss= 0.043361:  w1=-1.946137, w2= 3.830430, b=-0.85143\n",
            "  Rate=0.05, MaxIter: 50,000, Actual Iterations:       9; Loss= 0.043745:  w1=-1.933405, w2= 3.823111, b=-0.85307\n",
            "\n",
            "  Rate=0.01, MaxIter:     10, Actual Iterations:      10; Loss= 0.410873:  w1=-0.989258, w2= 1.951808, b=-0.37311\n",
            "  Rate=0.01, MaxIter:     50, Actual Iterations:      43; Loss= 0.044441:  w1=-1.916841, w2= 3.763178, b=-0.85910\n",
            "  Rate=0.01, MaxIter:    100, Actual Iterations:      41; Loss= 0.044895:  w1=-1.916796, w2= 3.750351, b=-0.85262\n",
            "  Rate=0.01, MaxIter:    500, Actual Iterations:      41; Loss= 0.044881:  w1=-1.920050, w2= 3.749441, b=-0.85065\n",
            "  Rate=0.01, MaxIter:  1,000, Actual Iterations:      42; Loss= 0.044438:  w1=-1.915364, w2= 3.763903, b=-0.86015\n",
            "  Rate=0.01, MaxIter:  5,000, Actual Iterations:      41; Loss= 0.044727:  w1=-1.914544, w2= 3.755964, b=-0.85651\n",
            "  Rate=0.01, MaxIter: 10,000, Actual Iterations:      42; Loss= 0.044572:  w1=-1.919592, w2= 3.758249, b=-0.85532\n",
            "  Rate=0.01, MaxIter: 25,000, Actual Iterations:      42; Loss= 0.044333:  w1=-1.911719, w2= 3.768712, b=-0.86427\n",
            "  Rate=0.01, MaxIter: 50,000, Actual Iterations:      40; Loss= 0.044963:  w1=-1.881476, w2= 3.766491, b=-0.87719\n",
            "\n",
            "  Rate=0.05, MaxIter:     10, Actual Iterations:       9; Loss= 0.043344:  w1=-1.958124, w2= 3.825025, b=-0.84373\n",
            "  Rate=0.05, MaxIter:     50, Actual Iterations:       9; Loss= 0.043158:  w1=-1.942062, w2= 3.841110, b=-0.85847\n",
            "  Rate=0.05, MaxIter:    100, Actual Iterations:       9; Loss= 0.043628:  w1=-1.932187, w2= 3.828368, b=-0.85621\n",
            "  Rate=0.05, MaxIter:    500, Actual Iterations:       9; Loss= 0.042861:  w1=-1.957736, w2= 3.844447, b=-0.85361\n",
            "  Rate=0.05, MaxIter:  1,000, Actual Iterations:       9; Loss= 0.042955:  w1=-1.941382, w2= 3.850328, b=-0.86336\n",
            "  Rate=0.05, MaxIter:  5,000, Actual Iterations:       9; Loss= 0.043031:  w1=-1.933473, w2= 3.852676, b=-0.86783\n",
            "  Rate=0.05, MaxIter: 10,000, Actual Iterations:       9; Loss= 0.042892:  w1=-1.955611, w2= 3.844307, b=-0.85442\n",
            "  Rate=0.05, MaxIter: 25,000, Actual Iterations:       8; Loss= 0.044470:  w1=-1.924099, w2= 3.802724, b=-0.84675\n",
            "  Rate=0.05, MaxIter: 50,000, Actual Iterations:       8; Loss= 0.044922:  w1=-1.911207, w2= 3.795478, b=-0.84850\n",
            "\n",
            "  Rate=0.1, MaxIter:     10, Actual Iterations:       5; Loss= 0.042552:  w1=-1.956212, w2= 3.912267, b=-0.87695\n",
            "  Rate=0.1, MaxIter:     50, Actual Iterations:       5; Loss= 0.042135:  w1=-1.965099, w2= 3.935610, b=-0.88511\n",
            "  Rate=0.1, MaxIter:    100, Actual Iterations:       5; Loss= 0.042341:  w1=-1.954156, w2= 3.934952, b=-0.88894\n",
            "  Rate=0.1, MaxIter:    500, Actual Iterations:       5; Loss= 0.042375:  w1=-1.956834, w2= 3.926401, b=-0.88370\n",
            "  Rate=0.1, MaxIter:  1,000, Actual Iterations:       5; Loss= 0.042625:  w1=-1.947828, w2= 3.919446, b=-0.88368\n",
            "  Rate=0.1, MaxIter:  5,000, Actual Iterations:       5; Loss= 0.042261:  w1=-1.975729, w2= 3.909693, b=-0.86827\n",
            "  Rate=0.1, MaxIter: 10,000, Actual Iterations:       5; Loss= 0.042145:  w1=-1.966642, w2= 3.931844, b=-0.88266\n",
            "  Rate=0.1, MaxIter: 25,000, Actual Iterations:       4; Loss= 0.044892:  w1=-1.924581, w2= 3.824497, b=-0.84559\n",
            "  Rate=0.1, MaxIter: 50,000, Actual Iterations:       5; Loss= 0.042287:  w1=-1.962272, w2= 3.925500, b=-0.88119\n",
            "\n",
            "  Rate=0.3, MaxIter:     10, Actual Iterations:       2; Loss= 0.042852:  w1=-1.993805, w2= 4.051563, b=-0.91857\n",
            "  Rate=0.3, MaxIter:     50, Actual Iterations:       2; Loss= 0.043230:  w1=-1.988157, w2= 4.065350, b=-0.92610\n",
            "  Rate=0.3, MaxIter:    100, Actual Iterations:       2; Loss= 0.042996:  w1=-1.993523, w2= 4.059320, b=-0.92184\n",
            "  Rate=0.3, MaxIter:    500, Actual Iterations:       2; Loss= 0.043041:  w1=-1.991970, w2= 4.059911, b=-0.92260\n",
            "  Rate=0.3, MaxIter:  1,000, Actual Iterations:       2; Loss= 0.043074:  w1=-1.991774, w2= 4.061427, b=-0.92328\n",
            "  Rate=0.3, MaxIter:  5,000, Actual Iterations:       2; Loss= 0.043141:  w1=-1.986552, w2= 4.058748, b=-0.92394\n",
            "  Rate=0.3, MaxIter: 10,000, Actual Iterations:       2; Loss= 0.043166:  w1=-1.989836, w2= 4.064007, b=-0.92499\n",
            "  Rate=0.3, MaxIter: 25,000, Actual Iterations:       2; Loss= 0.043060:  w1=-1.990078, w2= 4.058685, b=-0.92273\n",
            "  Rate=0.3, MaxIter: 50,000, Actual Iterations:       2; Loss= 0.042976:  w1=-1.989513, w2= 4.053341, b=-0.92074\n",
            "\n"
          ],
          "name": "stdout"
        }
      ]
    },
    {
      "cell_type": "markdown",
      "metadata": {
        "id": "m29tujWfY97n",
        "colab_type": "text"
      },
      "source": [
        "### Batch Gradient Descent"
      ]
    },
    {
      "cell_type": "code",
      "metadata": {
        "colab_type": "code",
        "id": "Vf1YmHkPVhOh",
        "colab": {
          "base_uri": "https://localhost:8080/",
          "height": 1000
        },
        "outputId": "9c47139c-2282-431a-c393-87f35a3c17f1"
      },
      "source": [
        "for alpha in rates:\n",
        "    for mi in MaxIter:\n",
        "        w = np.random.uniform(0, 1, (Xaug.shape[1]))  # make a random initial guess at the weights\n",
        "        w,l,i = least_squares_grad_desc(Xaug, y, w, mi, alpha, batch_update)\n",
        "        print(f\"  Rate={alpha}, MaxIter:{mi:7,d}, Actual Iterations: {i:7,d}; Loss={l:9.6f}:  w1={w[1]:9.6f}, w2={w[2]:9.6f}, b={w[0]:8.5f}\")\n",
        "    print()"
      ],
      "execution_count": 30,
      "outputs": [
        {
          "output_type": "stream",
          "text": [
            "  Rate=0.001, MaxIter:     10, Actual Iterations:      10; Loss= 2.196190:  w1= 0.131470, w2= 0.216488, b= 0.82676\n",
            "  Rate=0.001, MaxIter:     50, Actual Iterations:      50; Loss= 1.344596:  w1= 0.332096, w2= 0.526125, b=-0.02670\n",
            "  Rate=0.001, MaxIter:    100, Actual Iterations:     100; Loss= 2.066362:  w1= 0.230176, w2=-0.010407, b= 0.72054\n",
            "  Rate=0.001, MaxIter:    500, Actual Iterations:     500; Loss= 1.373518:  w1=-0.244818, w2= 0.186550, b= 0.39067\n",
            "  Rate=0.001, MaxIter:  1,000, Actual Iterations:   1,000; Loss= 1.093067:  w1=-0.328903, w2= 0.528161, b= 0.04353\n",
            "  Rate=0.001, MaxIter:  5,000, Actual Iterations:   5,000; Loss= 0.472345:  w1=-0.755350, w2= 1.855621, b=-0.44716\n",
            "  Rate=0.001, MaxIter: 10,000, Actual Iterations:  10,000; Loss= 0.150302:  w1=-1.379437, w2= 2.919731, b=-0.69208\n",
            "  Rate=0.001, MaxIter: 25,000, Actual Iterations:  21,089; Loss= 0.045000:  w1=-1.914698, w2= 3.745689, b=-0.85805\n",
            "  Rate=0.001, MaxIter: 50,000, Actual Iterations:  21,364; Loss= 0.045000:  w1=-1.953844, w2= 3.733557, b=-0.83330\n",
            "\n",
            "  Rate=0.05, MaxIter:     10, Actual Iterations:      10; Loss= 1.066836:  w1=-0.038997, w2= 0.821181, b=-0.11695\n",
            "  Rate=0.05, MaxIter:     50, Actual Iterations:      50; Loss= 0.827861:  w1=-0.390155, w2= 1.089532, b=-0.23084\n",
            "  Rate=0.05, MaxIter:    100, Actual Iterations:     100; Loss= 0.460337:  w1=-0.805600, w2= 1.887251, b=-0.43940\n",
            "  Rate=0.05, MaxIter:    500, Actual Iterations:     422; Loss= 0.044965:  w1=-1.935357, w2= 3.741109, b=-0.84592\n",
            "  Rate=0.05, MaxIter:  1,000, Actual Iterations:     414; Loss= 0.044954:  w1=-1.952484, w2= 3.736817, b=-0.83561\n",
            "  Rate=0.05, MaxIter:  5,000, Actual Iterations:     432; Loss= 0.044928:  w1=-1.933877, w2= 3.742533, b=-0.84734\n",
            "  Rate=0.05, MaxIter: 10,000, Actual Iterations:     423; Loss= 0.044970:  w1=-1.936321, w2= 3.740693, b=-0.84525\n",
            "  Rate=0.05, MaxIter: 25,000, Actual Iterations:     433; Loss= 0.044934:  w1=-1.932423, w2= 3.742859, b=-0.84820\n",
            "  Rate=0.05, MaxIter: 50,000, Actual Iterations:     408; Loss= 0.044929:  w1=-1.949370, w2= 3.738197, b=-0.83779\n",
            "\n",
            "  Rate=0.01, MaxIter:     10, Actual Iterations:      10; Loss= 1.633010:  w1= 0.399339, w2= 0.057071, b= 0.18855\n",
            "  Rate=0.01, MaxIter:     50, Actual Iterations:      50; Loss= 1.523619:  w1= 0.156673, w2= 0.097963, b= 0.25197\n",
            "  Rate=0.01, MaxIter:    100, Actual Iterations:     100; Loss= 1.168700:  w1= 0.389979, w2= 0.764622, b=-0.40146\n",
            "  Rate=0.01, MaxIter:    500, Actual Iterations:     500; Loss= 0.344788:  w1=-1.145383, w2= 2.120335, b=-0.39666\n",
            "  Rate=0.01, MaxIter:  1,000, Actual Iterations:   1,000; Loss= 0.156694:  w1=-1.416065, w2= 2.863322, b=-0.64601\n",
            "  Rate=0.01, MaxIter:  5,000, Actual Iterations:   2,025; Loss= 0.044992:  w1=-1.905967, w2= 3.750095, b=-0.86443\n",
            "  Rate=0.01, MaxIter: 10,000, Actual Iterations:   2,072; Loss= 0.044997:  w1=-1.959320, w2= 3.732846, b=-0.83034\n",
            "  Rate=0.01, MaxIter: 25,000, Actual Iterations:   2,112; Loss= 0.044989:  w1=-1.926648, w2= 3.741782, b=-0.85039\n",
            "  Rate=0.01, MaxIter: 50,000, Actual Iterations:   2,049; Loss= 0.044992:  w1=-1.894164, w2= 3.756047, b=-0.87306\n",
            "\n",
            "  Rate=0.05, MaxIter:     10, Actual Iterations:      10; Loss= 1.422630:  w1=-0.093619, w2= 0.234430, b= 0.30757\n",
            "  Rate=0.05, MaxIter:     50, Actual Iterations:      50; Loss= 0.732544:  w1=-0.363436, w2= 1.337858, b=-0.36961\n",
            "  Rate=0.05, MaxIter:    100, Actual Iterations:     100; Loss= 0.406141:  w1=-0.974669, w2= 1.987412, b=-0.41009\n",
            "  Rate=0.05, MaxIter:    500, Actual Iterations:     414; Loss= 0.044939:  w1=-1.934671, w2= 3.742011, b=-0.84670\n",
            "  Rate=0.05, MaxIter:  1,000, Actual Iterations:     428; Loss= 0.045000:  w1=-1.914226, w2= 3.747882, b=-0.85939\n",
            "  Rate=0.05, MaxIter:  5,000, Actual Iterations:     418; Loss= 0.044950:  w1=-1.910084, w2= 3.751042, b=-0.86296\n",
            "  Rate=0.05, MaxIter: 10,000, Actual Iterations:     405; Loss= 0.044941:  w1=-1.921336, w2= 3.746598, b=-0.85536\n",
            "  Rate=0.05, MaxIter: 25,000, Actual Iterations:     396; Loss= 0.044972:  w1=-1.898210, w2= 3.756193, b=-0.87122\n",
            "  Rate=0.05, MaxIter: 50,000, Actual Iterations:     418; Loss= 0.044937:  w1=-1.920743, w2= 3.746927, b=-0.85581\n",
            "\n",
            "  Rate=0.1, MaxIter:     10, Actual Iterations:      10; Loss= 0.829923:  w1=-0.325337, w2= 1.146559, b=-0.27324\n",
            "  Rate=0.1, MaxIter:     50, Actual Iterations:      50; Loss= 0.462215:  w1=-0.714579, w2= 1.948729, b=-0.51385\n",
            "  Rate=0.1, MaxIter:    100, Actual Iterations:     100; Loss= 0.118599:  w1=-1.635145, w2= 3.037992, b=-0.63086\n",
            "  Rate=0.1, MaxIter:    500, Actual Iterations:     216; Loss= 0.044988:  w1=-1.935811, w2= 3.742296, b=-0.84630\n",
            "  Rate=0.1, MaxIter:  1,000, Actual Iterations:     206; Loss= 0.044955:  w1=-1.943644, w2= 3.740875, b=-0.84186\n",
            "  Rate=0.1, MaxIter:  5,000, Actual Iterations:     203; Loss= 0.044859:  w1=-1.933353, w2= 3.746460, b=-0.84959\n",
            "  Rate=0.1, MaxIter: 10,000, Actual Iterations:     205; Loss= 0.044882:  w1=-1.933374, w2= 3.745846, b=-0.84927\n",
            "  Rate=0.1, MaxIter: 25,000, Actual Iterations:     210; Loss= 0.044985:  w1=-1.932919, w2= 3.743301, b=-0.84819\n",
            "  Rate=0.1, MaxIter: 50,000, Actual Iterations:     210; Loss= 0.044964:  w1=-1.951296, w2= 3.738714, b=-0.83713\n",
            "\n",
            "  Rate=0.3, MaxIter:     10, Actual Iterations:      10; Loss= 0.678667:  w1=-0.490579, w2= 1.526323, b=-0.40537\n",
            "  Rate=0.3, MaxIter:     50, Actual Iterations:      50; Loss= 0.068266:  w1=-1.769278, w2= 3.445824, b=-0.77458\n",
            "  Rate=0.3, MaxIter:    100, Actual Iterations:      69; Loss= 0.044976:  w1=-1.935201, w2= 3.750536, b=-0.85078\n",
            "  Rate=0.3, MaxIter:    500, Actual Iterations:      71; Loss= 0.044625:  w1=-1.944003, w2= 3.756733, b=-0.84976\n",
            "  Rate=0.3, MaxIter:  1,000, Actual Iterations:      69; Loss= 0.044732:  w1=-1.945871, w2= 3.753436, b=-0.84719\n",
            "  Rate=0.3, MaxIter:  5,000, Actual Iterations:      69; Loss= 0.044908:  w1=-1.945902, w2= 3.748977, b=-0.84491\n",
            "  Rate=0.3, MaxIter: 10,000, Actual Iterations:      68; Loss= 0.044624:  w1=-1.910808, w2= 3.770062, b=-0.87229\n",
            "  Rate=0.3, MaxIter: 25,000, Actual Iterations:      70; Loss= 0.044798:  w1=-1.945372, w2= 3.751904, b=-0.84665\n",
            "  Rate=0.3, MaxIter: 50,000, Actual Iterations:      68; Loss= 0.044882:  w1=-1.905402, w2= 3.765626, b=-0.87260\n",
            "\n"
          ],
          "name": "stdout"
        }
      ]
    },
    {
      "cell_type": "markdown",
      "metadata": {
        "id": "_KLLhZspY1Me",
        "colab_type": "text"
      },
      "source": [
        "### Mini-Batch Gradient Descent"
      ]
    },
    {
      "cell_type": "code",
      "metadata": {
        "id": "Oto8snnoYvZV",
        "colab_type": "code",
        "colab": {
          "base_uri": "https://localhost:8080/",
          "height": 1000
        },
        "outputId": "99bfac02-1315-4931-8485-6f33d921cea4"
      },
      "source": [
        "for alpha in rates:\n",
        "    for mi in MaxIter:\n",
        "        w = np.random.uniform(0, 1, (Xaug.shape[1]))  # make a random initial guess at the weights\n",
        "        w,l,i = least_squares_grad_desc(Xaug, y, w, mi, alpha, mini_batch_update, 32)\n",
        "        print(f\"  Rate={alpha}, MaxIter:{mi:7,d}, Actual Iterations: {i:7,d}; Loss={l:9.6f}:  w1={w[1]:9.6f}, w2={w[2]:9.6f}, b={w[0]:8.5f}\")\n",
        "    print()"
      ],
      "execution_count": 14,
      "outputs": [
        {
          "output_type": "stream",
          "text": [
            "  Rate=0.001, MaxIter:     10; Loss= 1.723549:  w1= 0.738997, w2= 0.849746, b= 0.03227\n",
            "  Rate=0.001, MaxIter:     50; Loss= 1.591664:  w1= 0.690096, w2= 0.841251, b=-0.03275\n",
            "  Rate=0.001, MaxIter:    100; Loss= 1.416121:  w1= 0.608510, w2= 0.837158, b=-0.13367\n",
            "  Rate=0.001, MaxIter:    500; Loss= 1.083998:  w1= 0.327985, w2= 0.930170, b=-0.39264\n",
            "  Rate=0.001, MaxIter:  1,000; Loss= 0.829974:  w1=-0.012444, w2= 1.278162, b=-0.50283\n",
            "  Rate=0.001, MaxIter:  5,000; Loss= 0.243922:  w1=-1.047461, w2= 2.588690, b=-0.68632\n",
            "  Rate=0.001, MaxIter: 10,000; Loss= 0.053217:  w1=-1.804276, w2= 3.619304, b=-0.84942\n",
            "  Rate=0.001, MaxIter: 25,000; Loss= 0.044999:  w1=-1.896050, w2= 3.754387, b=-0.87139\n",
            "  Rate=0.001, MaxIter: 50,000; Loss= 0.044998:  w1=-1.896088, w2= 3.754421, b=-0.87138\n",
            "\n",
            "  Rate=0.05, MaxIter:     10; Loss= 1.238315:  w1=-0.121063, w2= 0.359425, b= 0.09634\n",
            "  Rate=0.05, MaxIter:     50; Loss= 0.672182:  w1=-0.681045, w2= 1.328120, b=-0.18088\n",
            "  Rate=0.05, MaxIter:    100; Loss= 0.204830:  w1=-1.418270, w2= 2.599398, b=-0.51947\n",
            "  Rate=0.05, MaxIter:    500; Loss= 0.044913:  w1=-1.952665, w2= 3.735408, b=-0.83783\n",
            "  Rate=0.05, MaxIter:  1,000; Loss= 0.044898:  w1=-1.950748, w2= 3.737163, b=-0.83543\n",
            "  Rate=0.05, MaxIter:  5,000; Loss= 0.044783:  w1=-1.953287, w2= 3.738894, b=-0.83756\n",
            "  Rate=0.05, MaxIter: 10,000; Loss= 0.044720:  w1=-1.952897, w2= 3.740987, b=-0.83730\n",
            "  Rate=0.05, MaxIter: 25,000; Loss= 0.044627:  w1=-1.952875, w2= 3.743888, b=-0.83731\n",
            "  Rate=0.05, MaxIter: 50,000; Loss= 0.044509:  w1=-1.954284, w2= 3.745961, b=-0.84014\n",
            "\n",
            "  Rate=0.01, MaxIter:     10; Loss= 1.384880:  w1= 0.330699, w2= 0.434357, b= 0.01043\n",
            "  Rate=0.01, MaxIter:     50; Loss= 1.169003:  w1= 0.116497, w2= 0.607761, b=-0.14252\n",
            "  Rate=0.01, MaxIter:    100; Loss= 0.899982:  w1=-0.185614, w2= 1.005059, b=-0.25980\n",
            "  Rate=0.01, MaxIter:    500; Loss= 0.265797:  w1=-1.143899, w2= 2.431845, b=-0.55869\n",
            "  Rate=0.01, MaxIter:  1,000; Loss= 0.055502:  w1=-1.833271, w2= 3.566569, b=-0.80911\n",
            "  Rate=0.01, MaxIter:  5,000; Loss= 0.044998:  w1=-1.925295, w2= 3.742203, b=-0.84922\n",
            "  Rate=0.01, MaxIter: 10,000; Loss= 0.044974:  w1=-1.925757, w2= 3.742502, b=-0.84973\n",
            "  Rate=0.01, MaxIter: 25,000; Loss= 0.044959:  w1=-1.925883, w2= 3.742890, b=-0.84974\n",
            "  Rate=0.01, MaxIter: 50,000; Loss= 0.044941:  w1=-1.926438, w2= 3.742771, b=-0.85087\n",
            "\n",
            "  Rate=0.05, MaxIter:     10; Loss= 1.263829:  w1= 0.068941, w2= 0.528183, b= 0.08278\n",
            "  Rate=0.05, MaxIter:     50; Loss= 0.634915:  w1=-0.647907, w2= 1.434380, b=-0.26526\n",
            "  Rate=0.05, MaxIter:    100; Loss= 0.192984:  w1=-1.394297, w2= 2.666671, b=-0.58587\n",
            "  Rate=0.05, MaxIter:    500; Loss= 0.044991:  w1=-1.947229, w2= 3.734911, b=-0.84585\n",
            "  Rate=0.05, MaxIter:  1,000; Loss= 0.044820:  w1=-1.947756, w2= 3.738894, b=-0.84441\n",
            "  Rate=0.05, MaxIter:  5,000; Loss= 0.044725:  w1=-1.949028, w2= 3.741186, b=-0.84679\n",
            "  Rate=0.05, MaxIter: 10,000; Loss= 0.044722:  w1=-1.952512, w2= 3.741796, b=-0.85093\n",
            "  Rate=0.05, MaxIter: 25,000; Loss= 0.044728:  w1=-1.954017, w2= 3.743591, b=-0.85553\n",
            "  Rate=0.05, MaxIter: 50,000; Loss= 0.044607:  w1=-1.955425, w2= 3.745900, b=-0.85504\n",
            "\n",
            "  Rate=0.1, MaxIter:     10; Loss= 1.172554:  w1=-0.047094, w2= 0.484456, b=-0.11628\n",
            "  Rate=0.1, MaxIter:     50; Loss= 0.339712:  w1=-1.079347, w2= 2.159374, b=-0.47388\n",
            "  Rate=0.1, MaxIter:    100; Loss= 0.059759:  w1=-1.820930, w2= 3.507636, b=-0.78823\n",
            "  Rate=0.1, MaxIter:    500; Loss= 0.044677:  w1=-1.943918, w2= 3.743965, b=-0.84492\n",
            "  Rate=0.1, MaxIter:  1,000; Loss= 0.044479:  w1=-1.944608, w2= 3.748871, b=-0.84938\n",
            "  Rate=0.1, MaxIter:  5,000; Loss= 0.044364:  w1=-1.944986, w2= 3.751941, b=-0.85022\n",
            "  Rate=0.1, MaxIter: 10,000; Loss= 0.044301:  w1=-1.942442, w2= 3.755270, b=-0.84868\n",
            "  Rate=0.1, MaxIter: 25,000; Loss= 0.044202:  w1=-1.943975, w2= 3.757342, b=-0.84987\n",
            "  Rate=0.1, MaxIter: 50,000; Loss= 0.044162:  w1=-1.945395, w2= 3.757479, b=-0.85253\n",
            "\n",
            "  Rate=0.3, MaxIter:     10; Loss= 0.705395:  w1=-0.574272, w2= 1.353691, b=-0.48987\n",
            "  Rate=0.3, MaxIter:     50; Loss= 0.050710:  w1=-1.884193, w2= 3.653607, b=-0.79652\n",
            "  Rate=0.3, MaxIter:    100; Loss= 0.044480:  w1=-1.937613, w2= 3.760417, b=-0.84048\n",
            "  Rate=0.3, MaxIter:    500; Loss= 0.043777:  w1=-1.946565, w2= 3.773787, b=-0.84761\n",
            "  Rate=0.3, MaxIter:  1,000; Loss= 0.043501:  w1=-1.952021, w2= 3.775758, b=-0.85427\n",
            "  Rate=0.3, MaxIter:  5,000; Loss= 0.043733:  w1=-1.944877, w2= 3.790248, b=-0.84451\n",
            "  Rate=0.3, MaxIter: 10,000; Loss= 0.043750:  w1=-1.946376, w2= 3.799688, b=-0.84279\n",
            "  Rate=0.3, MaxIter: 25,000; Loss= 0.043134:  w1=-1.954152, w2= 3.787348, b=-0.87140\n",
            "  Rate=0.3, MaxIter: 50,000; Loss= 0.042839:  w1=-1.957456, w2= 3.798155, b=-0.87858\n",
            "\n"
          ],
          "name": "stdout"
        }
      ]
    },
    {
      "cell_type": "markdown",
      "metadata": {
        "colab_type": "text",
        "id": "mMNxMJJdVhOj"
      },
      "source": [
        "(B) What settings worked well for you:  online vs. batch vs. minibatch? What step size? How did you decide to terminate?"
      ]
    },
    {
      "cell_type": "code",
      "metadata": {
        "colab_type": "code",
        "id": "PyFSefo3VhOk",
        "colab": {}
      },
      "source": [
        ""
      ],
      "execution_count": 0,
      "outputs": []
    },
    {
      "cell_type": "markdown",
      "metadata": {
        "colab_type": "text",
        "id": "bXxAjKTtVhOm"
      },
      "source": [
        "(C) Make a graph of error on the entire data set as a function of epoch. An epoch is a complete sweep through all the data (which is one iteration for full-batch gradient descent)."
      ]
    },
    {
      "cell_type": "code",
      "metadata": {
        "colab_type": "code",
        "id": "j3rvqIrYVhOn",
        "colab": {}
      },
      "source": [
        ""
      ],
      "execution_count": 0,
      "outputs": []
    },
    {
      "cell_type": "markdown",
      "metadata": {
        "colab_type": "text",
        "id": "u2WH5OVEVhOp"
      },
      "source": [
        "## Part 3"
      ]
    },
    {
      "cell_type": "markdown",
      "metadata": {
        "colab_type": "text",
        "id": "POTbQx4cVhOp"
      },
      "source": [
        "The data set from a regression problem can be converted into a classification problem simply by using the sign of (+ or -) as representing one of two classes. In the data set used in Part 1 and 2, you'll see the variable z that represents this binary (0 or 1) class.\n",
        "\n",
        "Use the perceptron learning rule to solve for the coefficients {$w_1$, $w_2$, $b$} of this classification problem.   \n",
        "\n",
        "Two warnings: First, your solution to Part 3 should require only a few lines of code changed from the code you wrote for Part 2. Second, the Perceptron algorithm will not converge if there is no exact solution to the training data. It will jitter among coefficients that all yield roughly equally good solutions."
      ]
    },
    {
      "cell_type": "markdown",
      "metadata": {
        "colab_type": "text",
        "id": "Qs7gbsbjVhOq"
      },
      "source": [
        "Complete the following functions below and use them to answer questions (A) and (B). \n",
        "\n",
        "**Note:** Please do not change the interface of the given functions."
      ]
    },
    {
      "cell_type": "code",
      "metadata": {
        "colab_type": "code",
        "id": "anej2h2pVhOr",
        "colab": {}
      },
      "source": [
        "def perceptron_update(X, y, w):\n",
        "    \"\"\"\n",
        "    One epoch of Perceptron updates (full sweep of the dataset).\n",
        "    \n",
        "    Parameters\n",
        "    ----------\n",
        "    X : NumPy array of features (size : no of examples X features)\n",
        "    y : Numpy array of class labels (size : no of examples X 1)\n",
        "    w : array of coefficients from the previous iteration\n",
        "    \n",
        "    Returns\n",
        "    -------\n",
        "    w : Coefficients of the classifier (after updating)\n",
        "    incorrect : Incorrectly classified examples\n",
        "    \"\"\"\n",
        "    pass\n",
        "\n",
        "def perceptron(X, y, maxIter, alpha):\n",
        "    \"\"\"\n",
        "    Implements the Perceptron algorithm.\n",
        "    \n",
        "    Parameters\n",
        "    ----------\n",
        "    X : NumPy array of features (size : no of examples X features)\n",
        "    y : Numpy array of class labels (size : no of examples X 1)\n",
        "    maxIter : The maximum number of iterations allowed \n",
        "    alpha : Learning Rate\n",
        "    \n",
        "    Returns\n",
        "    -------\n",
        "    w : Coefficients of the classifier\n",
        "    incorrect : Incorrectly classified examples on termination\n",
        "    \"\"\"\n",
        "    pass"
      ],
      "execution_count": 0,
      "outputs": []
    },
    {
      "cell_type": "markdown",
      "metadata": {
        "colab_type": "text",
        "id": "CiM8viPnVhOt"
      },
      "source": [
        "(A) Report the values of coefficients $w_1$, $w_2$, and $b$."
      ]
    },
    {
      "cell_type": "code",
      "metadata": {
        "colab_type": "code",
        "id": "Jl1YoCt-VhOt",
        "colab": {}
      },
      "source": [
        ""
      ],
      "execution_count": 0,
      "outputs": []
    },
    {
      "cell_type": "markdown",
      "metadata": {
        "colab_type": "text",
        "id": "v9MObKUYVhOv"
      },
      "source": [
        "(B) Make a graph of the accuracy (% correct classification) on the training set as a function of epoch."
      ]
    },
    {
      "cell_type": "code",
      "metadata": {
        "colab_type": "code",
        "id": "x8yAplB5VhOw",
        "colab": {}
      },
      "source": [
        ""
      ],
      "execution_count": 0,
      "outputs": []
    },
    {
      "cell_type": "markdown",
      "metadata": {
        "colab_type": "text",
        "id": "AfXBONZZVhOy"
      },
      "source": [
        "## Part 4"
      ]
    },
    {
      "cell_type": "markdown",
      "metadata": {
        "colab_type": "text",
        "id": "zO2ij9gIVhOy"
      },
      "source": [
        "In machine learning, we really want to train a model based on some data and then expect the model to do well on \"out of sample\" data. Try this with the code you wrote for Part 3:  Train the model on the first {5, 10, 25, 50, 75} examples in the data set and test the model on the final 25 examples."
      ]
    },
    {
      "cell_type": "markdown",
      "metadata": {
        "colab_type": "text",
        "id": "F66-PYWKVhOz"
      },
      "source": [
        "Complete the following function below and use it to answer (A). \n",
        "\n",
        "**Note:** Please do not change the interface of the given function."
      ]
    },
    {
      "cell_type": "code",
      "metadata": {
        "colab_type": "code",
        "id": "3wseIfmUVhOz",
        "colab": {}
      },
      "source": [
        "def classify(X, y, w):\n",
        "    \"\"\"\n",
        "    Use this function to classify examples in the test set\n",
        "    \n",
        "    Parameters\n",
        "    ----------\n",
        "    X : Test set features\n",
        "    y : Test set labels\n",
        "    w : Perceptron coefficients\n",
        "    \n",
        "    Returns\n",
        "    -------\n",
        "    correct : number of correctly classified examples\n",
        "    \"\"\"\n",
        "    pass"
      ],
      "execution_count": 0,
      "outputs": []
    },
    {
      "cell_type": "markdown",
      "metadata": {
        "colab_type": "text",
        "id": "I3D_lEO8VhO3"
      },
      "source": [
        "How does performance on the test set vary with the amount of training data? Make a bar graph showing performance for each of the different training set sizes."
      ]
    },
    {
      "cell_type": "code",
      "metadata": {
        "colab_type": "code",
        "id": "0GrkjpYDVhO4",
        "colab": {}
      },
      "source": [
        ""
      ],
      "execution_count": 0,
      "outputs": []
    }
  ]
}