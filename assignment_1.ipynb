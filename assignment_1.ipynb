{
  "nbformat": 4,
  "nbformat_minor": 0,
  "metadata": {
    "colab": {
      "name": "Copy of assignment_1.ipynb",
      "provenance": [],
      "collapsed_sections": [],
      "toc_visible": true,
      "include_colab_link": true
    },
    "kernelspec": {
      "name": "python3",
      "display_name": "Python 3"
    },
    "language_info": {
      "codemirror_mode": {
        "name": "ipython",
        "version": 3
      },
      "file_extension": ".py",
      "mimetype": "text/x-python",
      "name": "python",
      "nbconvert_exporter": "python",
      "pygments_lexer": "ipython3",
      "version": "3.7.6"
    },
    "accelerator": "TPU"
  },
  "cells": [
    {
      "cell_type": "markdown",
      "metadata": {
        "id": "view-in-github",
        "colab_type": "text"
      },
      "source": [
        "<a href=\"https://colab.research.google.com/github/tima0476/hw1-csci5922/blob/master/assignment_1.ipynb\" target=\"_parent\"><img src=\"https://colab.research.google.com/assets/colab-badge.svg\" alt=\"Open In Colab\"/></a>"
      ]
    },
    {
      "cell_type": "markdown",
      "metadata": {
        "colab_type": "text",
        "id": "yI6QRw_VVhOI"
      },
      "source": [
        "# <center> Neural Networks and Deep Learning (CSCI 5922)</center>\n",
        "# <center> Spring 2020 </center>"
      ]
    },
    {
      "cell_type": "markdown",
      "metadata": {
        "colab_type": "text",
        "id": "oyyZSLCIVhOK"
      },
      "source": [
        "**Name:** Timothy Mason"
      ]
    },
    {
      "cell_type": "markdown",
      "metadata": {
        "colab_type": "text",
        "id": "B7u4l5SIVhOL"
      },
      "source": [
        "## Goal"
      ]
    },
    {
      "cell_type": "markdown",
      "metadata": {
        "colab_type": "text",
        "id": "O7mbNY0lVhOL"
      },
      "source": [
        "The goal of this assignment is to introduce neural networks in terms of ideas you are already familiar with:  linear regression and classification"
      ]
    },
    {
      "cell_type": "markdown",
      "metadata": {
        "colab_type": "text",
        "id": "7kNKcDdGDO4z"
      },
      "source": [
        "## Dataset"
      ]
    },
    {
      "cell_type": "markdown",
      "metadata": {
        "colab_type": "text",
        "id": "w-ZVWvA4VhON"
      },
      "source": [
        "You are given a dataset with 2 input variables ($x_1$, $x_2$) and an output variable ($y$)."
      ]
    },
    {
      "cell_type": "code",
      "metadata": {
        "colab_type": "code",
        "id": "qluUEgHYVhOO",
        "outputId": "5b2d6e97-03d3-4765-cde0-93b178f524f9",
        "colab": {
          "base_uri": "https://localhost:8080/",
          "height": 34
        }
      },
      "source": [
        "from sklearn.datasets import make_regression\n",
        "from matplotlib import pyplot\n",
        "import numpy as np\n",
        "import os\n",
        "\n",
        "try:\n",
        "    from google.colab import drive\n",
        "    drive.mount('/content/drive', force_remount=True)\n",
        "\n",
        "    # Load data from gDrive\n",
        "    data = np.loadtxt(os.path.join('/content/drive/My Drive/spring2020/hw1-csci5922/data', 'assign1_data.txt'),  delimiter=',')\n",
        "except:\n",
        "    # Load data - relative path from notebook\n",
        "    data = np.loadtxt(os.path.join('data', 'assign1_data.txt'),  delimiter=',')\n",
        "    \n",
        "X = data[:,:2]\n",
        "y = data[:, 2]\n",
        "z = data[:, 3]"
      ],
      "execution_count": 81,
      "outputs": [
        {
          "output_type": "stream",
          "text": [
            "Mounted at /content/drive\n"
          ],
          "name": "stdout"
        }
      ]
    },
    {
      "cell_type": "markdown",
      "metadata": {
        "colab_type": "text",
        "id": "ZiLhj-CvVhOQ"
      },
      "source": [
        "## Part 1"
      ]
    },
    {
      "cell_type": "markdown",
      "metadata": {
        "colab_type": "text",
        "id": "1zNUNcC0VhOR"
      },
      "source": [
        "Write a program to find the exact least squares solution to $y = w_1 x_1 + w_2 x_2 + b$ for the above dataset, using the normal equation."
      ]
    },
    {
      "cell_type": "markdown",
      "metadata": {
        "colab_type": "text",
        "id": "txzccR6-VhOS"
      },
      "source": [
        "Complete the following function below and use it to answer questions (A) and (B). \n",
        "\n",
        "**Note:** Please do not change the interface of the given function."
      ]
    },
    {
      "cell_type": "code",
      "metadata": {
        "colab_type": "code",
        "id": "gFAcJL6VVhOS",
        "colab": {}
      },
      "source": [
        "def least_squares(X, y):\n",
        "    \"\"\"\n",
        "    Finds the Least Squares solution\n",
        "    \n",
        "    Parameters\n",
        "    ----------\n",
        "    X : NumPy array of features (size : no of examples X features)\n",
        "    y : Numpy array of output value 'y' (size : no of examples X 1)\n",
        "    \n",
        "    Returns\n",
        "    -------\n",
        "    w : solution array\n",
        "    \"\"\"\n",
        "\n",
        "    # From the text:  \"Instead of adding the bias parameter b, one can continue to use \n",
        "    # the model with only weights but augment x with an extra entry that is always set \n",
        "    # to 1. The weight corresponding to the extra 1 entry plays the role of the bias \n",
        "    # parameter.\"\n",
        "\n",
        "    X = np.c_[np.ones((X.shape[0],1)), X]   # Augment X's with extra 1's\n",
        "\n",
        "    # Calculate the normal equation.\n",
        "    w = np.linalg.inv(X.T @ X) @ X.T @ y\n",
        "\n",
        "    return w"
      ],
      "execution_count": 0,
      "outputs": []
    },
    {
      "cell_type": "markdown",
      "metadata": {
        "colab_type": "text",
        "id": "ZcO-nAfxVhOV"
      },
      "source": [
        "(A) Report the values of $w_1$, $w_2$, and $b$."
      ]
    },
    {
      "cell_type": "code",
      "metadata": {
        "colab_type": "code",
        "id": "5sXuI05yVhOV",
        "outputId": "23450396-d9c6-48b9-a873-c19c4c23d3b3",
        "colab": {
          "base_uri": "https://localhost:8080/",
          "height": 68
        }
      },
      "source": [
        "w = least_squares(X, y)\n",
        "print(f\"w_1 = {w[1]}\\nw_2 = {w[2]}\\n  b = {w[0]}\")"
      ],
      "execution_count": 83,
      "outputs": [
        {
          "output_type": "stream",
          "text": [
            "w_1 = -2.0442425951376353\n",
            "w_2 = 3.996860168659322\n",
            "  b = -0.9242908118675891\n"
          ],
          "name": "stdout"
        }
      ]
    },
    {
      "cell_type": "markdown",
      "metadata": {
        "colab_type": "text",
        "id": "S-jYwaEbVhOY"
      },
      "source": [
        "(B) What function or method did you use to find the least-squares solution?"
      ]
    },
    {
      "cell_type": "markdown",
      "metadata": {
        "colab_type": "text",
        "id": "OF8A7mYEVhOY"
      },
      "source": [
        "> The linear regression was calculated using the equation: \n",
        "> \n",
        "> $$\\mathbf{w} = \\left( \\mathbf{X}^\\top \\mathbf{X} \\right)^{-1} \\mathbf{X}^\\top \\mathbf{y}$$\n",
        "> \n",
        "> \n",
        "> The vector $\\mathbf{w}$ provides the weight coefficients for the prediction $\\hat{y}$:\n",
        "> \n",
        "> $$ \\hat{y} = \\mathbf{w}^\\top \\mathbf{x} = w_1 x_1 + w_2 x_2 + \\ldots + w_m x_m$$\n",
        "> \n",
        "> \n",
        "> Note that the requirement was to find the exact least squares solution to $y = w_1 x_1 + w_2 x_2 + b$.  \n",
        ">\n",
        "> To find the $b$ term, an extra column of 1's was inserted as the leftmost column of the $\\mathbf{X}$ matrix,\n",
        "> which adds a new term $x_0 = 1$.  This caused the normal \n",
        "> equation to solve for \n",
        "> \n",
        "> $$\n",
        "\\begin{split}\n",
        "    \\hat{y} = \\mathbf{w}^\\top \\mathbf{x} & =  w_0 x_0 + w_1 x_1 + w_2 x_2 \\\\\n",
        "    \\\\\n",
        "    \\text{Note that we set } x_0 = 1 \\text{, therefore: } \\hat{y} & = w_0 + w_1 x_1 + w_2 x_2 \\\\\n",
        "    \\\\\n",
        "    \\text{Let }w_0=b\\text{, and we have: } \\hat{y} & = w_1 x_1 + w_2 x_2 + b\n",
        "\\end{split}\n",
        "$$\n",
        ">"
      ]
    },
    {
      "cell_type": "markdown",
      "metadata": {
        "colab_type": "text",
        "id": "_qNGRMnLVhOZ"
      },
      "source": [
        "## Part 2"
      ]
    },
    {
      "cell_type": "markdown",
      "metadata": {
        "colab_type": "text",
        "id": "K2C1Pj1xVhOZ"
      },
      "source": [
        "Implement linear regression of y on X via first-order optimization of the least-squares objective. Write a program that determines the coefficients {w1,w2,b}. Implement stochastic gradient descent, batch gradient descent, and mini-batch gradient descent. You will need to experiment with updating rules, step sizes (i.e. learning rates), stopping criteria, etc. Experiment to find settings that lead to solutions with the fewest number of sweeps through the data."
      ]
    },
    {
      "cell_type": "markdown",
      "metadata": {
        "colab_type": "text",
        "id": "Dz9LPxNsVhOa"
      },
      "source": [
        "Complete the following functions below and use them to answer questions (A), (B) and (C). You may find the shuffle function from scikit-learn useful. \n",
        "\n",
        "Use the following hyperparameters:\n",
        "\n",
        "Learning rates = [0.001, 0.05, 0.01, 0.05, 0.1, 0.3]\n",
        "\n",
        "MaxIter = [10, 50, 100, 500, 1000, 5000, 10000, 25000, 50000]\n",
        "\n",
        "**Note:** Please do not change the interface of the given functions."
      ]
    },
    {
      "cell_type": "code",
      "metadata": {
        "colab_type": "code",
        "id": "9rCKocs6VhOb",
        "colab": {}
      },
      "source": [
        "from sklearn.utils import shuffle\n",
        "Error_Thresh = 0.045    # terminate a gradient descent when we get the loss below this threshold\n",
        "\n",
        "def online_epoch(X, y, w, alpha):\n",
        "    \"\"\"\n",
        "    One epoch of stochastic gradient descent (i.e. one sweep of the dataset).\n",
        "    \n",
        "    Parameters\n",
        "    ----------\n",
        "    X : NumPy array of features (size : no of examples X features)\n",
        "    y : Numpy array of class labels (size : no of examples X 1)\n",
        "    w : array of coefficients from the previous iteration\n",
        "    alpha : learning rate\n",
        "    \n",
        "    Returns\n",
        "    -------\n",
        "    a tuple containing Coefficients of the model (after updating) and the loss\n",
        "    \"\"\"\n",
        "    # Iterate through the training set, updating the model after each example is evaluated\n",
        "    N = X.shape[0]\n",
        "    for i in range(N):\n",
        "        x = X[i]\n",
        "        # make a prediction with our current set of weights (current example)\n",
        "        y_hat = x @ w\n",
        "\n",
        "        # compute the error (current example)\n",
        "        err = y[i] - y_hat\n",
        "\n",
        "        # compute the gradient (current example)\n",
        "        grad = -(x.T * err)\n",
        "\n",
        "        # update the model after learning from each example\n",
        "        w -= alpha*grad\n",
        "\n",
        "    # Return the updated weights and the full-training set loss.\n",
        "    return (w,np.average((y - X @ w) ** 2))\n",
        "\n",
        "\n",
        "def batch_update(X, y, w, alpha):\n",
        "    \"\"\"\n",
        "    One iteration of full-batch gradient descent.\n",
        "    \n",
        "    Parameters\n",
        "    ----------\n",
        "    X : NumPy array of features (size : no of examples X features)\n",
        "    y : Numpy array of class labels (size : no of examples X 1)\n",
        "    w : array of coefficients from the previous iteration\n",
        "    alpha : Learning rate\n",
        "    \n",
        "    Returns\n",
        "    -------\n",
        "    a tuple containing Coefficients of the model (after updating) and the loss\n",
        "    \"\"\"\n",
        "    # make a prediction with our current set of weights (full training set)\n",
        "    y_hat = X @ w\n",
        "\n",
        "    # compute the error (full training set)\n",
        "    err = y - y_hat\n",
        "\n",
        "    # compute the gradient (full training set)\n",
        "    N = X.shape[0]\n",
        "    grad = (X.T @ err) * -2.0 / N\n",
        "\n",
        "    # Now we've evaluated the entire training set, update the model\n",
        "    w -= alpha*grad\n",
        "\n",
        "    # Return the updated weights and the loss.\n",
        "    return (w,np.average(err**2))\n",
        "\n",
        "def mini_batch_update(X, y, w, alpha, batch_size):\n",
        "    \"\"\"\n",
        "    One epoch of mini-batch SGD over the entire dataset (i.e. one sweep of the dataset).\n",
        "    \n",
        "    Parameters\n",
        "    ----------\n",
        "    X : NumPy array of features (size : no of examples X features)\n",
        "    y : Numpy array of class labels (size : no of examples X 1)\n",
        "    w : array of coefficients from the previous iteration\n",
        "    alpha : learining rate\n",
        "    batch_size : size of the batch for gradient update\n",
        "    \n",
        "    Returns\n",
        "    -------\n",
        "    a tuple containing Coefficients of the model (after updating) and the loss\n",
        "    \"\"\"\n",
        "    # Pull out a random subset of the training data.\n",
        "    mini_comb = shuffle(np.c_[X,y], n_samples = batch_size)     # shuffle combined X and y\n",
        "    X_sub = mini_comb[:,:3]\n",
        "    y_sub = mini_comb[:,3]\n",
        "\n",
        "    # make a prediction with our current set of weights (mini-batch training set)\n",
        "    y_hat = X_sub @ w\n",
        "\n",
        "    # compute the error (mini-batch training set)\n",
        "    err = y_sub - y_hat\n",
        "\n",
        "    # compute the gradient (full training set)\n",
        "    grad = (X_sub.T @ err) * -2.0 / batch_size\n",
        "\n",
        "    # Now we've evaluated the mini-batch, update the model\n",
        "    w -= alpha*grad\n",
        "\n",
        "    # Return the updated weights and the full-training set loss.\n",
        "    return (w,np.average((y - X @ w) ** 2))\n",
        "\n",
        "\n",
        "def least_squares_grad_desc(X, y, w, maxIter, alpha, update, *batch_size):\n",
        "    \"\"\"\n",
        "    Implements least squares with gradient descent.\n",
        "    \n",
        "    Parameters\n",
        "    ----------\n",
        "    X : NumPy array of features (size : no of examples X features)\n",
        "    y : Numpy array of class labels (size : no of examples X 1)\n",
        "    w : array of coefficients from the previous iteration\n",
        "    maxIter : Maximum number of iterations allowed\n",
        "    alpha : Learning rate\n",
        "    update : update function to utilize (one of online, batch, mini-batch)\n",
        "    batch_size : number of examples in a batch (only useful when update = mini_batch_update)\n",
        "    \n",
        "    Returns\n",
        "    -------\n",
        "    a tuple containing Coefficients of the model (after updating), the loss, and the iterations taken\n",
        "    \n",
        "    Note : *batch_size is an optional argument and only to be used when doing mini-batch Gradient Descent \n",
        "    \"\"\"\n",
        "    for i in range(maxIter):\n",
        "        if batch_size:\n",
        "            w,l = update(X, y, w, alpha, batch_size[0])\n",
        "        else:\n",
        "            w,l = update(X, y, w, alpha)\n",
        "        \n",
        "        # If result is \"good enough\", then terminate early\n",
        "        if l < Error_Thresh:\n",
        "            break\n",
        "\n",
        "    return (w,l,i+1)\n"
      ],
      "execution_count": 0,
      "outputs": []
    },
    {
      "cell_type": "markdown",
      "metadata": {
        "colab_type": "text",
        "id": "zYMi7e8ZVhOd"
      },
      "source": [
        "(A) Report the values of $w_1$, $w_2$, and $b$. "
      ]
    },
    {
      "cell_type": "code",
      "metadata": {
        "colab_type": "code",
        "id": "uJ2UpCAbVhOd",
        "colab": {}
      },
      "source": [
        "rates = (0.001, 0.05, 0.01, 0.05, 0.1, 0.3)\n",
        "MaxIter = (10, 50, 100, 500, 1000, 5000, 10000, 25000, 50000)\n",
        "\n",
        "Xaug = np.c_[np.ones((X.shape[0],1)), X]   # Augment X's with extra 1's for the bias term"
      ],
      "execution_count": 0,
      "outputs": []
    },
    {
      "cell_type": "markdown",
      "metadata": {
        "id": "HAYPBzpxZAU-",
        "colab_type": "text"
      },
      "source": [
        "### Stochastic Gradient Descent solution\n",
        "\n",
        "\n",
        "\n",
        "\n",
        "\n"
      ]
    },
    {
      "cell_type": "code",
      "metadata": {
        "colab_type": "code",
        "id": "WWht3FM2VhOf",
        "outputId": "087780f9-734d-4047-b620-6e482b44afd9",
        "colab": {
          "base_uri": "https://localhost:8080/",
          "height": 1000
        }
      },
      "source": [
        "for alpha in rates:\n",
        "    for mi in MaxIter:\n",
        "        w = np.random.uniform(0, 1, (Xaug.shape[1]))  # make a random initial guess at the weights\n",
        "        w,l,i = least_squares_grad_desc(Xaug, y, w, mi, alpha, online_epoch)\n",
        "        print(f\"  Rate={alpha}, MaxIter:{mi:7,d}, Actual Iterations: {i:7,d}; Loss={l:9.6f}:  w1={w[1]:9.6f}, w2={w[2]:9.6f}, b={w[0]:8.5f}\")\n",
        "    print()\n"
      ],
      "execution_count": 113,
      "outputs": [
        {
          "output_type": "stream",
          "text": [
            "  Rate=0.001, MaxIter:     10, Actual Iterations:      10; Loss= 1.359173:  w1= 0.051894, w2= 0.207968, b= 0.08277\n",
            "  Rate=0.001, MaxIter:     50, Actual Iterations:      50; Loss= 0.725981:  w1=-0.479856, w2= 1.270914, b=-0.27901\n",
            "  Rate=0.001, MaxIter:    100, Actual Iterations:     100; Loss= 0.457761:  w1=-1.057514, w2= 1.774494, b=-0.26164\n",
            "  Rate=0.001, MaxIter:    500, Actual Iterations:     419; Loss= 0.044977:  w1=-1.908887, w2= 3.748903, b=-0.86190\n",
            "  Rate=0.001, MaxIter:  1,000, Actual Iterations:     416; Loss= 0.044985:  w1=-1.914336, w2= 3.746331, b=-0.85801\n",
            "  Rate=0.001, MaxIter:  5,000, Actual Iterations:     426; Loss= 0.044985:  w1=-1.927260, w2= 3.741434, b=-0.84940\n",
            "  Rate=0.001, MaxIter: 10,000, Actual Iterations:     425; Loss= 0.044959:  w1=-1.940316, w2= 3.738043, b=-0.84149\n",
            "  Rate=0.001, MaxIter: 25,000, Actual Iterations:     428; Loss= 0.044981:  w1=-1.966352, w2= 3.731818, b=-0.82599\n",
            "  Rate=0.001, MaxIter: 50,000, Actual Iterations:     413; Loss= 0.044979:  w1=-1.937173, w2= 3.738421, b=-0.84317\n",
            "\n",
            "  Rate=0.05, MaxIter:     10, Actual Iterations:       9; Loss= 0.042979:  w1=-1.935485, w2= 3.853519, b=-0.86741\n",
            "  Rate=0.05, MaxIter:     50, Actual Iterations:       9; Loss= 0.042756:  w1=-1.928307, w2= 3.870614, b=-0.87895\n",
            "  Rate=0.05, MaxIter:    100, Actual Iterations:       9; Loss= 0.043829:  w1=-1.925230, w2= 3.825161, b=-0.85750\n",
            "  Rate=0.05, MaxIter:    500, Actual Iterations:       9; Loss= 0.042986:  w1=-1.938974, w2= 3.850643, b=-0.86452\n",
            "  Rate=0.05, MaxIter:  1,000, Actual Iterations:       9; Loss= 0.042824:  w1=-1.949971, w2= 3.850540, b=-0.85989\n",
            "  Rate=0.05, MaxIter:  5,000, Actual Iterations:       9; Loss= 0.043139:  w1=-1.938595, w2= 3.844181, b=-0.86145\n",
            "  Rate=0.05, MaxIter: 10,000, Actual Iterations:       9; Loss= 0.042710:  w1=-1.943165, w2= 3.860438, b=-0.86767\n",
            "  Rate=0.05, MaxIter: 25,000, Actual Iterations:       9; Loss= 0.043296:  w1=-1.933010, w2= 3.841307, b=-0.86234\n",
            "  Rate=0.05, MaxIter: 50,000, Actual Iterations:       9; Loss= 0.043021:  w1=-1.935797, w2= 3.851391, b=-0.86622\n",
            "\n",
            "  Rate=0.01, MaxIter:     10, Actual Iterations:      10; Loss= 0.316857:  w1=-0.917069, w2= 2.338863, b=-0.60248\n",
            "  Rate=0.01, MaxIter:     50, Actual Iterations:      41; Loss= 0.044829:  w1=-1.946482, w2= 3.742385, b=-0.83481\n",
            "  Rate=0.01, MaxIter:    100, Actual Iterations:      40; Loss= 0.044831:  w1=-1.924587, w2= 3.749109, b=-0.84838\n",
            "  Rate=0.01, MaxIter:    500, Actual Iterations:      40; Loss= 0.044997:  w1=-1.925582, w2= 3.744269, b=-0.84547\n",
            "  Rate=0.01, MaxIter:  1,000, Actual Iterations:      40; Loss= 0.044558:  w1=-1.943170, w2= 3.750482, b=-0.84045\n",
            "  Rate=0.01, MaxIter:  5,000, Actual Iterations:      42; Loss= 0.044442:  w1=-1.929900, w2= 3.757935, b=-0.85038\n",
            "  Rate=0.01, MaxIter: 10,000, Actual Iterations:      43; Loss= 0.044648:  w1=-1.941382, w2= 3.748557, b=-0.84030\n",
            "  Rate=0.01, MaxIter: 25,000, Actual Iterations:      41; Loss= 0.044838:  w1=-1.901438, w2= 3.758915, b=-0.86409\n",
            "  Rate=0.01, MaxIter: 50,000, Actual Iterations:      41; Loss= 0.044451:  w1=-1.894309, w2= 3.774385, b=-0.87523\n",
            "\n",
            "  Rate=0.05, MaxIter:     10, Actual Iterations:       9; Loss= 0.043103:  w1=-1.946137, w2= 3.840890, b=-0.85666\n",
            "  Rate=0.05, MaxIter:     50, Actual Iterations:       9; Loss= 0.042823:  w1=-1.927496, w2= 3.867891, b=-0.87793\n",
            "  Rate=0.05, MaxIter:    100, Actual Iterations:       9; Loss= 0.043133:  w1=-1.957489, w2= 3.833435, b=-0.84820\n",
            "  Rate=0.05, MaxIter:    500, Actual Iterations:       9; Loss= 0.042797:  w1=-1.952555, w2= 3.850180, b=-0.85863\n",
            "  Rate=0.05, MaxIter:  1,000, Actual Iterations:       9; Loss= 0.043079:  w1=-1.930477, w2= 3.852793, b=-0.86914\n",
            "  Rate=0.05, MaxIter:  5,000, Actual Iterations:       9; Loss= 0.043190:  w1=-1.951252, w2= 3.834414, b=-0.85129\n",
            "  Rate=0.05, MaxIter: 10,000, Actual Iterations:       9; Loss= 0.042776:  w1=-1.922759, w2= 3.875096, b=-0.88350\n",
            "  Rate=0.05, MaxIter: 25,000, Actual Iterations:       9; Loss= 0.043279:  w1=-1.952811, w2= 3.830062, b=-0.84847\n",
            "  Rate=0.05, MaxIter: 50,000, Actual Iterations:       9; Loss= 0.042751:  w1=-1.947072, w2= 3.855755, b=-0.86370\n",
            "\n",
            "  Rate=0.1, MaxIter:     10, Actual Iterations:       5; Loss= 0.042269:  w1=-1.968284, w2= 3.918137, b=-0.87527\n",
            "  Rate=0.1, MaxIter:     50, Actual Iterations:       5; Loss= 0.042318:  w1=-1.954805, w2= 3.936097, b=-0.88926\n",
            "  Rate=0.1, MaxIter:    100, Actual Iterations:       4; Loss= 0.044883:  w1=-1.912611, w2= 3.835932, b=-0.85578\n",
            "  Rate=0.1, MaxIter:    500, Actual Iterations:       5; Loss= 0.042180:  w1=-1.965444, w2= 3.930420, b=-0.88241\n",
            "  Rate=0.1, MaxIter:  1,000, Actual Iterations:       5; Loss= 0.042325:  w1=-1.966480, w2= 3.916040, b=-0.87492\n",
            "  Rate=0.1, MaxIter:  5,000, Actual Iterations:       5; Loss= 0.042433:  w1=-1.956089, w2= 3.922407, b=-0.88201\n",
            "  Rate=0.1, MaxIter: 10,000, Actual Iterations:       5; Loss= 0.042196:  w1=-1.968901, w2= 3.923560, b=-0.87771\n",
            "  Rate=0.1, MaxIter: 25,000, Actual Iterations:       5; Loss= 0.042275:  w1=-1.964284, w2= 3.923384, b=-0.87938\n",
            "  Rate=0.1, MaxIter: 50,000, Actual Iterations:       5; Loss= 0.042204:  w1=-1.964054, w2= 3.930386, b=-0.88293\n",
            "\n",
            "  Rate=0.3, MaxIter:     10, Actual Iterations:       2; Loss= 0.043167:  w1=-1.984191, w2= 4.057214, b=-0.92410\n",
            "  Rate=0.3, MaxIter:     50, Actual Iterations:       2; Loss= 0.043114:  w1=-1.986133, w2= 4.056772, b=-0.92327\n",
            "  Rate=0.3, MaxIter:    100, Actual Iterations:       2; Loss= 0.043228:  w1=-1.987434, w2= 4.064406, b=-0.92595\n",
            "  Rate=0.3, MaxIter:    500, Actual Iterations:       2; Loss= 0.042883:  w1=-1.995555, w2= 4.055420, b=-0.91956\n",
            "  Rate=0.3, MaxIter:  1,000, Actual Iterations:       2; Loss= 0.043159:  w1=-1.988147, w2= 4.061633, b=-0.92458\n",
            "  Rate=0.3, MaxIter:  5,000, Actual Iterations:       2; Loss= 0.043059:  w1=-1.986325, w2= 4.053974, b=-0.92206\n",
            "  Rate=0.3, MaxIter: 10,000, Actual Iterations:       2; Loss= 0.043438:  w1=-1.981516, w2= 4.067947, b=-0.92938\n",
            "  Rate=0.3, MaxIter: 25,000, Actual Iterations:       2; Loss= 0.043026:  w1=-1.989915, w2= 4.056631, b=-0.92195\n",
            "  Rate=0.3, MaxIter: 50,000, Actual Iterations:       2; Loss= 0.043122:  w1=-1.991070, w2= 4.063115, b=-0.92421\n",
            "\n"
          ],
          "name": "stdout"
        }
      ]
    },
    {
      "cell_type": "markdown",
      "metadata": {
        "id": "m29tujWfY97n",
        "colab_type": "text"
      },
      "source": [
        "### Batch Gradient Descent solution"
      ]
    },
    {
      "cell_type": "code",
      "metadata": {
        "colab_type": "code",
        "id": "Vf1YmHkPVhOh",
        "outputId": "0db475f3-e3cc-43f4-d2e0-c782ed70b0f5",
        "colab": {
          "base_uri": "https://localhost:8080/",
          "height": 1000
        }
      },
      "source": [
        "for alpha in rates:\n",
        "    for mi in MaxIter:\n",
        "        w = np.random.uniform(0, 1, (Xaug.shape[1]))  # make a random initial guess at the weights\n",
        "        w,l,i = least_squares_grad_desc(Xaug, y, w, mi, alpha, batch_update)\n",
        "        print(f\"  Rate={alpha}, MaxIter:{mi:7,d}, Actual Iterations: {i:7,d}; Loss={l:9.6f}:  w1={w[1]:9.6f}, w2={w[2]:9.6f}, b={w[0]:8.5f}\")\n",
        "    print()"
      ],
      "execution_count": 114,
      "outputs": [
        {
          "output_type": "stream",
          "text": [
            "  Rate=0.001, MaxIter:     10, Actual Iterations:      10; Loss= 2.049297:  w1= 0.937810, w2= 0.945180, b= 0.07916\n",
            "  Rate=0.001, MaxIter:     50, Actual Iterations:      50; Loss= 1.842259:  w1= 0.857895, w2= 0.060211, b= 0.06695\n",
            "  Rate=0.001, MaxIter:    100, Actual Iterations:     100; Loss= 1.921836:  w1= 0.029431, w2= 0.663570, b= 0.64795\n",
            "  Rate=0.001, MaxIter:    500, Actual Iterations:     500; Loss= 1.292432:  w1=-0.074256, w2= 0.433188, b= 0.21815\n",
            "  Rate=0.001, MaxIter:  1,000, Actual Iterations:   1,000; Loss= 1.032139:  w1=-0.186088, w2= 0.714376, b=-0.11192\n",
            "  Rate=0.001, MaxIter:  5,000, Actual Iterations:   5,000; Loss= 0.429406:  w1=-0.850957, w2= 1.949433, b=-0.44949\n",
            "  Rate=0.001, MaxIter: 10,000, Actual Iterations:  10,000; Loss= 0.149428:  w1=-1.608313, w2= 2.836984, b=-0.54138\n",
            "  Rate=0.001, MaxIter: 25,000, Actual Iterations:  21,446; Loss= 0.045000:  w1=-1.930833, w2= 3.739744, b=-0.84737\n",
            "  Rate=0.001, MaxIter: 50,000, Actual Iterations:  20,788; Loss= 0.045000:  w1=-1.900886, w2= 3.751957, b=-0.86779\n",
            "\n",
            "  Rate=0.05, MaxIter:     10, Actual Iterations:      10; Loss= 1.168576:  w1=-0.219304, w2= 0.568748, b= 0.13121\n",
            "  Rate=0.05, MaxIter:     50, Actual Iterations:      50; Loss= 0.614749:  w1=-0.743640, w2= 1.463537, b=-0.25309\n",
            "  Rate=0.05, MaxIter:    100, Actual Iterations:     100; Loss= 0.433494:  w1=-0.793377, w2= 1.982839, b=-0.49380\n",
            "  Rate=0.05, MaxIter:    500, Actual Iterations:     413; Loss= 0.044961:  w1=-1.932767, w2= 3.742031, b=-0.84761\n",
            "  Rate=0.05, MaxIter:  1,000, Actual Iterations:     415; Loss= 0.044968:  w1=-1.924523, w2= 3.744672, b=-0.85287\n",
            "  Rate=0.05, MaxIter:  5,000, Actual Iterations:     416; Loss= 0.044933:  w1=-1.913017, w2= 3.750208, b=-0.86115\n",
            "  Rate=0.05, MaxIter: 10,000, Actual Iterations:     414; Loss= 0.044981:  w1=-1.934260, w2= 3.741026, b=-0.84639\n",
            "  Rate=0.05, MaxIter: 25,000, Actual Iterations:     395; Loss= 0.044941:  w1=-1.935242, w2= 3.741770, b=-0.84631\n",
            "  Rate=0.05, MaxIter: 50,000, Actual Iterations:     411; Loss= 0.044951:  w1=-1.951914, w2= 3.737046, b=-0.83599\n",
            "\n",
            "  Rate=0.01, MaxIter:     10, Actual Iterations:      10; Loss= 1.322358:  w1= 0.075626, w2= 0.798683, b= 0.16420\n",
            "  Rate=0.01, MaxIter:     50, Actual Iterations:      50; Loss= 1.302043:  w1=-0.069315, w2= 0.376043, b= 0.19799\n",
            "  Rate=0.01, MaxIter:    100, Actual Iterations:     100; Loss= 0.959203:  w1=-0.440035, w2= 0.783301, b= 0.01908\n",
            "  Rate=0.01, MaxIter:    500, Actual Iterations:     500; Loss= 0.423260:  w1=-0.760874, w2= 2.021923, b=-0.52910\n",
            "  Rate=0.01, MaxIter:  1,000, Actual Iterations:   1,000; Loss= 0.129950:  w1=-1.558865, w2= 2.973593, b=-0.63431\n",
            "  Rate=0.01, MaxIter:  5,000, Actual Iterations:   2,117; Loss= 0.044991:  w1=-1.956310, w2= 3.733608, b=-0.83216\n",
            "  Rate=0.01, MaxIter: 10,000, Actual Iterations:   2,092; Loss= 0.044996:  w1=-1.933881, w2= 3.739233, b=-0.84566\n",
            "  Rate=0.01, MaxIter: 25,000, Actual Iterations:   2,079; Loss= 0.044993:  w1=-1.922173, w2= 3.743293, b=-0.85328\n",
            "  Rate=0.01, MaxIter: 50,000, Actual Iterations:   2,172; Loss= 0.044994:  w1=-1.944043, w2= 3.736362, b=-0.83938\n",
            "\n",
            "  Rate=0.05, MaxIter:     10, Actual Iterations:      10; Loss= 1.348472:  w1= 0.409070, w2= 0.702231, b=-0.11811\n",
            "  Rate=0.05, MaxIter:     50, Actual Iterations:      50; Loss= 0.800649:  w1=-0.387026, w2= 1.155648, b=-0.26596\n",
            "  Rate=0.05, MaxIter:    100, Actual Iterations:     100; Loss= 0.410628:  w1=-0.934399, w2= 1.990196, b=-0.43062\n",
            "  Rate=0.05, MaxIter:    500, Actual Iterations:     399; Loss= 0.044961:  w1=-1.915969, w2= 3.748193, b=-0.85872\n",
            "  Rate=0.05, MaxIter:  1,000, Actual Iterations:     414; Loss= 0.044940:  w1=-1.935905, w2= 3.741605, b=-0.84591\n",
            "  Rate=0.05, MaxIter:  5,000, Actual Iterations:     405; Loss= 0.044931:  w1=-1.922790, w2= 3.746319, b=-0.85453\n",
            "  Rate=0.05, MaxIter: 10,000, Actual Iterations:     397; Loss= 0.044961:  w1=-1.945754, w2= 3.738265, b=-0.83954\n",
            "  Rate=0.05, MaxIter: 25,000, Actual Iterations:     423; Loss= 0.044981:  w1=-1.956383, w2= 3.735303, b=-0.83299\n",
            "  Rate=0.05, MaxIter: 50,000, Actual Iterations:     413; Loss= 0.044978:  w1=-1.930581, w2= 3.742307, b=-0.84879\n",
            "\n",
            "  Rate=0.1, MaxIter:     10, Actual Iterations:      10; Loss= 1.245387:  w1= 0.167753, w2= 0.529019, b=-0.17591\n",
            "  Rate=0.1, MaxIter:     50, Actual Iterations:      50; Loss= 0.479501:  w1=-0.761016, w2= 1.867157, b=-0.45034\n",
            "  Rate=0.1, MaxIter:    100, Actual Iterations:     100; Loss= 0.129448:  w1=-1.581758, w2= 2.983016, b=-0.62824\n",
            "  Rate=0.1, MaxIter:    500, Actual Iterations:     212; Loss= 0.044870:  w1=-1.921084, w2= 3.750601, b=-0.85752\n",
            "  Rate=0.1, MaxIter:  1,000, Actual Iterations:     210; Loss= 0.044992:  w1=-1.935655, w2= 3.742237, b=-0.84635\n",
            "  Rate=0.1, MaxIter:  5,000, Actual Iterations:     200; Loss= 0.044940:  w1=-1.905214, w2= 3.755672, b=-0.86763\n",
            "  Rate=0.1, MaxIter: 10,000, Actual Iterations:     201; Loss= 0.044936:  w1=-1.924151, w2= 3.747660, b=-0.85457\n",
            "  Rate=0.1, MaxIter: 25,000, Actual Iterations:     205; Loss= 0.045000:  w1=-1.931573, w2= 3.743358, b=-0.84886\n",
            "  Rate=0.1, MaxIter: 50,000, Actual Iterations:     211; Loss= 0.044900:  w1=-1.920411, w2= 3.750056, b=-0.85756\n",
            "\n",
            "  Rate=0.3, MaxIter:     10, Actual Iterations:      10; Loss= 0.658709:  w1=-0.777510, w2= 1.441309, b=-0.22596\n",
            "  Rate=0.3, MaxIter:     50, Actual Iterations:      50; Loss= 0.060802:  w1=-1.831767, w2= 3.513590, b=-0.77939\n",
            "  Rate=0.3, MaxIter:    100, Actual Iterations:      71; Loss= 0.044845:  w1=-1.977550, w2= 3.744064, b=-0.82739\n",
            "  Rate=0.3, MaxIter:    500, Actual Iterations:      69; Loss= 0.044918:  w1=-1.929345, w2= 3.754080, b=-0.85537\n",
            "  Rate=0.3, MaxIter:  1,000, Actual Iterations:      71; Loss= 0.044792:  w1=-1.942959, w2= 3.752755, b=-0.84823\n",
            "  Rate=0.3, MaxIter:  5,000, Actual Iterations:      69; Loss= 0.044761:  w1=-1.930331, w2= 3.757814, b=-0.85680\n",
            "  Rate=0.3, MaxIter: 10,000, Actual Iterations:      70; Loss= 0.044610:  w1=-1.945087, w2= 3.756809, b=-0.84928\n",
            "  Rate=0.3, MaxIter: 25,000, Actual Iterations:      70; Loss= 0.044585:  w1=-1.916520, w2= 3.768355, b=-0.86871\n",
            "  Rate=0.3, MaxIter: 50,000, Actual Iterations:      68; Loss= 0.044914:  w1=-1.930109, w2= 3.753893, b=-0.85491\n",
            "\n"
          ],
          "name": "stdout"
        }
      ]
    },
    {
      "cell_type": "markdown",
      "metadata": {
        "id": "_KLLhZspY1Me",
        "colab_type": "text"
      },
      "source": [
        "### Mini-Batch Gradient Descent solution"
      ]
    },
    {
      "cell_type": "code",
      "metadata": {
        "id": "Oto8snnoYvZV",
        "colab_type": "code",
        "outputId": "c6fe831a-97be-4234-f207-397ac22b4d18",
        "colab": {
          "base_uri": "https://localhost:8080/",
          "height": 1000
        }
      },
      "source": [
        "for alpha in rates:\n",
        "    for mi in MaxIter:\n",
        "        w = np.random.uniform(0, 1, (Xaug.shape[1]))  # make a random initial guess at the weights\n",
        "        w,l,i = least_squares_grad_desc(Xaug, y, w, mi, alpha, mini_batch_update, 32)   # arbitrarily chose 32 based on informal literature survey\n",
        "        print(f\"  Rate={alpha}, MaxIter:{mi:7,d}, Actual Iterations: {i:7,d}; Loss={l:9.6f}:  w1={w[1]:9.6f}, w2={w[2]:9.6f}, b={w[0]:8.5f}\")\n",
        "    print()"
      ],
      "execution_count": 115,
      "outputs": [
        {
          "output_type": "stream",
          "text": [
            "  Rate=0.001, MaxIter:     10, Actual Iterations:      10; Loss= 2.116964:  w1= 0.623176, w2= 0.346881, b= 0.45505\n",
            "  Rate=0.001, MaxIter:     50, Actual Iterations:      50; Loss= 3.058929:  w1= 0.863877, w2= 0.170493, b= 0.80906\n",
            "  Rate=0.001, MaxIter:    100, Actual Iterations:     100; Loss= 1.897060:  w1= 0.504175, w2= 0.470621, b= 0.37438\n",
            "  Rate=0.001, MaxIter:    500, Actual Iterations:     500; Loss= 1.217586:  w1=-0.088728, w2= 0.599983, b= 0.16485\n",
            "  Rate=0.001, MaxIter:  1,000, Actual Iterations:   1,000; Loss= 1.089998:  w1=-0.136462, w2= 0.635401, b=-0.04907\n",
            "  Rate=0.001, MaxIter:  5,000, Actual Iterations:   5,000; Loss= 0.351901:  w1=-1.133809, w2= 2.096687, b=-0.38750\n",
            "  Rate=0.001, MaxIter: 10,000, Actual Iterations:  10,000; Loss= 0.116903:  w1=-1.618318, w2= 3.041738, b=-0.63680\n",
            "  Rate=0.001, MaxIter: 25,000, Actual Iterations:  21,660; Loss= 0.044998:  w1=-1.927823, w2= 3.740514, b=-0.85036\n",
            "  Rate=0.001, MaxIter: 50,000, Actual Iterations:  20,400; Loss= 0.044999:  w1=-1.931793, w2= 3.739978, b=-0.84507\n",
            "\n",
            "  Rate=0.05, MaxIter:     10, Actual Iterations:      10; Loss= 1.355476:  w1= 0.207415, w2= 0.508775, b= 0.09825\n",
            "  Rate=0.05, MaxIter:     50, Actual Iterations:      50; Loss= 0.564269:  w1=-0.607518, w2= 1.649352, b=-0.40546\n",
            "  Rate=0.05, MaxIter:    100, Actual Iterations:     100; Loss= 0.392839:  w1=-0.771865, w2= 2.121819, b=-0.60851\n",
            "  Rate=0.05, MaxIter:    500, Actual Iterations:     422; Loss= 0.044963:  w1=-1.935412, w2= 3.738694, b=-0.85057\n",
            "  Rate=0.05, MaxIter:  1,000, Actual Iterations:     424; Loss= 0.044985:  w1=-1.962948, w2= 3.731774, b=-0.83815\n",
            "  Rate=0.05, MaxIter:  5,000, Actual Iterations:     396; Loss= 0.044898:  w1=-1.958804, w2= 3.735092, b=-0.84277\n",
            "  Rate=0.05, MaxIter: 10,000, Actual Iterations:     403; Loss= 0.044981:  w1=-1.898962, w2= 3.753941, b=-0.86755\n",
            "  Rate=0.05, MaxIter: 25,000, Actual Iterations:     415; Loss= 0.044999:  w1=-1.961884, w2= 3.731152, b=-0.83326\n",
            "  Rate=0.05, MaxIter: 50,000, Actual Iterations:     411; Loss= 0.044963:  w1=-1.925630, w2= 3.745507, b=-0.84551\n",
            "\n",
            "  Rate=0.01, MaxIter:     10, Actual Iterations:      10; Loss= 1.579715:  w1= 0.215585, w2= 0.415202, b= 0.33189\n",
            "  Rate=0.01, MaxIter:     50, Actual Iterations:      50; Loss= 1.429310:  w1= 0.320603, w2= 0.444976, b= 0.09016\n",
            "  Rate=0.01, MaxIter:    100, Actual Iterations:     100; Loss= 1.020301:  w1=-0.426126, w2= 0.652094, b= 0.06935\n",
            "  Rate=0.01, MaxIter:    500, Actual Iterations:     500; Loss= 0.354208:  w1=-1.025746, w2= 2.130281, b=-0.46800\n",
            "  Rate=0.01, MaxIter:  1,000, Actual Iterations:   1,000; Loss= 0.130758:  w1=-1.423722, w2= 3.028280, b=-0.72760\n",
            "  Rate=0.01, MaxIter:  5,000, Actual Iterations:   2,152; Loss= 0.044992:  w1=-1.930776, w2= 3.740289, b=-0.84632\n",
            "  Rate=0.01, MaxIter: 10,000, Actual Iterations:   2,106; Loss= 0.044992:  w1=-1.936039, w2= 3.737792, b=-0.84667\n",
            "  Rate=0.01, MaxIter: 25,000, Actual Iterations:   1,990; Loss= 0.044995:  w1=-1.923002, w2= 3.742436, b=-0.85291\n",
            "  Rate=0.01, MaxIter: 50,000, Actual Iterations:   2,049; Loss= 0.044990:  w1=-1.919217, w2= 3.743900, b=-0.85608\n",
            "\n",
            "  Rate=0.05, MaxIter:     10, Actual Iterations:      10; Loss= 1.427086:  w1= 0.524203, w2= 0.330363, b=-0.21125\n",
            "  Rate=0.05, MaxIter:     50, Actual Iterations:      50; Loss= 0.772939:  w1=-0.518624, w2= 1.134199, b=-0.21065\n",
            "  Rate=0.05, MaxIter:    100, Actual Iterations:     100; Loss= 0.416909:  w1=-0.769361, w2= 2.035036, b=-0.53856\n",
            "  Rate=0.05, MaxIter:    500, Actual Iterations:     418; Loss= 0.044892:  w1=-1.928659, w2= 3.742779, b=-0.85457\n",
            "  Rate=0.05, MaxIter:  1,000, Actual Iterations:     389; Loss= 0.044873:  w1=-1.943452, w2= 3.739221, b=-0.84130\n",
            "  Rate=0.05, MaxIter:  5,000, Actual Iterations:     415; Loss= 0.044932:  w1=-1.941639, w2= 3.742849, b=-0.86269\n",
            "  Rate=0.05, MaxIter: 10,000, Actual Iterations:     410; Loss= 0.044980:  w1=-1.900412, w2= 3.752552, b=-0.86929\n",
            "  Rate=0.05, MaxIter: 25,000, Actual Iterations:     416; Loss= 0.044989:  w1=-1.923162, w2= 3.742816, b=-0.85189\n",
            "  Rate=0.05, MaxIter: 50,000, Actual Iterations:     381; Loss= 0.044950:  w1=-1.931495, w2= 3.742933, b=-0.84313\n",
            "\n",
            "  Rate=0.1, MaxIter:     10, Actual Iterations:      10; Loss= 1.021893:  w1=-0.079970, w2= 0.904405, b=-0.08269\n",
            "  Rate=0.1, MaxIter:     50, Actual Iterations:      50; Loss= 0.350761:  w1=-1.102723, w2= 2.170098, b=-0.34168\n",
            "  Rate=0.1, MaxIter:    100, Actual Iterations:     100; Loss= 0.148852:  w1=-1.351980, w2= 2.945803, b=-0.71144\n",
            "  Rate=0.1, MaxIter:    500, Actual Iterations:     224; Loss= 0.044831:  w1=-1.930426, w2= 3.744527, b=-0.84918\n",
            "  Rate=0.1, MaxIter:  1,000, Actual Iterations:     203; Loss= 0.044713:  w1=-1.917581, w2= 3.753502, b=-0.85701\n",
            "  Rate=0.1, MaxIter:  5,000, Actual Iterations:     217; Loss= 0.044838:  w1=-1.931959, w2= 3.743085, b=-0.85328\n",
            "  Rate=0.1, MaxIter: 10,000, Actual Iterations:     221; Loss= 0.044614:  w1=-1.938191, w2= 3.748080, b=-0.84663\n",
            "  Rate=0.1, MaxIter: 25,000, Actual Iterations:     197; Loss= 0.044934:  w1=-1.899362, w2= 3.757920, b=-0.86337\n",
            "  Rate=0.1, MaxIter: 50,000, Actual Iterations:     212; Loss= 0.044926:  w1=-1.934765, w2= 3.742746, b=-0.84110\n",
            "\n",
            "  Rate=0.3, MaxIter:     10, Actual Iterations:      10; Loss= 0.642171:  w1=-0.495257, w2= 1.515814, b=-0.31800\n",
            "  Rate=0.3, MaxIter:     50, Actual Iterations:      50; Loss= 0.070440:  w1=-1.740856, w2= 3.411422, b=-0.75320\n",
            "  Rate=0.3, MaxIter:    100, Actual Iterations:      66; Loss= 0.044581:  w1=-1.918291, w2= 3.755984, b=-0.86078\n",
            "  Rate=0.3, MaxIter:    500, Actual Iterations:      70; Loss= 0.044746:  w1=-1.957532, w2= 3.748645, b=-0.82471\n",
            "  Rate=0.3, MaxIter:  1,000, Actual Iterations:      68; Loss= 0.044454:  w1=-1.956539, w2= 3.746464, b=-0.84495\n",
            "  Rate=0.3, MaxIter:  5,000, Actual Iterations:      69; Loss= 0.044476:  w1=-1.951484, w2= 3.772569, b=-0.82850\n",
            "  Rate=0.3, MaxIter: 10,000, Actual Iterations:      68; Loss= 0.044431:  w1=-1.931603, w2= 3.767046, b=-0.84373\n",
            "  Rate=0.3, MaxIter: 25,000, Actual Iterations:      65; Loss= 0.044760:  w1=-1.919996, w2= 3.752877, b=-0.87371\n",
            "  Rate=0.3, MaxIter: 50,000, Actual Iterations:      70; Loss= 0.044940:  w1=-1.952315, w2= 3.742453, b=-0.86095\n",
            "\n"
          ],
          "name": "stdout"
        }
      ]
    },
    {
      "cell_type": "markdown",
      "metadata": {
        "colab_type": "text",
        "id": "mMNxMJJdVhOj"
      },
      "source": [
        "(B) What settings worked well for you:  online vs. batch vs. minibatch? What step size? How did you decide to terminate?"
      ]
    },
    {
      "cell_type": "markdown",
      "metadata": {
        "id": "NyLG_KMJxmud",
        "colab_type": "text"
      },
      "source": [
        "> In terms of minimizing the number of epochs, **Stochastic Gradient Descent (SGD)** worked best.  Also, the largest step size of **0.3** was consistently the best irregardless of the algorithm.  \n",
        "\n",
        "> When SGD was run with a step size of 0.3, it was consistently able to converge on an answer in just **two** epochs.\n",
        "\n",
        "> To find an optimal value for the termination threshold, I first ran through all of the Rates / MaxIter combinations with no threshold.  Examining the data from those trial runs, I was able to see that the gradient descent always hit a lower plateau at approximately MSE = 0.043 to 0.044.  Based on that observation, I set an early termination threshold of 0.045."
      ]
    },
    {
      "cell_type": "markdown",
      "metadata": {
        "colab_type": "text",
        "id": "bXxAjKTtVhOm"
      },
      "source": [
        "(C) Make a graph of error on the entire data set as a function of epoch. An epoch is a complete sweep through all the data (which is one iteration for full-batch gradient descent)."
      ]
    },
    {
      "cell_type": "code",
      "metadata": {
        "colab_type": "code",
        "id": "j3rvqIrYVhOn",
        "colab": {}
      },
      "source": [
        "# Gather the data\n",
        "sgd_epoch = []\n",
        "sgd_error = []\n",
        "gd_epoch = []\n",
        "gd_error = []\n",
        "mb_epoch = []\n",
        "mb_error = []\n",
        "\n",
        "for mi in range(1,100):\n",
        "\n",
        "    # Stochastic Gradient Descent\n",
        "    w = np.random.uniform(0, 1, (Xaug.shape[1]))  # make a random initial guess at the weights\n",
        "    w,l,i = least_squares_grad_desc(Xaug, y, w, mi, 0.3, online_epoch)\n",
        "    sgd_epoch.append(i)\n",
        "    sgd_error.append(l)\n",
        "\n",
        "    # Gradient Descent\n",
        "    w = np.random.uniform(0, 1, (Xaug.shape[1]))  # make a random initial guess at the weights\n",
        "    w,l,i = least_squares_grad_desc(Xaug, y, w, mi, 0.3, batch_update)\n",
        "    gd_epoch.append(i)\n",
        "    gd_error.append(l)\n",
        "\n",
        "    # Mini-batch Gradient Descent\n",
        "    w = np.random.uniform(0, 1, (Xaug.shape[1]))  # make a random initial guess at the weights\n",
        "    w,l,i = least_squares_grad_desc(Xaug, y, w, mi, 0.3, mini_batch_update, 32)\n",
        "    mb_epoch.append(i)\n",
        "    mb_error.append(l)\n"
      ],
      "execution_count": 0,
      "outputs": []
    },
    {
      "cell_type": "code",
      "metadata": {
        "id": "XUWOdVeXAKIY",
        "colab_type": "code",
        "outputId": "903b0021-2a2c-4c7f-8e9c-566564ad3e6e",
        "colab": {
          "base_uri": "https://localhost:8080/",
          "height": 370
        }
      },
      "source": [
        "import matplotlib.pyplot as plt\n",
        "\n",
        "# Plot the data\n",
        "fig = plt.figure(figsize=(15, 5))\n",
        "ax1 = fig.add_subplot(111)\n",
        "ax1.semilogy(sgd_epoch, sgd_error, c='r', label='stochastic gradient descent')\n",
        "ax1.semilogy(gd_epoch,  gd_error,  c='g', label='batch gradient descent')\n",
        "ax1.semilogy(mb_epoch,  mb_error,  c='b', label='mini-batch gradient descent')\n",
        "plt.legend(loc='upper right');\n",
        "plt.suptitle(r\"$\\alpha = 0.3$\")\n",
        "plt.xlabel(\"Epoch\")\n",
        "plt.ylabel(\"Error\")\n",
        "plt.grid(b=True, which='major', color='#666666', linestyle='-')\n",
        "plt.grid(b=True, which='minor', color='#333333', linestyle='--')\n",
        "plt.show()"
      ],
      "execution_count": 117,
      "outputs": [
        {
          "output_type": "display_data",
          "data": {
            "image/png": "[encoded data removed]",
            "text/plain": [
              "<Figure size 1080x360 with 1 Axes>"
            ]
          },
          "metadata": {
            "tags": []
          }
        }
      ]
    },
    {
      "cell_type": "markdown",
      "metadata": {
        "colab_type": "text",
        "id": "u2WH5OVEVhOp"
      },
      "source": [
        "## Part 3"
      ]
    },
    {
      "cell_type": "markdown",
      "metadata": {
        "colab_type": "text",
        "id": "POTbQx4cVhOp"
      },
      "source": [
        "The data set from a regression problem can be converted into a classification problem simply by using the sign of (+ or -) as representing one of two classes. In the data set used in Part 1 and 2, you'll see the variable z that represents this binary (0 or 1) class.\n",
        "\n",
        "Use the perceptron learning rule to solve for the coefficients {$w_1$, $w_2$, $b$} of this classification problem.   \n",
        "\n",
        "Two warnings: First, your solution to Part 3 should require only a few lines of code changed from the code you wrote for Part 2. Second, the Perceptron algorithm will not converge if there is no exact solution to the training data. It will jitter among coefficients that all yield roughly equally good solutions."
      ]
    },
    {
      "cell_type": "markdown",
      "metadata": {
        "colab_type": "text",
        "id": "Qs7gbsbjVhOq"
      },
      "source": [
        "Complete the following functions below and use them to answer questions (A) and (B). \n",
        "\n",
        "**Note:** Please do not change the interface of the given functions."
      ]
    },
    {
      "cell_type": "code",
      "metadata": {
        "colab_type": "code",
        "id": "anej2h2pVhOr",
        "colab": {}
      },
      "source": [
        "def perceptron_update(X, y, w, alpha):\n",
        "    \"\"\"\n",
        "    One epoch of Perceptron updates (full sweep of the dataset).\n",
        "    \n",
        "    Parameters\n",
        "    ----------\n",
        "    X : NumPy array of features (size : no of examples X features)\n",
        "    y : Numpy array of class labels (size : no of examples X 1)\n",
        "    w : array of coefficients from the previous iteration\n",
        "    alpha : learn rate\n",
        "    \n",
        "    Returns\n",
        "    -------\n",
        "    w : Coefficients of the classifier (after updating)\n",
        "    incorrect : count of Incorrectly classified examples\n",
        "    \"\"\"\n",
        "    y_hat = X @ w\n",
        "    \n",
        "    # Convert to a classification prediction (there has GOT to be a more \"Pythonic\" way)\n",
        "    for i in range(y_hat.shape[0]):\n",
        "        if (y_hat[i]>=0.0):\n",
        "            y_hat[i] = 1.0\n",
        "        else:\n",
        "            y_hat[i] = 0.0\n",
        "\n",
        "    err = y - y_hat\n",
        " \n",
        "    grad = X.T @ err\n",
        "\n",
        "    # Now we've evaluated the entire training set, update the model\n",
        "    w += alpha*grad\n",
        "\n",
        "    # Return the updated weights and the error count.\n",
        "    return (w,np.sum(err**2))\n",
        "\n",
        "\n",
        "def perceptron(X, y, maxIter, alpha):\n",
        "    \"\"\"\n",
        "    Implements the Perceptron algorithm.\n",
        "    \n",
        "    Parameters\n",
        "    ----------\n",
        "    X : NumPy array of features (size : no of examples X features)\n",
        "    y : Numpy array of class labels (size : no of examples X 1)\n",
        "    maxIter : The maximum number of iterations allowed \n",
        "    alpha : Learning Rate\n",
        "    \n",
        "    Returns\n",
        "    -------\n",
        "    w : Coefficients of the classifier\n",
        "    incorrect : count of Incorrectly classified examples on termination\n",
        "    \"\"\"\n",
        "    N,_ = X.shape\n",
        "    Xaug = np.c_[np.ones((N,1)), X]     # Augment X's with extra 1's for the bias term\n",
        "    w = np.zeros((Xaug.shape[1]))       # for perceptron, start with 0 weights\n",
        "    for i in range(maxIter):\n",
        "        w,incorrect = perceptron_update(Xaug, y, w, alpha)\n",
        "        if incorrect == 0:\n",
        "            break\n",
        "\n",
        "    return w,incorrect"
      ],
      "execution_count": 0,
      "outputs": []
    },
    {
      "cell_type": "markdown",
      "metadata": {
        "colab_type": "text",
        "id": "CiM8viPnVhOt"
      },
      "source": [
        "(A) Report the values of coefficients $w_1$, $w_2$, and $b$."
      ]
    },
    {
      "cell_type": "code",
      "metadata": {
        "colab_type": "code",
        "id": "Jl1YoCt-VhOt",
        "outputId": "4a0760c8-cdc8-418d-a9db-4ef9b9449264",
        "colab": {
          "base_uri": "https://localhost:8080/",
          "height": 68
        }
      },
      "source": [
        "w,_ = perceptron(X, z, 100, 0.1)\n",
        "print(f\"w_1 = {w[1]}\\nw_2 = {w[2]}\\n  b = {w[0]}\")"
      ],
      "execution_count": 119,
      "outputs": [
        {
          "output_type": "stream",
          "text": [
            "w_1 = -5.2153\n",
            "w_2 = 8.328049999999998\n",
            "  b = -1.0000000000000004\n"
          ],
          "name": "stdout"
        }
      ]
    },
    {
      "cell_type": "markdown",
      "metadata": {
        "colab_type": "text",
        "id": "v9MObKUYVhOv"
      },
      "source": [
        "(B) Make a graph of the accuracy (% correct classification) on the training set as a function of epoch."
      ]
    },
    {
      "cell_type": "code",
      "metadata": {
        "colab_type": "code",
        "id": "x8yAplB5VhOw",
        "outputId": "e107f1d7-385c-4903-e869-bdd68ac662e3",
        "colab": {
          "base_uri": "https://localhost:8080/",
          "height": 370
        }
      },
      "source": [
        "import matplotlib.pyplot as plt\n",
        "\n",
        "# Collect the data\n",
        "maxIter = 100\n",
        "alpha = 0.1\n",
        "accuracy = []\n",
        "N,_ = X.shape\n",
        "Xaug = np.c_[np.ones((N,1)), X]     # Augment X's with extra 1's for the bias term\n",
        "w = np.zeros((Xaug.shape[1]))       # for perceptron, start with 0 weights\n",
        "for i in range(maxIter):\n",
        "    w,incorrect = perceptron_update(Xaug, z, w, alpha)\n",
        "    accuracy.append(100.0*incorrect/N)\n",
        "    if incorrect == 0:\n",
        "        break\n",
        "\n",
        "# Plot the data\n",
        "fig = plt.figure(figsize=(15, 5))\n",
        "ax1 = fig.add_subplot(111)\n",
        "ax1.plot(range(maxIter), accuracy, c='b')\n",
        "plt.suptitle(f\"Perceptron with $\\\\alpha = {alpha}$\")\n",
        "plt.xlabel(\"Epoch\")\n",
        "plt.ylabel(\"Accuracy (%)\")\n",
        "plt.grid(b=True, which='major', color='#666666', linestyle='-')\n",
        "plt.grid(b=True, which='minor', color='#333333', linestyle='--')\n",
        "plt.show()"
      ],
      "execution_count": 120,
      "outputs": [
        {
          "output_type": "display_data",
          "data": {
            "image/png": "[encoded data removed]",
            "text/plain": [
              "<Figure size 1080x360 with 1 Axes>"
            ]
          },
          "metadata": {
            "tags": []
          }
        }
      ]
    },
    {
      "cell_type": "markdown",
      "metadata": {
        "colab_type": "text",
        "id": "AfXBONZZVhOy"
      },
      "source": [
        "## Part 4"
      ]
    },
    {
      "cell_type": "markdown",
      "metadata": {
        "colab_type": "text",
        "id": "zO2ij9gIVhOy"
      },
      "source": [
        "In machine learning, we really want to train a model based on some data and then expect the model to do well on \"out of sample\" data. Try this with the code you wrote for Part 3:  Train the model on the first {5, 10, 25, 50, 75} examples in the data set and test the model on the final 25 examples."
      ]
    },
    {
      "cell_type": "markdown",
      "metadata": {
        "colab_type": "text",
        "id": "F66-PYWKVhOz"
      },
      "source": [
        "Complete the following function below and use it to answer (A). \n",
        "\n",
        "**Note:** Please do not change the interface of the given function."
      ]
    },
    {
      "cell_type": "code",
      "metadata": {
        "colab_type": "code",
        "id": "3wseIfmUVhOz",
        "colab": {}
      },
      "source": [
        "def classify(X, y, w):\n",
        "    \"\"\"\n",
        "    Use this function to classify examples in the test set\n",
        "    \n",
        "    Parameters\n",
        "    ----------\n",
        "    X : Test set features\n",
        "    y : Test set labels\n",
        "    w : Perceptron coefficients\n",
        "    \n",
        "    Returns\n",
        "    -------\n",
        "    correct : number of correctly classified examples\n",
        "    \"\"\"\n",
        "    N,_ = X.shape\n",
        "    Xaug = np.c_[np.ones((N,1)), X]     # Augment X's with extra 1's for the bias term\n",
        "    y_hat = Xaug @ w\n",
        "    \n",
        "    # Convert to a classification prediction (there has GOT to be a more \"Pythonic\" way)\n",
        "    for i in range(y_hat.shape[0]):\n",
        "        if (y_hat[i]>=0.0):\n",
        "            y_hat[i] = 1.0\n",
        "        else:\n",
        "            y_hat[i] = 0.0\n",
        "\n",
        "    errs = np.sum((y - y_hat)**2)\n",
        " \n",
        "    # Return the count of correct classifications.\n",
        "    return X.shape[0]-errs"
      ],
      "execution_count": 0,
      "outputs": []
    },
    {
      "cell_type": "markdown",
      "metadata": {
        "colab_type": "text",
        "id": "I3D_lEO8VhO3"
      },
      "source": [
        "How does performance on the test set vary with the amount of training data? Make a bar graph showing performance for each of the different training set sizes."
      ]
    },
    {
      "cell_type": "code",
      "metadata": {
        "colab_type": "code",
        "id": "0GrkjpYDVhO4",
        "colab": {
          "base_uri": "https://localhost:8080/",
          "height": 102
        },
        "outputId": "5053ece0-157c-457e-ec26-0b507b5a84e7"
      },
      "source": [
        "train_size = (5, 10, 25, 50, 75)\n",
        "\n",
        "accuracy = []\n",
        "\n",
        "for ts in train_size:\n",
        "    # Train the perceptron on the first ts examples\n",
        "    w,_ = perceptron(X[:ts,:], z[:ts], 100, 0.1)\n",
        "\n",
        "    # Test the perceptron with the last 25 examples\n",
        "    accurate = 4.0*classify(X[-25:,:], z[-25:], w)\n",
        "    print(f\"Training on first {ts}, accurate = {accurate}%\")\n",
        "    accuracy.append(accurate)"
      ],
      "execution_count": 122,
      "outputs": [
        {
          "output_type": "stream",
          "text": [
            "Training on first 5, accurate = 92.0%\n",
            "Training on first 10, accurate = 84.0%\n",
            "Training on first 25, accurate = 96.0%\n",
            "Training on first 50, accurate = 92.0%\n",
            "Training on first 75, accurate = 96.0%\n"
          ],
          "name": "stdout"
        }
      ]
    },
    {
      "cell_type": "code",
      "metadata": {
        "id": "WrA8cHtdxjBV",
        "colab_type": "code",
        "colab": {
          "base_uri": "https://localhost:8080/",
          "height": 370
        },
        "outputId": "4b4e0dfb-b3c8-40ea-e407-ee28b160e5d8"
      },
      "source": [
        "fig = plt.figure(figsize=(15, 5))\n",
        "ax1 = fig.add_subplot(111)\n",
        "ax1.bar(range(len(train_size)), accuracy, align='center')\n",
        "plt.xticks(range(len(train_size)), train_size)\n",
        "plt.suptitle(f\"Perceptron with $\\\\alpha = {alpha}$\")\n",
        "plt.xlabel(\"Training Set Size\")\n",
        "plt.ylabel(\"Accuracy (%)\")\n",
        "plt.show()"
      ],
      "execution_count": 127,
      "outputs": [
        {
          "output_type": "display_data",
          "data": {
            "image/png": "[encoded data removed]",
            "text/plain": [
              "<Figure size 1080x360 with 1 Axes>"
            ]
          },
          "metadata": {
            "tags": []
          }
        }
      ]
    },
    {
      "cell_type": "code",
      "metadata": {
        "id": "avQfwJJq1CQk",
        "colab_type": "code",
        "colab": {}
      },
      "source": [
        ""
      ],
      "execution_count": 0,
      "outputs": []
    }
  ]
}