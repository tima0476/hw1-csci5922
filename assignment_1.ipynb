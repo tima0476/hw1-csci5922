{
  "nbformat": 4,
  "nbformat_minor": 0,
  "metadata": {
    "colab": {
      "name": "Copy of assignment_1.ipynb",
      "provenance": [],
      "collapsed_sections": [],
      "include_colab_link": true
    },
    "kernelspec": {
      "name": "python3",
      "display_name": "Python 3"
    },
    "language_info": {
      "codemirror_mode": {
        "name": "ipython",
        "version": 3
      },
      "file_extension": ".py",
      "mimetype": "text/x-python",
      "name": "python",
      "nbconvert_exporter": "python",
      "pygments_lexer": "ipython3",
      "version": "3.7.6"
    },
    "accelerator": "GPU"
  },
  "cells": [
    {
      "cell_type": "markdown",
      "metadata": {
        "id": "view-in-github",
        "colab_type": "text"
      },
      "source": [
        "<a href=\"https://colab.research.google.com/github/tima0476/hw1-csci5922/blob/master/assignment_1.ipynb\" target=\"_parent\"><img src=\"https://colab.research.google.com/assets/colab-badge.svg\" alt=\"Open In Colab\"/></a>"
      ]
    },
    {
      "cell_type": "markdown",
      "metadata": {
        "colab_type": "text",
        "id": "yI6QRw_VVhOI"
      },
      "source": [
        "# <center> Neural Networks and Deep Learning (CSCI 5922)</center>\n",
        "# <center> Spring 2020 </center>"
      ]
    },
    {
      "cell_type": "markdown",
      "metadata": {
        "colab_type": "text",
        "id": "oyyZSLCIVhOK"
      },
      "source": [
        "**Name:** Timothy Mason"
      ]
    },
    {
      "cell_type": "markdown",
      "metadata": {
        "colab_type": "text",
        "id": "B7u4l5SIVhOL"
      },
      "source": [
        "## Goal"
      ]
    },
    {
      "cell_type": "markdown",
      "metadata": {
        "colab_type": "text",
        "id": "O7mbNY0lVhOL"
      },
      "source": [
        "The goal of this assignment is to introduce neural networks in terms of ideas you are already familiar with:  linear regression and classification"
      ]
    },
    {
      "cell_type": "markdown",
      "metadata": {
        "colab_type": "text",
        "id": "7kNKcDdGDO4z"
      },
      "source": [
        "## Dataset"
      ]
    },
    {
      "cell_type": "markdown",
      "metadata": {
        "colab_type": "text",
        "id": "w-ZVWvA4VhON"
      },
      "source": [
        "You are given a dataset with 2 input variables ($x_1$, $x_2$) and an output variable ($y$)."
      ]
    },
    {
      "cell_type": "code",
      "metadata": {
        "colab_type": "code",
        "id": "qluUEgHYVhOO",
        "outputId": "20eb2ae2-f79d-4d74-9197-aa0e77ddb5e2",
        "colab": {
          "base_uri": "https://localhost:8080/",
          "height": 34
        }
      },
      "source": [
        "from sklearn.datasets import make_regression\n",
        "from matplotlib import pyplot\n",
        "import numpy as np\n",
        "import os\n",
        "\n",
        "try:\n",
        "    from google.colab import drive\n",
        "    drive.mount('/content/drive', force_remount=True)\n",
        "\n",
        "    # Load data from gDrive\n",
        "    data = np.loadtxt(os.path.join('/content/drive/My Drive/spring2020/hw1-csci5922/data', 'assign1_data.txt'),  delimiter=',')\n",
        "except:\n",
        "    # Load data - relative path from notebook\n",
        "    data = np.loadtxt(os.path.join('data', 'assign1_data.txt'),  delimiter=',')\n",
        "    \n",
        "X = data[:,:2]\n",
        "y = data[:, 2]\n",
        "z = data[:, 3]"
      ],
      "execution_count": 1,
      "outputs": [
        {
          "output_type": "stream",
          "text": [
            "Mounted at /content/drive\n"
          ],
          "name": "stdout"
        }
      ]
    },
    {
      "cell_type": "markdown",
      "metadata": {
        "colab_type": "text",
        "id": "ZiLhj-CvVhOQ"
      },
      "source": [
        "## Part 1"
      ]
    },
    {
      "cell_type": "markdown",
      "metadata": {
        "colab_type": "text",
        "id": "1zNUNcC0VhOR"
      },
      "source": [
        "Write a program to find the exact least squares solution to $y = w_1 x_1 + w_2 x_2 + b$ for the above dataset, using the normal equation."
      ]
    },
    {
      "cell_type": "markdown",
      "metadata": {
        "colab_type": "text",
        "id": "txzccR6-VhOS"
      },
      "source": [
        "Complete the following function below and use it to answer questions (A) and (B). \n",
        "\n",
        "**Note:** Please do not change the interface of the given function."
      ]
    },
    {
      "cell_type": "code",
      "metadata": {
        "colab_type": "code",
        "id": "gFAcJL6VVhOS",
        "colab": {}
      },
      "source": [
        "def least_squares(X, y):\n",
        "    \"\"\"\n",
        "    Finds the Least Squares solution\n",
        "    \n",
        "    Parameters\n",
        "    ----------\n",
        "    X : NumPy array of features (size : no of examples X features)\n",
        "    y : Numpy array of output value 'y' (size : no of examples X 1)\n",
        "    \n",
        "    Returns\n",
        "    -------\n",
        "    w : solution array\n",
        "    \"\"\"\n",
        "\n",
        "    # From the text:  \"Instead of adding the bias parameter b, one can continue to use \n",
        "    # the model with only weights but augment x with an extra entry that is always set \n",
        "    # to 1. The weight corresponding to the extra 1 entry plays the role of the bias \n",
        "    # parameter.\"\n",
        "\n",
        "    X = np.c_[np.ones((X.shape[0],1)), X]   # Augment X's with extra 1's\n",
        "\n",
        "    # Calculate the normal equation.\n",
        "    w = np.linalg.inv(X.T @ X) @ X.T @ y\n",
        "\n",
        "    return w"
      ],
      "execution_count": 0,
      "outputs": []
    },
    {
      "cell_type": "markdown",
      "metadata": {
        "colab_type": "text",
        "id": "ZcO-nAfxVhOV"
      },
      "source": [
        "(A) Report the values of $w_1$, $w_2$, and $b$."
      ]
    },
    {
      "cell_type": "code",
      "metadata": {
        "colab_type": "code",
        "id": "5sXuI05yVhOV",
        "outputId": "c702ad89-2d90-40a8-aadc-5756eba8b687",
        "colab": {
          "base_uri": "https://localhost:8080/",
          "height": 68
        }
      },
      "source": [
        "w = least_squares(X, y)\n",
        "print(f\"w_1 = {w[1]}\\nw_2 = {w[2]}\\n  b = {w[0]}\")"
      ],
      "execution_count": 3,
      "outputs": [
        {
          "output_type": "stream",
          "text": [
            "w_1 = -2.0442425951376353\n",
            "w_2 = 3.996860168659322\n",
            "  b = -0.9242908118675891\n"
          ],
          "name": "stdout"
        }
      ]
    },
    {
      "cell_type": "markdown",
      "metadata": {
        "colab_type": "text",
        "id": "S-jYwaEbVhOY"
      },
      "source": [
        "(B) What function or method did you use to find the least-squares solution?"
      ]
    },
    {
      "cell_type": "markdown",
      "metadata": {
        "colab_type": "text",
        "id": "OF8A7mYEVhOY"
      },
      "source": [
        "> The linear regression was calculated using the equation: \n",
        "> \n",
        "> $$\\mathbf{w} = \\left( \\mathbf{X}^\\top \\mathbf{X} \\right)^{-1} \\mathbf{X}^\\top \\mathbf{y}$$\n",
        "> \n",
        "> \n",
        "> The vector $\\mathbf{w}$ provides the weight coefficients for the prediction $\\hat{y}$:\n",
        "> \n",
        "> $$ \\hat{y} = \\mathbf{w}^\\top \\mathbf{x} = w_1 x_1 + w_2 x_2 + \\ldots + w_m x_m$$\n",
        "> \n",
        "> \n",
        "> Note that the requirement was to find the exact least squares solution to $y = w_1 x_1 + w_2 x_2 + b$.  \n",
        ">\n",
        "> To find the $b$ term, an extra column of 1's was inserted as the leftmost column of the $\\mathbf{X}$ matrix,\n",
        "> which adds a new term $x_0 = 1$.  This caused the normal \n",
        "> equation to solve for \n",
        "> \n",
        "> $$\n",
        "\\begin{split}\n",
        "    \\hat{y} = \\mathbf{w}^\\top \\mathbf{x} & =  w_0 x_0 + w_1 x_1 + w_2 x_2 \\\\\n",
        "    \\\\\n",
        "    \\text{Note that we set } x_0 = 1 \\text{, therefore: } \\hat{y} & = w_0 + w_1 x_1 + w_2 x_2 \\\\\n",
        "    \\\\\n",
        "    \\text{Let }w_0=b\\text{, and we have: } \\hat{y} & = w_1 x_1 + w_2 x_2 + b\n",
        "\\end{split}\n",
        "$$\n",
        ">"
      ]
    },
    {
      "cell_type": "markdown",
      "metadata": {
        "colab_type": "text",
        "id": "_qNGRMnLVhOZ"
      },
      "source": [
        "## Part 2"
      ]
    },
    {
      "cell_type": "markdown",
      "metadata": {
        "colab_type": "text",
        "id": "K2C1Pj1xVhOZ"
      },
      "source": [
        "Implement linear regression of y on X via first-order optimization of the least-squares objective. Write a program that determines the coefficients {w1,w2,b}. Implement stochastic gradient descent, batch gradient descent, and mini-batch gradient descent. You will need to experiment with updating rules, step sizes (i.e. learning rates), stopping criteria, etc. Experiment to find settings that lead to solutions with the fewest number of sweeps through the data."
      ]
    },
    {
      "cell_type": "markdown",
      "metadata": {
        "colab_type": "text",
        "id": "Dz9LPxNsVhOa"
      },
      "source": [
        "Complete the following functions below and use them to answer questions (A), (B) and (C). You may find the shuffle function from scikit-learn useful. \n",
        "\n",
        "Use the following hyperparameters:\n",
        "\n",
        "Learning rates = [0.001, 0.05, 0.01, 0.05, 0.1, 0.3]\n",
        "\n",
        "MaxIter = [10, 50, 100, 500, 1000, 5000, 10000, 25000, 50000]\n",
        "\n",
        "**Note:** Please do not change the interface of the given functions."
      ]
    },
    {
      "cell_type": "code",
      "metadata": {
        "colab_type": "code",
        "id": "9rCKocs6VhOb",
        "colab": {}
      },
      "source": [
        "from sklearn.utils import shuffle\n",
        "\n",
        "def online_epoch(X, y, w, alpha):\n",
        "    \"\"\"\n",
        "    One epoch of stochastic gradient descent (i.e. one sweep of the dataset).\n",
        "    \n",
        "    Parameters\n",
        "    ----------\n",
        "    X : NumPy array of features (size : no of examples X features)\n",
        "    y : Numpy array of class labels (size : no of examples X 1)\n",
        "    w : array of coefficients from the previous iteration\n",
        "    alpha : learning rate\n",
        "    \n",
        "    Returns\n",
        "    -------\n",
        "    a tuple containing Coefficients of the model (after updating) and the loss\n",
        "    \"\"\"\n",
        "    # Iterate through the training set, updating the model after each example is evaluated\n",
        "    N = X.shape[0]\n",
        "    for i in range(N):\n",
        "        x = X[i]\n",
        "        # make a prediction with our current set of weights (current example)\n",
        "        y_hat = x @ w\n",
        "\n",
        "        # compute the error (current example)\n",
        "        err = y[i] - y_hat\n",
        "\n",
        "        # compute the gradient (current example)\n",
        "        grad = -(x.T * err)\n",
        "\n",
        "        # update the model after learning from each example\n",
        "        w -= alpha*grad\n",
        "\n",
        "    # Return the updated weights and the full-training set loss.\n",
        "    return (w,np.average((y - X @ w) ** 2))\n",
        "\n",
        "\n",
        "def batch_update(X, y, w, alpha):\n",
        "    \"\"\"\n",
        "    One iteration of full-batch gradient descent.\n",
        "    \n",
        "    Parameters\n",
        "    ----------\n",
        "    X : NumPy array of features (size : no of examples X features)\n",
        "    y : Numpy array of class labels (size : no of examples X 1)\n",
        "    w : array of coefficients from the previous iteration\n",
        "    alpha : Learning rate\n",
        "    \n",
        "    Returns\n",
        "    -------\n",
        "    a tuple containing Coefficients of the model (after updating) and the loss\n",
        "    \"\"\"\n",
        "    # make a prediction with our current set of weights (full training set)\n",
        "    y_hat = X @ w\n",
        "\n",
        "    # compute the error (full training set)\n",
        "    err = y - y_hat\n",
        "\n",
        "    # compute the gradient (full training set)\n",
        "    N = X.shape[0]\n",
        "    grad = (X.T @ err) * -2.0 / N\n",
        "\n",
        "    # Now we've evaluated the entire training set, update the model\n",
        "    w -= alpha*grad\n",
        "\n",
        "    # Return the updated weights and the loss.\n",
        "    return (w,np.average(err**2))\n",
        "\n",
        "def mini_batch_update(X, y, w, alpha, batch_size):\n",
        "    \"\"\"\n",
        "    One epoch of mini-batch SGD over the entire dataset (i.e. one sweep of the dataset).\n",
        "    \n",
        "    Parameters\n",
        "    ----------\n",
        "    X : NumPy array of features (size : no of examples X features)\n",
        "    y : Numpy array of class labels (size : no of examples X 1)\n",
        "    w : array of coefficients from the previous iteration\n",
        "    alpha : learining rate\n",
        "    batch_size : size of the batch for gradient update\n",
        "    \n",
        "    Returns\n",
        "    -------\n",
        "    a tuple containing Coefficients of the model (after updating) and the loss\n",
        "    \"\"\"\n",
        "    # Pull out a random subset of the training data.\n",
        "\n",
        "    mini_comb = shuffle(np.c_[X,y], n_samples = batch_size)     # shuffle combined X and y\n",
        "    X_sub = mini_comb[:,:3]\n",
        "    y_sub = mini_comb[:,3]\n",
        "\n",
        "    # make a prediction with our current set of weights (mini-batch training set)\n",
        "    y_hat = X_sub @ w\n",
        "\n",
        "    # compute the error (mini-batch training set)\n",
        "    err = y_sub - y_hat\n",
        "\n",
        "    # compute the gradient (full training set)\n",
        "    grad = (X_sub.T @ err) * -2.0 / batch_size\n",
        "\n",
        "    # Now we've evaluated the mini-batch, update the model\n",
        "    w -= alpha*grad\n",
        "\n",
        "    # Return the updated weights and the full-training set loss.\n",
        "    return (w,np.average((y - X @ w) ** 2))\n",
        "\n",
        "\n",
        "def least_squares_grad_desc(X, y, w, maxIter, alpha, update, *batch_size):\n",
        "    \"\"\"\n",
        "    Implements least squares with gradient descent.\n",
        "    \n",
        "    Parameters\n",
        "    ----------\n",
        "    X : NumPy array of features (size : no of examples X features)\n",
        "    y : Numpy array of class labels (size : no of examples X 1)\n",
        "    w : array of coefficients from the previous iteration\n",
        "    maxIter : Maximum number of iterations allowed\n",
        "    alpha : Learning rate\n",
        "    update : update function to utilize (one of online, batch, mini-batch)\n",
        "    batch_size : number of examples in a batch (only useful when update = mini_batch_update)\n",
        "    \n",
        "    Returns\n",
        "    -------\n",
        "    a tuple containing Coefficients of the model (after updating) and the loss\n",
        "    \n",
        "    Note : *batch_size is an optional argument and only to be used when doing mini-batch Gradient Descent \n",
        "    \"\"\"\n",
        "    for i in range(maxIter):\n",
        "        if batch_size:\n",
        "            w,l = update(X, y, w, alpha, batch_size[0])\n",
        "        else:\n",
        "            w,l = update(X, y, w, alpha)\n",
        "\n",
        "    return (w,l)\n"
      ],
      "execution_count": 0,
      "outputs": []
    },
    {
      "cell_type": "markdown",
      "metadata": {
        "colab_type": "text",
        "id": "zYMi7e8ZVhOd"
      },
      "source": [
        "(A) Report the values of $w_1$, $w_2$, and $b$. "
      ]
    },
    {
      "cell_type": "markdown",
      "metadata": {
        "id": "Mf9cfn14n3EF",
        "colab_type": "text"
      },
      "source": [
        ""
      ]
    },
    {
      "cell_type": "code",
      "metadata": {
        "colab_type": "code",
        "id": "uJ2UpCAbVhOd",
        "colab": {}
      },
      "source": [
        "rates = [0.001, 0.05, 0.01, 0.05, 0.1, 0.3]\n",
        "MaxIter = [10, 50, 100, 500, 1000, 5000, 10000, 25000, 50000]\n",
        "\n",
        "Xaug = np.c_[np.ones((X.shape[0],1)), X]   # Augment X's with extra 1's for the bias term"
      ],
      "execution_count": 0,
      "outputs": []
    },
    {
      "cell_type": "markdown",
      "metadata": {
        "id": "HAYPBzpxZAU-",
        "colab_type": "text"
      },
      "source": [
        "### Stochastic Gradient Descent"
      ]
    },
    {
      "cell_type": "code",
      "metadata": {
        "colab_type": "code",
        "id": "WWht3FM2VhOf",
        "colab": {}
      },
      "source": [
        "for alpha in rates:\n",
        "    w = np.random.uniform(0, 1, (Xaug.shape[1]))  # make a random initial guess at the weights\n",
        "    for mi in MaxIter:\n",
        "        w,l = least_squares_grad_desc(Xaug, y, w, mi, alpha, online_epoch)\n",
        "        print(f\"  Rate={alpha}, MaxIter:{mi:7,d}; Loss={l:9.6f}:  w1={w[1]:9.6f}, w2={w[2]:9.6f}, b={w[0]:8.5f}\")\n",
        "    print()\n"
      ],
      "execution_count": 0,
      "outputs": []
    },
    {
      "cell_type": "markdown",
      "metadata": {
        "id": "m29tujWfY97n",
        "colab_type": "text"
      },
      "source": [
        "### Batch Gradient Descent"
      ]
    },
    {
      "cell_type": "code",
      "metadata": {
        "colab_type": "code",
        "id": "Vf1YmHkPVhOh",
        "colab": {}
      },
      "source": [
        "for alpha in rates:\n",
        "    w = np.random.uniform(0, 1, (Xaug.shape[1]))  # make a random initial guess at the weights\n",
        "    for mi in MaxIter:\n",
        "        w,l = least_squares_grad_desc(Xaug, y, w, mi, alpha, batch_update)\n",
        "        print(f\"  Rate={alpha}, MaxIter:{mi:7,d}; Loss={l:9.6f}:  w1={w[1]:9.6f}, w2={w[2]:9.6f}, b={w[0]:8.5f}\")\n",
        "    print()"
      ],
      "execution_count": 0,
      "outputs": []
    },
    {
      "cell_type": "markdown",
      "metadata": {
        "id": "_KLLhZspY1Me",
        "colab_type": "text"
      },
      "source": [
        "### Mini-Batch Gradient Descent"
      ]
    },
    {
      "cell_type": "code",
      "metadata": {
        "id": "Oto8snnoYvZV",
        "colab_type": "code",
        "colab": {}
      },
      "source": [
        "for alpha in rates:\n",
        "    w = np.random.uniform(0, 1, (Xaug.shape[1]))  # make a random initial guess at the weights\n",
        "    for mi in MaxIter:\n",
        "        w,l = least_squares_grad_desc(Xaug, y, w, mi, alpha, mini_batch_update, 32)\n",
        "        print(f\"  Rate={alpha}, MaxIter:{mi:7,d}; Loss={l:9.6f}:  w1={w[1]:9.6f}, w2={w[2]:9.6f}, b={w[0]:8.5f}\")\n",
        "    print()"
      ],
      "execution_count": 0,
      "outputs": []
    },
    {
      "cell_type": "markdown",
      "metadata": {
        "colab_type": "text",
        "id": "mMNxMJJdVhOj"
      },
      "source": [
        "(B) What settings worked well for you:  online vs. batch vs. minibatch? What step size? How did you decide to terminate?"
      ]
    },
    {
      "cell_type": "code",
      "metadata": {
        "colab_type": "code",
        "id": "PyFSefo3VhOk",
        "colab": {}
      },
      "source": [
        ""
      ],
      "execution_count": 0,
      "outputs": []
    },
    {
      "cell_type": "markdown",
      "metadata": {
        "colab_type": "text",
        "id": "bXxAjKTtVhOm"
      },
      "source": [
        "(C) Make a graph of error on the entire data set as a function of epoch. An epoch is a complete sweep through all the data (which is one iteration for full-batch gradient descent)."
      ]
    },
    {
      "cell_type": "code",
      "metadata": {
        "colab_type": "code",
        "id": "j3rvqIrYVhOn",
        "colab": {}
      },
      "source": [
        ""
      ],
      "execution_count": 0,
      "outputs": []
    },
    {
      "cell_type": "markdown",
      "metadata": {
        "colab_type": "text",
        "id": "u2WH5OVEVhOp"
      },
      "source": [
        "## Part 3"
      ]
    },
    {
      "cell_type": "markdown",
      "metadata": {
        "colab_type": "text",
        "id": "POTbQx4cVhOp"
      },
      "source": [
        "The data set from a regression problem can be converted into a classification problem simply by using the sign of (+ or -) as representing one of two classes. In the data set used in Part 1 and 2, you'll see the variable z that represents this binary (0 or 1) class.\n",
        "\n",
        "Use the perceptron learning rule to solve for the coefficients {$w_1$, $w_2$, $b$} of this classification problem.   \n",
        "\n",
        "Two warnings: First, your solution to Part 3 should require only a few lines of code changed from the code you wrote for Part 2. Second, the Perceptron algorithm will not converge if there is no exact solution to the training data. It will jitter among coefficients that all yield roughly equally good solutions."
      ]
    },
    {
      "cell_type": "markdown",
      "metadata": {
        "colab_type": "text",
        "id": "Qs7gbsbjVhOq"
      },
      "source": [
        "Complete the following functions below and use them to answer questions (A) and (B). \n",
        "\n",
        "**Note:** Please do not change the interface of the given functions."
      ]
    },
    {
      "cell_type": "code",
      "metadata": {
        "colab_type": "code",
        "id": "anej2h2pVhOr",
        "colab": {}
      },
      "source": [
        "def perceptron_update(X, y, w):\n",
        "    \"\"\"\n",
        "    One epoch of Perceptron updates (full sweep of the dataset).\n",
        "    \n",
        "    Parameters\n",
        "    ----------\n",
        "    X : NumPy array of features (size : no of examples X features)\n",
        "    y : Numpy array of class labels (size : no of examples X 1)\n",
        "    w : array of coefficients from the previous iteration\n",
        "    \n",
        "    Returns\n",
        "    -------\n",
        "    w : Coefficients of the classifier (after updating)\n",
        "    incorrect : Incorrectly classified examples\n",
        "    \"\"\"\n",
        "    pass\n",
        "\n",
        "def perceptron(X, y, maxIter, alpha):\n",
        "    \"\"\"\n",
        "    Implements the Perceptron algorithm.\n",
        "    \n",
        "    Parameters\n",
        "    ----------\n",
        "    X : NumPy array of features (size : no of examples X features)\n",
        "    y : Numpy array of class labels (size : no of examples X 1)\n",
        "    maxIter : The maximum number of iterations allowed \n",
        "    alpha : Learning Rate\n",
        "    \n",
        "    Returns\n",
        "    -------\n",
        "    w : Coefficients of the classifier\n",
        "    incorrect : Incorrectly classified examples on termination\n",
        "    \"\"\"\n",
        "    pass"
      ],
      "execution_count": 0,
      "outputs": []
    },
    {
      "cell_type": "markdown",
      "metadata": {
        "colab_type": "text",
        "id": "CiM8viPnVhOt"
      },
      "source": [
        "(A) Report the values of coefficients $w_1$, $w_2$, and $b$."
      ]
    },
    {
      "cell_type": "code",
      "metadata": {
        "colab_type": "code",
        "id": "Jl1YoCt-VhOt",
        "colab": {}
      },
      "source": [
        ""
      ],
      "execution_count": 0,
      "outputs": []
    },
    {
      "cell_type": "markdown",
      "metadata": {
        "colab_type": "text",
        "id": "v9MObKUYVhOv"
      },
      "source": [
        "(B) Make a graph of the accuracy (% correct classification) on the training set as a function of epoch."
      ]
    },
    {
      "cell_type": "code",
      "metadata": {
        "colab_type": "code",
        "id": "x8yAplB5VhOw",
        "colab": {}
      },
      "source": [
        ""
      ],
      "execution_count": 0,
      "outputs": []
    },
    {
      "cell_type": "markdown",
      "metadata": {
        "colab_type": "text",
        "id": "AfXBONZZVhOy"
      },
      "source": [
        "## Part 4"
      ]
    },
    {
      "cell_type": "markdown",
      "metadata": {
        "colab_type": "text",
        "id": "zO2ij9gIVhOy"
      },
      "source": [
        "In machine learning, we really want to train a model based on some data and then expect the model to do well on \"out of sample\" data. Try this with the code you wrote for Part 3:  Train the model on the first {5, 10, 25, 50, 75} examples in the data set and test the model on the final 25 examples."
      ]
    },
    {
      "cell_type": "markdown",
      "metadata": {
        "colab_type": "text",
        "id": "F66-PYWKVhOz"
      },
      "source": [
        "Complete the following function below and use it to answer (A). \n",
        "\n",
        "**Note:** Please do not change the interface of the given function."
      ]
    },
    {
      "cell_type": "code",
      "metadata": {
        "colab_type": "code",
        "id": "3wseIfmUVhOz",
        "colab": {}
      },
      "source": [
        "def classify(X, y, w):\n",
        "    \"\"\"\n",
        "    Use this function to classify examples in the test set\n",
        "    \n",
        "    Parameters\n",
        "    ----------\n",
        "    X : Test set features\n",
        "    y : Test set labels\n",
        "    w : Perceptron coefficients\n",
        "    \n",
        "    Returns\n",
        "    -------\n",
        "    correct : number of correctly classified examples\n",
        "    \"\"\"\n",
        "    pass"
      ],
      "execution_count": 0,
      "outputs": []
    },
    {
      "cell_type": "markdown",
      "metadata": {
        "colab_type": "text",
        "id": "I3D_lEO8VhO3"
      },
      "source": [
        "How does performance on the test set vary with the amount of training data? Make a bar graph showing performance for each of the different training set sizes."
      ]
    },
    {
      "cell_type": "code",
      "metadata": {
        "colab_type": "code",
        "id": "0GrkjpYDVhO4",
        "colab": {}
      },
      "source": [
        ""
      ],
      "execution_count": 0,
      "outputs": []
    }
  ]
}