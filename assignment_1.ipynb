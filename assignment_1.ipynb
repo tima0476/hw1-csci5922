{
  "nbformat": 4,
  "nbformat_minor": 0,
  "metadata": {
    "colab": {
      "name": "assignment_1.ipynb",
      "provenance": [],
      "collapsed_sections": []
    },
    "kernelspec": {
      "name": "python3",
      "display_name": "Python 3"
    },
    "language_info": {
      "codemirror_mode": {
        "name": "ipython",
        "version": 3
      },
      "file_extension": ".py",
      "mimetype": "text/x-python",
      "name": "python",
      "nbconvert_exporter": "python",
      "pygments_lexer": "ipython3",
      "version": "3.7.6"
    },
    "accelerator": "GPU"
  },
  "cells": [
    {
      "cell_type": "markdown",
      "metadata": {
        "colab_type": "text",
        "id": "yI6QRw_VVhOI"
      },
      "source": [
        "# <center> Neural Networks and Deep Learning (CSCI 5922)</center>\n",
        "# <center> Spring 2020 </center>"
      ]
    },
    {
      "cell_type": "markdown",
      "metadata": {
        "colab_type": "text",
        "id": "oyyZSLCIVhOK"
      },
      "source": [
        "**Name:** Timothy Mason"
      ]
    },
    {
      "cell_type": "markdown",
      "metadata": {
        "colab_type": "text",
        "id": "B7u4l5SIVhOL"
      },
      "source": [
        "## Goal"
      ]
    },
    {
      "cell_type": "markdown",
      "metadata": {
        "colab_type": "text",
        "id": "O7mbNY0lVhOL"
      },
      "source": [
        "The goal of this assignment is to introduce neural networks in terms of ideas you are already familiar with:  linear regression and classification"
      ]
    },
    {
      "cell_type": "markdown",
      "metadata": {
        "colab_type": "text",
        "id": "7kNKcDdGDO4z"
      },
      "source": [
        "## Dataset"
      ]
    },
    {
      "cell_type": "markdown",
      "metadata": {
        "colab_type": "text",
        "id": "w-ZVWvA4VhON"
      },
      "source": [
        "You are given a dataset with 2 input variables ($x_1$, $x_2$) and an output variable ($y$)."
      ]
    },
    {
      "cell_type": "code",
      "metadata": {
        "colab_type": "code",
        "id": "qluUEgHYVhOO",
        "outputId": "4639934a-631e-4bff-db7f-29941157bf5c",
        "colab": {
          "base_uri": "https://localhost:8080/",
          "height": 34
        }
      },
      "source": [
        "from sklearn.datasets import make_regression\n",
        "from matplotlib import pyplot\n",
        "import numpy as np\n",
        "import os\n",
        "\n",
        "try:\n",
        "    from google.colab import drive\n",
        "    drive.mount('/content/drive', force_remount=True)\n",
        "\n",
        "    # Load data from gDrive\n",
        "    data = np.loadtxt(os.path.join('/content/drive/My Drive/spring2020/hw1-csci5922/data', 'assign1_data.txt'),  delimiter=',')\n",
        "except:\n",
        "    # Load data - relative path from notebook\n",
        "    data = np.loadtxt(os.path.join('data', 'assign1_data.txt'),  delimiter=',')\n",
        "    \n",
        "X = data[:,:2]\n",
        "y = data[:, 2]\n",
        "z = data[:, 3]"
      ],
      "execution_count": 61,
      "outputs": [
        {
          "output_type": "stream",
          "text": [
            "Mounted at /content/drive\n"
          ],
          "name": "stdout"
        }
      ]
    },
    {
      "cell_type": "markdown",
      "metadata": {
        "colab_type": "text",
        "id": "ZiLhj-CvVhOQ"
      },
      "source": [
        "## Part 1"
      ]
    },
    {
      "cell_type": "markdown",
      "metadata": {
        "colab_type": "text",
        "id": "1zNUNcC0VhOR"
      },
      "source": [
        "Write a program to find the exact least squares solution to $y = w_1 x_1 + w_2 x_2 + b$ for the above dataset, using the normal equation."
      ]
    },
    {
      "cell_type": "markdown",
      "metadata": {
        "colab_type": "text",
        "id": "txzccR6-VhOS"
      },
      "source": [
        "Complete the following function below and use it to answer questions (A) and (B). \n",
        "\n",
        "**Note:** Please do not change the interface of the given function."
      ]
    },
    {
      "cell_type": "code",
      "metadata": {
        "colab_type": "code",
        "id": "gFAcJL6VVhOS",
        "colab": {}
      },
      "source": [
        "def least_squares(X, y):\n",
        "    \"\"\"\n",
        "    Finds the Least Squares solution\n",
        "    \n",
        "    Parameters\n",
        "    ----------\n",
        "    X : NumPy array of features (size : no of examples X features)\n",
        "    y : Numpy array of output value 'y' (size : no of examples X 1)\n",
        "    \n",
        "    Returns\n",
        "    -------\n",
        "    w : solution array\n",
        "    \"\"\"\n",
        "\n",
        "    # From the text:  \"Instead of adding the bias parameter b, one can continue to use \n",
        "    # the model with only weights but augment x with an extra entry that is always set \n",
        "    # to 1. The weight corresponding to the extra 1 entry plays the role of the bias \n",
        "    # parameter.\"\n",
        "\n",
        "    X = np.c_[np.ones((X.shape[0],1)), X]   # Augment X's with extra 1's\n",
        "\n",
        "    # Calculate the normal equation.\n",
        "    w = np.linalg.inv(X.T @ X) @ X.T @ y\n",
        "\n",
        "    return w"
      ],
      "execution_count": 0,
      "outputs": []
    },
    {
      "cell_type": "markdown",
      "metadata": {
        "colab_type": "text",
        "id": "ZcO-nAfxVhOV"
      },
      "source": [
        "(A) Report the values of $w_1$, $w_2$, and $b$."
      ]
    },
    {
      "cell_type": "code",
      "metadata": {
        "colab_type": "code",
        "id": "5sXuI05yVhOV",
        "outputId": "730de7df-a10b-47e4-e465-2d5cbb5bc6f5",
        "colab": {
          "base_uri": "https://localhost:8080/",
          "height": 68
        }
      },
      "source": [
        "w = least_squares(X, y)\n",
        "print(f\"w_1 = {w[1]}\\nw_2 = {w[2]}\\n  b = {w[0]}\")"
      ],
      "execution_count": 63,
      "outputs": [
        {
          "output_type": "stream",
          "text": [
            "w_1 = -2.0442425951376353\n",
            "w_2 = 3.996860168659322\n",
            "  b = -0.9242908118675891\n"
          ],
          "name": "stdout"
        }
      ]
    },
    {
      "cell_type": "markdown",
      "metadata": {
        "colab_type": "text",
        "id": "S-jYwaEbVhOY"
      },
      "source": [
        "(B) What function or method did you use to find the least-squares solution?"
      ]
    },
    {
      "cell_type": "markdown",
      "metadata": {
        "colab_type": "text",
        "id": "OF8A7mYEVhOY"
      },
      "source": [
        "> The linear regression was calculated using the equation: \n",
        "> \n",
        "> $$\\mathbf{w} = \\left( \\mathbf{X}^\\top \\mathbf{X} \\right)^{-1} \\mathbf{X}^\\top \\mathbf{y}$$\n",
        "> \n",
        "> \n",
        "> The vector $\\mathbf{w}$ provides the weight coefficients for the prediction $\\hat{y}$:\n",
        "> \n",
        "> $$ \\hat{y} = \\mathbf{w}^\\top \\mathbf{x} = w_1 x_1 + w_2 x_2 + \\ldots + w_m x_m$$\n",
        "> \n",
        "> \n",
        "> Note that the requirement was to find the exact least squares solution to $y = w_1 x_1 + w_2 x_2 + b$.  \n",
        ">\n",
        "> To find the $b$ term, an extra column of 1's was inserted as the leftmost column of the $\\mathbf{X}$ matrix,\n",
        "> which adds a new term $x_0 = 1$.  This caused the normal \n",
        "> equation to solve for \n",
        "> \n",
        "> $$\n",
        "\\begin{split}\n",
        "    \\hat{y} = \\mathbf{w}^\\top \\mathbf{x} & =  w_0 x_0 + w_1 x_1 + w_2 x_2 \\\\\n",
        "    \\\\\n",
        "    \\text{Note that we set } x_0 = 1 \\text{, therefore: } \\hat{y} & = w_0 + w_1 x_1 + w_2 x_2 \\\\\n",
        "    \\\\\n",
        "    \\text{Let }w_0=b\\text{, and we have: } \\hat{y} & = w_1 x_1 + w_2 x_2 + b\n",
        "\\end{split}\n",
        "$$\n",
        ">"
      ]
    },
    {
      "cell_type": "markdown",
      "metadata": {
        "colab_type": "text",
        "id": "_qNGRMnLVhOZ"
      },
      "source": [
        "## Part 2"
      ]
    },
    {
      "cell_type": "markdown",
      "metadata": {
        "colab_type": "text",
        "id": "K2C1Pj1xVhOZ"
      },
      "source": [
        "Implement linear regression of y on X via first-order optimization of the least-squares objective. Write a program that determines the coefficients {w1,w2,b}. Implement stochastic gradient descent, batch gradient descent, and mini-batch gradient descent. You will need to experiment with updating rules, step sizes (i.e. learning rates), stopping criteria, etc. Experiment to find settings that lead to solutions with the fewest number of sweeps through the data."
      ]
    },
    {
      "cell_type": "markdown",
      "metadata": {
        "colab_type": "text",
        "id": "Dz9LPxNsVhOa"
      },
      "source": [
        "Complete the following functions below and use them to answer questions (A), (B) and (C). You may find the shuffle function from scikit-learn useful. \n",
        "\n",
        "Use the following hyperparameters:\n",
        "\n",
        "Learning rates = [0.001, 0.05, 0.01, 0.05, 0.1, 0.3]\n",
        "\n",
        "MaxIter = [10, 50, 100, 500, 1000, 5000, 10000, 25000, 50000]\n",
        "\n",
        "**Note:** Please do not change the interface of the given functions."
      ]
    },
    {
      "cell_type": "code",
      "metadata": {
        "colab_type": "code",
        "id": "9rCKocs6VhOb",
        "colab": {}
      },
      "source": [
        "from sklearn.utils import shuffle\n",
        "\n",
        "def online_epoch(X, y, w, rate):\n",
        "    \"\"\"\n",
        "    One epoch of stochastic gradient descent (i.e. one sweep of the dataset).\n",
        "    \n",
        "    Parameters\n",
        "    ----------\n",
        "    X : NumPy array of features (size : no of examples X features)\n",
        "    y : Numpy array of class labels (size : no of examples X 1)\n",
        "    w : array of coefficients from the previous iteration\n",
        "    \n",
        "    Returns\n",
        "    -------\n",
        "    a tuple containing Coefficients of the model (after updating) and the loss\n",
        "    \"\"\"\n",
        "    # Iterate through the training set, updating the model after each example is evaluated\n",
        "    # for x in X:\n",
        "\n",
        "\n",
        "\n",
        "    # make a prediction with our current set of weights (full training set)\n",
        "    y_hat = X @ w\n",
        "\n",
        "    # compute the error (full training set)\n",
        "    err = y - y_hat\n",
        "\n",
        "    # # compute the gradient (full training set)\n",
        "    N = X.shape[0]\n",
        "    grad = (X.T @ err) * -2.0 / N\n",
        "\n",
        "    # Now we've evaluated the entire training set, update the model\n",
        "    w -= alpha*grad\n",
        "\n",
        "    # Return the updated weights and the loss.\n",
        "    return (w,np.average(err**2))\n",
        "\n",
        "\n",
        "def batch_update(X, y, w, alpha):\n",
        "    \"\"\"\n",
        "    One iteration of full-batch gradient descent.\n",
        "    \n",
        "    Parameters\n",
        "    ----------\n",
        "    X : NumPy array of features (size : no of examples X features)\n",
        "    y : Numpy array of class labels (size : no of examples X 1)\n",
        "    w : array of coefficients from the previous iteration\n",
        "    alpha : Learning rate\n",
        "    \n",
        "    Returns\n",
        "    -------\n",
        "    a tuple containing Coefficients of the model (after updating) and the loss\n",
        "    \"\"\"\n",
        "    # make a prediction with our current set of weights (full training set)\n",
        "    y_hat = X @ w\n",
        "\n",
        "    # compute the error (full training set)\n",
        "    err = y - y_hat\n",
        "\n",
        "    # # compute the gradient (full training set)\n",
        "    N = X.shape[0]\n",
        "    grad = (X.T @ err) * -2.0 / N\n",
        "\n",
        "    # Now we've evaluated the entire training set, update the model\n",
        "    w -= alpha*grad\n",
        "\n",
        "    # Return the updated weights and the loss.\n",
        "    return (w,np.average(err**2))\n",
        "\n",
        "def mini_batch_update(X, y, w, batch_size):\n",
        "    \"\"\"\n",
        "    One epoch of mini-batch SGD over the entire dataset (i.e. one sweep of the dataset).\n",
        "    \n",
        "    Parameters\n",
        "    ----------\n",
        "    X : NumPy array of features (size : no of examples X features)\n",
        "    y : Numpy array of class labels (size : no of examples X 1)\n",
        "    w : array of coefficients from the previous iteration\n",
        "    batch_size : size of the batch for gradient update\n",
        "    \n",
        "    Returns\n",
        "    -------\n",
        "    a tuple containing Coefficients of the model (after updating) and the loss\n",
        "    \"\"\"\n",
        "    pass\n",
        "\n",
        "def least_squares_grad_desc(X, y, w, maxIter, alpha, update, *batch_size):\n",
        "    \"\"\"\n",
        "    Implements least squares with gradient descent.\n",
        "    \n",
        "    Parameters\n",
        "    ----------\n",
        "    X : NumPy array of features (size : no of examples X features)\n",
        "    y : Numpy array of class labels (size : no of examples X 1)\n",
        "    w : array of coefficients from the previous iteration\n",
        "    maxIter : Maximum number of iterations allowed\n",
        "    alpha : Learning rate\n",
        "    update : update function to utilize (one of online, batch, mini-batch)\n",
        "    batch_size : number of examples in a batch (only useful when update = mini_batch_update)\n",
        "    \n",
        "    Returns\n",
        "    -------\n",
        "    a tuple containing Coefficients of the model (after updating) and the loss\n",
        "    \n",
        "    Note : *batch_size is an optional argument and only to be used when doing mini-batch Gradient Descent \n",
        "    \"\"\"\n",
        "    for i in range(maxIter):\n",
        "        w,l = update(X, y, w, alpha)\n",
        "\n",
        "    return (w,l)\n"
      ],
      "execution_count": 0,
      "outputs": []
    },
    {
      "cell_type": "markdown",
      "metadata": {
        "colab_type": "text",
        "id": "zYMi7e8ZVhOd"
      },
      "source": [
        "(A) Report the values of $w_1$, $w_2$, and $b$. "
      ]
    },
    {
      "cell_type": "markdown",
      "metadata": {
        "id": "Mf9cfn14n3EF",
        "colab_type": "text"
      },
      "source": [
        ""
      ]
    },
    {
      "cell_type": "code",
      "metadata": {
        "colab_type": "code",
        "id": "uJ2UpCAbVhOd",
        "colab": {
          "base_uri": "https://localhost:8080/",
          "height": 1000
        },
        "outputId": "730c931b-4ebb-4c30-aadb-d3fa30190c1d"
      },
      "source": [
        "rates = [0.001, 0.05, 0.01, 0.05, 0.1, 0.3]\n",
        "MaxIter = [10, 50, 100, 500, 1000, 5000, 10000, 25000, 50000]\n",
        "\n",
        "Xaug = np.c_[np.ones((X.shape[0],1)), X]   # Augment X's with extra 1's for the bias term\n",
        "print(\"Batch gradient descent:\")\n",
        "for alpha in rates:\n",
        "    w = np.random.uniform(0, 1, (Xaug.shape[1]))  # make a random initial guess at the weights\n",
        "    for mi in MaxIter:\n",
        "        w,l = least_squares_grad_desc(Xaug, y, w, mi, alpha, batch_update)\n",
        "        print(f\"  Rate={alpha}, MaxIter:{mi:7,d}; Loss={l:9.6f}:  w1={w[1]:9.6f}, w2={w[2]:9.6f}, b={w[0]:8.5f}\")\n",
        "    print()\n"
      ],
      "execution_count": 70,
      "outputs": [
        {
          "output_type": "stream",
          "text": [
            "Batch gradient descent:\n",
            "  Rate=0.001, MaxIter:     10; Loss= 1.801878:  w1= 0.384192, w2= 0.621519, b= 0.36480\n",
            "  Rate=0.001, MaxIter:     50; Loss= 1.654371:  w1= 0.337045, w2= 0.611517, b= 0.29400\n",
            "  Rate=0.001, MaxIter:    100; Loss= 1.450892:  w1= 0.255283, w2= 0.604119, b= 0.17819\n",
            "  Rate=0.001, MaxIter:    500; Loss= 1.096335:  w1=-0.008667, w2= 0.706352, b=-0.10785\n",
            "  Rate=0.001, MaxIter:  1,000; Loss= 0.838898:  w1=-0.309643, w2= 1.079593, b=-0.25813\n",
            "  Rate=0.001, MaxIter:  5,000; Loss= 0.249283:  w1=-1.201497, w2= 2.479359, b=-0.55260\n",
            "  Rate=0.001, MaxIter: 10,000; Loss= 0.054070:  w1=-1.847039, w2= 3.585203, b=-0.80855\n",
            "  Rate=0.001, MaxIter: 25,000; Loss= 0.039429:  w1=-2.039511, w2= 3.980721, b=-0.91833\n",
            "  Rate=0.001, MaxIter: 50,000; Loss= 0.039409:  w1=-2.044243, w2= 3.996833, b=-0.92428\n",
            "\n",
            "  Rate=0.05, MaxIter:     10; Loss= 1.205808:  w1=-0.079517, w2= 0.541558, b= 0.06533\n",
            "  Rate=0.05, MaxIter:     50; Loss= 0.618369:  w1=-0.714907, w2= 1.465837, b=-0.26808\n",
            "  Rate=0.05, MaxIter:    100; Loss= 0.191965:  w1=-1.403578, w2= 2.680852, b=-0.55915\n",
            "  Rate=0.05, MaxIter:    500; Loss= 0.039618:  w1=-2.028974, w2= 3.945858, b=-0.90560\n",
            "  Rate=0.05, MaxIter:  1,000; Loss= 0.039409:  w1=-2.044244, w2= 3.996776, b=-0.92425\n",
            "  Rate=0.05, MaxIter:  5,000; Loss= 0.039409:  w1=-2.044243, w2= 3.996860, b=-0.92429\n",
            "  Rate=0.05, MaxIter: 10,000; Loss= 0.039409:  w1=-2.044243, w2= 3.996860, b=-0.92429\n",
            "  Rate=0.05, MaxIter: 25,000; Loss= 0.039409:  w1=-2.044243, w2= 3.996860, b=-0.92429\n",
            "  Rate=0.05, MaxIter: 50,000; Loss= 0.039409:  w1=-2.044243, w2= 3.996860, b=-0.92429\n",
            "\n",
            "  Rate=0.01, MaxIter:     10; Loss= 1.630188:  w1= 0.392767, w2= 0.782234, b= 0.19685\n",
            "  Rate=0.01, MaxIter:     50; Loss= 1.076654:  w1= 0.080001, w2= 0.830740, b=-0.17538\n",
            "  Rate=0.01, MaxIter:    100; Loss= 0.814822:  w1=-0.241761, w2= 1.179027, b=-0.33916\n",
            "  Rate=0.01, MaxIter:    500; Loss= 0.241800:  w1=-1.166086, w2= 2.533552, b=-0.59696\n",
            "  Rate=0.01, MaxIter:  1,000; Loss= 0.053375:  w1=-1.837170, w2= 3.601426, b=-0.82149\n",
            "  Rate=0.01, MaxIter:  5,000; Loss= 0.039409:  w1=-2.044144, w2= 3.996245, b=-0.92402\n",
            "  Rate=0.01, MaxIter: 10,000; Loss= 0.039409:  w1=-2.044243, w2= 3.996860, b=-0.92429\n",
            "  Rate=0.01, MaxIter: 25,000; Loss= 0.039409:  w1=-2.044243, w2= 3.996860, b=-0.92429\n",
            "  Rate=0.01, MaxIter: 50,000; Loss= 0.039409:  w1=-2.044243, w2= 3.996860, b=-0.92429\n",
            "\n",
            "  Rate=0.05, MaxIter:     10; Loss= 1.125461:  w1=-0.113186, w2= 0.704165, b= 0.01555\n",
            "  Rate=0.05, MaxIter:     50; Loss= 0.572722:  w1=-0.741220, w2= 1.579428, b=-0.31335\n",
            "  Rate=0.05, MaxIter:    100; Loss= 0.179697:  w1=-1.415338, w2= 2.740510, b=-0.58390\n",
            "  Rate=0.05, MaxIter:    500; Loss= 0.039599:  w1=-2.029066, w2= 3.948284, b=-0.90679\n",
            "  Rate=0.05, MaxIter:  1,000; Loss= 0.039409:  w1=-2.044244, w2= 3.996781, b=-0.92425\n",
            "  Rate=0.05, MaxIter:  5,000; Loss= 0.039409:  w1=-2.044243, w2= 3.996860, b=-0.92429\n",
            "  Rate=0.05, MaxIter: 10,000; Loss= 0.039409:  w1=-2.044243, w2= 3.996860, b=-0.92429\n",
            "  Rate=0.05, MaxIter: 25,000; Loss= 0.039409:  w1=-2.044243, w2= 3.996860, b=-0.92429\n",
            "  Rate=0.05, MaxIter: 50,000; Loss= 0.039409:  w1=-2.044243, w2= 3.996860, b=-0.92429\n",
            "\n",
            "  Rate=0.1, MaxIter:     10; Loss= 1.259244:  w1= 0.214694, w2= 0.523462, b=-0.20850\n",
            "  Rate=0.1, MaxIter:     50; Loss= 0.354678:  w1=-0.949994, w2= 2.198559, b=-0.52917\n",
            "  Rate=0.1, MaxIter:    100; Loss= 0.060771:  w1=-1.788275, w2= 3.514939, b=-0.80071\n",
            "  Rate=0.1, MaxIter:    500; Loss= 0.039409:  w1=-2.044125, w2= 3.996139, b=-0.92398\n",
            "  Rate=0.1, MaxIter:  1,000; Loss= 0.039409:  w1=-2.044243, w2= 3.996860, b=-0.92429\n",
            "  Rate=0.1, MaxIter:  5,000; Loss= 0.039409:  w1=-2.044243, w2= 3.996860, b=-0.92429\n",
            "  Rate=0.1, MaxIter: 10,000; Loss= 0.039409:  w1=-2.044243, w2= 3.996860, b=-0.92429\n",
            "  Rate=0.1, MaxIter: 25,000; Loss= 0.039409:  w1=-2.044243, w2= 3.996860, b=-0.92429\n",
            "  Rate=0.1, MaxIter: 50,000; Loss= 0.039409:  w1=-2.044243, w2= 3.996860, b=-0.92429\n",
            "\n",
            "  Rate=0.3, MaxIter:     10; Loss= 0.679856:  w1=-0.513650, w2= 1.510624, b=-0.38644\n",
            "  Rate=0.3, MaxIter:     50; Loss= 0.050141:  w1=-1.877261, w2= 3.660530, b=-0.83251\n",
            "  Rate=0.3, MaxIter:    100; Loss= 0.039412:  w1=-2.042548, w2= 3.990468, b=-0.92184\n",
            "  Rate=0.3, MaxIter:    500; Loss= 0.039409:  w1=-2.044243, w2= 3.996860, b=-0.92429\n",
            "  Rate=0.3, MaxIter:  1,000; Loss= 0.039409:  w1=-2.044243, w2= 3.996860, b=-0.92429\n",
            "  Rate=0.3, MaxIter:  5,000; Loss= 0.039409:  w1=-2.044243, w2= 3.996860, b=-0.92429\n",
            "  Rate=0.3, MaxIter: 10,000; Loss= 0.039409:  w1=-2.044243, w2= 3.996860, b=-0.92429\n",
            "  Rate=0.3, MaxIter: 25,000; Loss= 0.039409:  w1=-2.044243, w2= 3.996860, b=-0.92429\n",
            "  Rate=0.3, MaxIter: 50,000; Loss= 0.039409:  w1=-2.044243, w2= 3.996860, b=-0.92429\n",
            "\n"
          ],
          "name": "stdout"
        }
      ]
    },
    {
      "cell_type": "code",
      "metadata": {
        "colab_type": "code",
        "id": "WWht3FM2VhOf",
        "colab": {}
      },
      "source": [
        ""
      ],
      "execution_count": 0,
      "outputs": []
    },
    {
      "cell_type": "code",
      "metadata": {
        "colab_type": "code",
        "id": "Vf1YmHkPVhOh",
        "colab": {}
      },
      "source": [
        ""
      ],
      "execution_count": 0,
      "outputs": []
    },
    {
      "cell_type": "markdown",
      "metadata": {
        "colab_type": "text",
        "id": "mMNxMJJdVhOj"
      },
      "source": [
        "(B) What settings worked well for you:  online vs. batch vs. minibatch? What step size? How did you decide to terminate?"
      ]
    },
    {
      "cell_type": "code",
      "metadata": {
        "colab_type": "code",
        "id": "PyFSefo3VhOk",
        "colab": {}
      },
      "source": [
        ""
      ],
      "execution_count": 0,
      "outputs": []
    },
    {
      "cell_type": "markdown",
      "metadata": {
        "colab_type": "text",
        "id": "bXxAjKTtVhOm"
      },
      "source": [
        "(C) Make a graph of error on the entire data set as a function of epoch. An epoch is a complete sweep through all the data (which is one iteration for full-batch gradient descent)."
      ]
    },
    {
      "cell_type": "code",
      "metadata": {
        "colab_type": "code",
        "id": "j3rvqIrYVhOn",
        "colab": {}
      },
      "source": [
        ""
      ],
      "execution_count": 0,
      "outputs": []
    },
    {
      "cell_type": "markdown",
      "metadata": {
        "colab_type": "text",
        "id": "u2WH5OVEVhOp"
      },
      "source": [
        "## Part 3"
      ]
    },
    {
      "cell_type": "markdown",
      "metadata": {
        "colab_type": "text",
        "id": "POTbQx4cVhOp"
      },
      "source": [
        "The data set from a regression problem can be converted into a classification problem simply by using the sign of (+ or -) as representing one of two classes. In the data set used in Part 1 and 2, you'll see the variable z that represents this binary (0 or 1) class.\n",
        "\n",
        "Use the perceptron learning rule to solve for the coefficients {$w_1$, $w_2$, $b$} of this classification problem.   \n",
        "\n",
        "Two warnings: First, your solution to Part 3 should require only a few lines of code changed from the code you wrote for Part 2. Second, the Perceptron algorithm will not converge if there is no exact solution to the training data. It will jitter among coefficients that all yield roughly equally good solutions."
      ]
    },
    {
      "cell_type": "markdown",
      "metadata": {
        "colab_type": "text",
        "id": "Qs7gbsbjVhOq"
      },
      "source": [
        "Complete the following functions below and use them to answer questions (A) and (B). \n",
        "\n",
        "**Note:** Please do not change the interface of the given functions."
      ]
    },
    {
      "cell_type": "code",
      "metadata": {
        "colab_type": "code",
        "id": "anej2h2pVhOr",
        "colab": {}
      },
      "source": [
        "def perceptron_update(X, y, w):\n",
        "    \"\"\"\n",
        "    One epoch of Perceptron updates (full sweep of the dataset).\n",
        "    \n",
        "    Parameters\n",
        "    ----------\n",
        "    X : NumPy array of features (size : no of examples X features)\n",
        "    y : Numpy array of class labels (size : no of examples X 1)\n",
        "    w : array of coefficients from the previous iteration\n",
        "    \n",
        "    Returns\n",
        "    -------\n",
        "    w : Coefficients of the classifier (after updating)\n",
        "    incorrect : Incorrectly classified examples\n",
        "    \"\"\"\n",
        "    pass\n",
        "\n",
        "def perceptron(X, y, maxIter, alpha):\n",
        "    \"\"\"\n",
        "    Implements the Perceptron algorithm.\n",
        "    \n",
        "    Parameters\n",
        "    ----------\n",
        "    X : NumPy array of features (size : no of examples X features)\n",
        "    y : Numpy array of class labels (size : no of examples X 1)\n",
        "    maxIter : The maximum number of iterations allowed \n",
        "    alpha : Learning Rate\n",
        "    \n",
        "    Returns\n",
        "    -------\n",
        "    w : Coefficients of the classifier\n",
        "    incorrect : Incorrectly classified examples on termination\n",
        "    \"\"\"\n",
        "    pass"
      ],
      "execution_count": 0,
      "outputs": []
    },
    {
      "cell_type": "markdown",
      "metadata": {
        "colab_type": "text",
        "id": "CiM8viPnVhOt"
      },
      "source": [
        "(A) Report the values of coefficients $w_1$, $w_2$, and $b$."
      ]
    },
    {
      "cell_type": "code",
      "metadata": {
        "colab_type": "code",
        "id": "Jl1YoCt-VhOt",
        "colab": {}
      },
      "source": [
        ""
      ],
      "execution_count": 0,
      "outputs": []
    },
    {
      "cell_type": "markdown",
      "metadata": {
        "colab_type": "text",
        "id": "v9MObKUYVhOv"
      },
      "source": [
        "(B) Make a graph of the accuracy (% correct classification) on the training set as a function of epoch."
      ]
    },
    {
      "cell_type": "code",
      "metadata": {
        "colab_type": "code",
        "id": "x8yAplB5VhOw",
        "colab": {}
      },
      "source": [
        ""
      ],
      "execution_count": 0,
      "outputs": []
    },
    {
      "cell_type": "markdown",
      "metadata": {
        "colab_type": "text",
        "id": "AfXBONZZVhOy"
      },
      "source": [
        "## Part 4"
      ]
    },
    {
      "cell_type": "markdown",
      "metadata": {
        "colab_type": "text",
        "id": "zO2ij9gIVhOy"
      },
      "source": [
        "In machine learning, we really want to train a model based on some data and then expect the model to do well on \"out of sample\" data. Try this with the code you wrote for Part 3:  Train the model on the first {5, 10, 25, 50, 75} examples in the data set and test the model on the final 25 examples."
      ]
    },
    {
      "cell_type": "markdown",
      "metadata": {
        "colab_type": "text",
        "id": "F66-PYWKVhOz"
      },
      "source": [
        "Complete the following function below and use it to answer (A). \n",
        "\n",
        "**Note:** Please do not change the interface of the given function."
      ]
    },
    {
      "cell_type": "code",
      "metadata": {
        "colab_type": "code",
        "id": "3wseIfmUVhOz",
        "colab": {}
      },
      "source": [
        "def classify(X, y, w):\n",
        "    \"\"\"\n",
        "    Use this function to classify examples in the test set\n",
        "    \n",
        "    Parameters\n",
        "    ----------\n",
        "    X : Test set features\n",
        "    y : Test set labels\n",
        "    w : Perceptron coefficients\n",
        "    \n",
        "    Returns\n",
        "    -------\n",
        "    correct : number of correctly classified examples\n",
        "    \"\"\"\n",
        "    pass"
      ],
      "execution_count": 0,
      "outputs": []
    },
    {
      "cell_type": "markdown",
      "metadata": {
        "colab_type": "text",
        "id": "I3D_lEO8VhO3"
      },
      "source": [
        "How does performance on the test set vary with the amount of training data? Make a bar graph showing performance for each of the different training set sizes."
      ]
    },
    {
      "cell_type": "code",
      "metadata": {
        "colab_type": "code",
        "id": "0GrkjpYDVhO4",
        "colab": {}
      },
      "source": [
        ""
      ],
      "execution_count": 0,
      "outputs": []
    }
  ]
}